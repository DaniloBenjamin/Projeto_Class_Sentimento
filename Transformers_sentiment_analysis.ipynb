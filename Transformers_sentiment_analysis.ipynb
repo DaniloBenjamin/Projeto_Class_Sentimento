{
  "cells": [
    {
      "cell_type": "code",
      "execution_count": 1,
      "metadata": {
        "id": "Avr6DgH4_B8f",
        "colab": {
          "base_uri": "https://localhost:8080/"
        },
        "outputId": "65682826-6c9c-411b-fa83-86255ccd5876"
      },
      "outputs": [
        {
          "output_type": "stream",
          "name": "stdout",
          "text": [
            "\u001b[?25l     \u001b[90m━━━━━━━━━━━━━━━━━━━━━━━━━━━━━━━━━━━━━━━━\u001b[0m \u001b[32m0.0/1.6 MB\u001b[0m \u001b[31m?\u001b[0m eta \u001b[36m-:--:--\u001b[0m\r\u001b[2K     \u001b[91m━━━━\u001b[0m\u001b[90m╺\u001b[0m\u001b[90m━━━━━━━━━━━━━━━━━━━━━━━━━━━━━━━━━━━\u001b[0m \u001b[32m0.2/1.6 MB\u001b[0m \u001b[31m5.3 MB/s\u001b[0m eta \u001b[36m0:00:01\u001b[0m\r\u001b[2K     \u001b[91m━━━━━━━━━━\u001b[0m\u001b[91m╸\u001b[0m\u001b[90m━━━━━━━━━━━━━━━━━━━━━━━━━━━━━\u001b[0m \u001b[32m0.4/1.6 MB\u001b[0m \u001b[31m6.5 MB/s\u001b[0m eta \u001b[36m0:00:01\u001b[0m\r\u001b[2K     \u001b[91m━━━━━━━━━━━━━━━━━━\u001b[0m\u001b[91m╸\u001b[0m\u001b[90m━━━━━━━━━━━━━━━━━━━━━\u001b[0m \u001b[32m0.7/1.6 MB\u001b[0m \u001b[31m7.3 MB/s\u001b[0m eta \u001b[36m0:00:01\u001b[0m\r\u001b[2K     \u001b[91m━━━━━━━━━━━━━━━━━━━━━━━━━━━━\u001b[0m\u001b[90m╺\u001b[0m\u001b[90m━━━━━━━━━━━\u001b[0m \u001b[32m1.1/1.6 MB\u001b[0m \u001b[31m8.1 MB/s\u001b[0m eta \u001b[36m0:00:01\u001b[0m\r\u001b[2K     \u001b[91m━━━━━━━━━━━━━━━━━━━━━━━━━━━━━━━━━━━━━━\u001b[0m\u001b[90m╺\u001b[0m\u001b[90m━\u001b[0m \u001b[32m1.5/1.6 MB\u001b[0m \u001b[31m8.8 MB/s\u001b[0m eta \u001b[36m0:00:01\u001b[0m\r\u001b[2K     \u001b[90m━━━━━━━━━━━━━━━━━━━━━━━━━━━━━━━━━━━━━━━━\u001b[0m \u001b[32m1.6/1.6 MB\u001b[0m \u001b[31m8.2 MB/s\u001b[0m eta \u001b[36m0:00:00\u001b[0m\n",
            "\u001b[?25h"
          ]
        }
      ],
      "source": [
        "!pip install -q -U watermark"
      ]
    },
    {
      "cell_type": "code",
      "execution_count": 2,
      "metadata": {
        "id": "9soAjmK7_B8g"
      },
      "outputs": [],
      "source": [
        "!pip install -q spacy"
      ]
    },
    {
      "cell_type": "code",
      "execution_count": 3,
      "metadata": {
        "id": "iathhTFF_B8g"
      },
      "outputs": [],
      "source": [
        "!pip install -q tensorflow"
      ]
    },
    {
      "cell_type": "code",
      "execution_count": 4,
      "metadata": {
        "id": "REFEXI--_B8g"
      },
      "outputs": [],
      "source": [
        "!pip install -q transformers"
      ]
    },
    {
      "cell_type": "code",
      "execution_count": 5,
      "metadata": {
        "colab": {
          "base_uri": "https://localhost:8080/"
        },
        "id": "XpP6xKN__B8g",
        "outputId": "3a8f2d53-b569-4634-b339-9858cb715fe9"
      },
      "outputs": [
        {
          "output_type": "stream",
          "name": "stdout",
          "text": [
            "env: TF_CPP_MIN_LOG_LEVEL=3\n"
          ]
        }
      ],
      "source": [
        "%env TF_CPP_MIN_LOG_LEVEL=3"
      ]
    },
    {
      "cell_type": "code",
      "execution_count": 6,
      "metadata": {
        "id": "mrIhYRfK_B8g"
      },
      "outputs": [],
      "source": [
        "# Imports\n",
        "import math\n",
        "import nltk\n",
        "import spacy\n",
        "import numpy as np\n",
        "import pandas as pd\n",
        "import tensorflow as tf\n",
        "import matplotlib.pyplot as plt\n",
        "import transformers\n",
        "from tokenizers import BertWordPieceTokenizer\n",
        "from tqdm import tqdm\n",
        "from nltk.corpus import stopwords\n",
        "from sklearn.preprocessing import LabelEncoder\n",
        "from sklearn.feature_extraction.text import TfidfVectorizer\n",
        "from sklearn.model_selection import train_test_split\n",
        "from sklearn.utils.class_weight import compute_class_weight\n",
        "from sklearn.metrics import confusion_matrix, accuracy_score, classification_report\n",
        "from tensorflow import keras\n",
        "from keras.utils import to_categorical\n",
        "from tensorflow.keras import Sequential\n",
        "from tensorflow.keras.models import load_model\n",
        "from keras.preprocessing.text import Tokenizer\n",
        "from keras.metrics import Precision, Recall, AUC\n",
        "from tensorflow.keras.preprocessing.sequence import pad_sequences\n",
        "from keras.layers import Embedding, LSTM, Dense, Dropout, Bidirectional\n",
        "from keras.callbacks import EarlyStopping, LearningRateScheduler, CallbackList, ReduceLROnPlateau\n",
        "from tensorflow.keras.optimizers.experimental import Adam\n",
        "import warnings\n",
        "warnings.filterwarnings('ignore')"
      ]
    },
    {
      "cell_type": "markdown",
      "metadata": {
        "id": "OVEydxHH_B82"
      },
      "source": [
        "## Versão 3 do Modelo - Fine Tuning de Modelo Transformer Pré-Treinado\n",
        "\n",
        "Usaremos os dados processados com SpaCy e então faremos o processamento específico para o modelo BERT, assim como fizemos com o modelo da versão 1."
      ]
    },
    {
      "cell_type": "code",
      "execution_count": 8,
      "metadata": {
        "id": "XpcqA0uO_B83"
      },
      "outputs": [],
      "source": [
        "#Dados Treino\n",
        "dados_dsa_treino = pd.read_csv('dados_treino.txt', header = None,delimiter = ';')"
      ]
    },
    {
      "cell_type": "code",
      "source": [
        "#Dados Teste\n",
        "dados_dsa_teste = pd.read_csv('dados_teste.txt', header = None,delimiter = ';')"
      ],
      "metadata": {
        "id": "mwbr0Hp8Owh8"
      },
      "execution_count": 9,
      "outputs": []
    },
    {
      "cell_type": "code",
      "source": [
        "#Ajusta nomes colunas\n",
        "dados_dsa_treino = dados_dsa_treino.rename(columns = {0: 'texto', 1:'sentimento'})\n",
        "dados_dsa_teste = dados_dsa_teste.rename(columns = {0: 'texto', 1:'sentimento'})"
      ],
      "metadata": {
        "id": "r9kj4y2yOxps"
      },
      "execution_count": 12,
      "outputs": []
    },
    {
      "cell_type": "markdown",
      "source": [
        "Pré Processamento"
      ],
      "metadata": {
        "id": "atswCvZ9PMRp"
      }
    },
    {
      "cell_type": "code",
      "source": [
        "!python -m spacy download en_core_web_md -q"
      ],
      "metadata": {
        "colab": {
          "base_uri": "https://localhost:8080/"
        },
        "id": "9qRP3IPmOyKs",
        "outputId": "7c33214c-7c2b-4d1e-9a48-80dbb793f13f"
      },
      "execution_count": 13,
      "outputs": [
        {
          "output_type": "stream",
          "name": "stdout",
          "text": [
            "\u001b[2K     \u001b[90m━━━━━━━━━━━━━━━━━━━━━━━━━━━━━━━━━━━━━━━━\u001b[0m \u001b[32m42.8/42.8 MB\u001b[0m \u001b[31m18.9 MB/s\u001b[0m eta \u001b[36m0:00:00\u001b[0m\n",
            "\u001b[?25h\u001b[38;5;2m✔ Download and installation successful\u001b[0m\n",
            "You can now load the package via spacy.load('en_core_web_md')\n"
          ]
        }
      ]
    },
    {
      "cell_type": "code",
      "source": [
        "dsa_nlp = spacy.load('en_core_web_md')"
      ],
      "metadata": {
        "id": "xxgeZb5lPGbp"
      },
      "execution_count": 14,
      "outputs": []
    },
    {
      "cell_type": "code",
      "source": [
        "# Definição da função 'dsa_preprocessa_texto' que recebe um texto como parâmetro\n",
        "def dsa_preprocessa_texto(text):\n",
        "    doc = dsa_nlp(text)\n",
        "    tokens = [token.lemma_.lower().strip() for token in doc if not token.is_stop]\n",
        "    return ' '.join(tokens)"
      ],
      "metadata": {
        "id": "76F9EggKPHsc"
      },
      "execution_count": 15,
      "outputs": []
    },
    {
      "cell_type": "code",
      "source": [
        "dados_dsa_treino['texto_processado'] = dados_dsa_treino['texto'].apply(dsa_preprocessa_texto)"
      ],
      "metadata": {
        "id": "cvkjmFC9PHoI"
      },
      "execution_count": 16,
      "outputs": []
    },
    {
      "cell_type": "code",
      "source": [
        "dados_dsa_teste['texto_processado'] = dados_dsa_teste['texto'].apply(dsa_preprocessa_texto)"
      ],
      "metadata": {
        "id": "dRt6iWirPHh1"
      },
      "execution_count": 17,
      "outputs": []
    },
    {
      "cell_type": "code",
      "source": [
        "dados_dsa_treino.head()"
      ],
      "metadata": {
        "colab": {
          "base_uri": "https://localhost:8080/",
          "height": 206
        },
        "id": "DxIGsBxtPHSe",
        "outputId": "2f0bc778-14b7-4614-a9ca-a7e3bb1bd886"
      },
      "execution_count": 18,
      "outputs": [
        {
          "output_type": "execute_result",
          "data": {
            "text/plain": [
              "                                               texto sentimento  \\\n",
              "0  i am feeling completely overwhelmed i have two...       fear   \n",
              "1    i have the feeling she was amused and delighted        joy   \n",
              "2  i was able to help chai lifeline with your sup...        joy   \n",
              "3  i already feel like i fucked up though because...      anger   \n",
              "4  i still love my so and wish the best for him i...    sadness   \n",
              "\n",
              "                                    texto_processado  \n",
              "0  feel completely overwhelmed strategy help feel...  \n",
              "1                              feeling amuse delight  \n",
              "2  able help chai lifeline support encouragement ...  \n",
              "3             feel like fuck not usually eat morning  \n",
              "4  love wish good long tolerate effect bm life fa...  "
            ],
            "text/html": [
              "\n",
              "  <div id=\"df-a45cd2cf-2b2a-4301-95b3-1f71fc105680\" class=\"colab-df-container\">\n",
              "    <div>\n",
              "<style scoped>\n",
              "    .dataframe tbody tr th:only-of-type {\n",
              "        vertical-align: middle;\n",
              "    }\n",
              "\n",
              "    .dataframe tbody tr th {\n",
              "        vertical-align: top;\n",
              "    }\n",
              "\n",
              "    .dataframe thead th {\n",
              "        text-align: right;\n",
              "    }\n",
              "</style>\n",
              "<table border=\"1\" class=\"dataframe\">\n",
              "  <thead>\n",
              "    <tr style=\"text-align: right;\">\n",
              "      <th></th>\n",
              "      <th>texto</th>\n",
              "      <th>sentimento</th>\n",
              "      <th>texto_processado</th>\n",
              "    </tr>\n",
              "  </thead>\n",
              "  <tbody>\n",
              "    <tr>\n",
              "      <th>0</th>\n",
              "      <td>i am feeling completely overwhelmed i have two...</td>\n",
              "      <td>fear</td>\n",
              "      <td>feel completely overwhelmed strategy help feel...</td>\n",
              "    </tr>\n",
              "    <tr>\n",
              "      <th>1</th>\n",
              "      <td>i have the feeling she was amused and delighted</td>\n",
              "      <td>joy</td>\n",
              "      <td>feeling amuse delight</td>\n",
              "    </tr>\n",
              "    <tr>\n",
              "      <th>2</th>\n",
              "      <td>i was able to help chai lifeline with your sup...</td>\n",
              "      <td>joy</td>\n",
              "      <td>able help chai lifeline support encouragement ...</td>\n",
              "    </tr>\n",
              "    <tr>\n",
              "      <th>3</th>\n",
              "      <td>i already feel like i fucked up though because...</td>\n",
              "      <td>anger</td>\n",
              "      <td>feel like fuck not usually eat morning</td>\n",
              "    </tr>\n",
              "    <tr>\n",
              "      <th>4</th>\n",
              "      <td>i still love my so and wish the best for him i...</td>\n",
              "      <td>sadness</td>\n",
              "      <td>love wish good long tolerate effect bm life fa...</td>\n",
              "    </tr>\n",
              "  </tbody>\n",
              "</table>\n",
              "</div>\n",
              "    <div class=\"colab-df-buttons\">\n",
              "\n",
              "  <div class=\"colab-df-container\">\n",
              "    <button class=\"colab-df-convert\" onclick=\"convertToInteractive('df-a45cd2cf-2b2a-4301-95b3-1f71fc105680')\"\n",
              "            title=\"Convert this dataframe to an interactive table.\"\n",
              "            style=\"display:none;\">\n",
              "\n",
              "  <svg xmlns=\"http://www.w3.org/2000/svg\" height=\"24px\" viewBox=\"0 -960 960 960\">\n",
              "    <path d=\"M120-120v-720h720v720H120Zm60-500h600v-160H180v160Zm220 220h160v-160H400v160Zm0 220h160v-160H400v160ZM180-400h160v-160H180v160Zm440 0h160v-160H620v160ZM180-180h160v-160H180v160Zm440 0h160v-160H620v160Z\"/>\n",
              "  </svg>\n",
              "    </button>\n",
              "\n",
              "  <style>\n",
              "    .colab-df-container {\n",
              "      display:flex;\n",
              "      gap: 12px;\n",
              "    }\n",
              "\n",
              "    .colab-df-convert {\n",
              "      background-color: #E8F0FE;\n",
              "      border: none;\n",
              "      border-radius: 50%;\n",
              "      cursor: pointer;\n",
              "      display: none;\n",
              "      fill: #1967D2;\n",
              "      height: 32px;\n",
              "      padding: 0 0 0 0;\n",
              "      width: 32px;\n",
              "    }\n",
              "\n",
              "    .colab-df-convert:hover {\n",
              "      background-color: #E2EBFA;\n",
              "      box-shadow: 0px 1px 2px rgba(60, 64, 67, 0.3), 0px 1px 3px 1px rgba(60, 64, 67, 0.15);\n",
              "      fill: #174EA6;\n",
              "    }\n",
              "\n",
              "    .colab-df-buttons div {\n",
              "      margin-bottom: 4px;\n",
              "    }\n",
              "\n",
              "    [theme=dark] .colab-df-convert {\n",
              "      background-color: #3B4455;\n",
              "      fill: #D2E3FC;\n",
              "    }\n",
              "\n",
              "    [theme=dark] .colab-df-convert:hover {\n",
              "      background-color: #434B5C;\n",
              "      box-shadow: 0px 1px 3px 1px rgba(0, 0, 0, 0.15);\n",
              "      filter: drop-shadow(0px 1px 2px rgba(0, 0, 0, 0.3));\n",
              "      fill: #FFFFFF;\n",
              "    }\n",
              "  </style>\n",
              "\n",
              "    <script>\n",
              "      const buttonEl =\n",
              "        document.querySelector('#df-a45cd2cf-2b2a-4301-95b3-1f71fc105680 button.colab-df-convert');\n",
              "      buttonEl.style.display =\n",
              "        google.colab.kernel.accessAllowed ? 'block' : 'none';\n",
              "\n",
              "      async function convertToInteractive(key) {\n",
              "        const element = document.querySelector('#df-a45cd2cf-2b2a-4301-95b3-1f71fc105680');\n",
              "        const dataTable =\n",
              "          await google.colab.kernel.invokeFunction('convertToInteractive',\n",
              "                                                    [key], {});\n",
              "        if (!dataTable) return;\n",
              "\n",
              "        const docLinkHtml = 'Like what you see? Visit the ' +\n",
              "          '<a target=\"_blank\" href=https://colab.research.google.com/notebooks/data_table.ipynb>data table notebook</a>'\n",
              "          + ' to learn more about interactive tables.';\n",
              "        element.innerHTML = '';\n",
              "        dataTable['output_type'] = 'display_data';\n",
              "        await google.colab.output.renderOutput(dataTable, element);\n",
              "        const docLink = document.createElement('div');\n",
              "        docLink.innerHTML = docLinkHtml;\n",
              "        element.appendChild(docLink);\n",
              "      }\n",
              "    </script>\n",
              "  </div>\n",
              "\n",
              "\n",
              "<div id=\"df-077e1924-7463-4b67-bb72-fb53f318f354\">\n",
              "  <button class=\"colab-df-quickchart\" onclick=\"quickchart('df-077e1924-7463-4b67-bb72-fb53f318f354')\"\n",
              "            title=\"Suggest charts\"\n",
              "            style=\"display:none;\">\n",
              "\n",
              "<svg xmlns=\"http://www.w3.org/2000/svg\" height=\"24px\"viewBox=\"0 0 24 24\"\n",
              "     width=\"24px\">\n",
              "    <g>\n",
              "        <path d=\"M19 3H5c-1.1 0-2 .9-2 2v14c0 1.1.9 2 2 2h14c1.1 0 2-.9 2-2V5c0-1.1-.9-2-2-2zM9 17H7v-7h2v7zm4 0h-2V7h2v10zm4 0h-2v-4h2v4z\"/>\n",
              "    </g>\n",
              "</svg>\n",
              "  </button>\n",
              "\n",
              "<style>\n",
              "  .colab-df-quickchart {\n",
              "      --bg-color: #E8F0FE;\n",
              "      --fill-color: #1967D2;\n",
              "      --hover-bg-color: #E2EBFA;\n",
              "      --hover-fill-color: #174EA6;\n",
              "      --disabled-fill-color: #AAA;\n",
              "      --disabled-bg-color: #DDD;\n",
              "  }\n",
              "\n",
              "  [theme=dark] .colab-df-quickchart {\n",
              "      --bg-color: #3B4455;\n",
              "      --fill-color: #D2E3FC;\n",
              "      --hover-bg-color: #434B5C;\n",
              "      --hover-fill-color: #FFFFFF;\n",
              "      --disabled-bg-color: #3B4455;\n",
              "      --disabled-fill-color: #666;\n",
              "  }\n",
              "\n",
              "  .colab-df-quickchart {\n",
              "    background-color: var(--bg-color);\n",
              "    border: none;\n",
              "    border-radius: 50%;\n",
              "    cursor: pointer;\n",
              "    display: none;\n",
              "    fill: var(--fill-color);\n",
              "    height: 32px;\n",
              "    padding: 0;\n",
              "    width: 32px;\n",
              "  }\n",
              "\n",
              "  .colab-df-quickchart:hover {\n",
              "    background-color: var(--hover-bg-color);\n",
              "    box-shadow: 0 1px 2px rgba(60, 64, 67, 0.3), 0 1px 3px 1px rgba(60, 64, 67, 0.15);\n",
              "    fill: var(--button-hover-fill-color);\n",
              "  }\n",
              "\n",
              "  .colab-df-quickchart-complete:disabled,\n",
              "  .colab-df-quickchart-complete:disabled:hover {\n",
              "    background-color: var(--disabled-bg-color);\n",
              "    fill: var(--disabled-fill-color);\n",
              "    box-shadow: none;\n",
              "  }\n",
              "\n",
              "  .colab-df-spinner {\n",
              "    border: 2px solid var(--fill-color);\n",
              "    border-color: transparent;\n",
              "    border-bottom-color: var(--fill-color);\n",
              "    animation:\n",
              "      spin 1s steps(1) infinite;\n",
              "  }\n",
              "\n",
              "  @keyframes spin {\n",
              "    0% {\n",
              "      border-color: transparent;\n",
              "      border-bottom-color: var(--fill-color);\n",
              "      border-left-color: var(--fill-color);\n",
              "    }\n",
              "    20% {\n",
              "      border-color: transparent;\n",
              "      border-left-color: var(--fill-color);\n",
              "      border-top-color: var(--fill-color);\n",
              "    }\n",
              "    30% {\n",
              "      border-color: transparent;\n",
              "      border-left-color: var(--fill-color);\n",
              "      border-top-color: var(--fill-color);\n",
              "      border-right-color: var(--fill-color);\n",
              "    }\n",
              "    40% {\n",
              "      border-color: transparent;\n",
              "      border-right-color: var(--fill-color);\n",
              "      border-top-color: var(--fill-color);\n",
              "    }\n",
              "    60% {\n",
              "      border-color: transparent;\n",
              "      border-right-color: var(--fill-color);\n",
              "    }\n",
              "    80% {\n",
              "      border-color: transparent;\n",
              "      border-right-color: var(--fill-color);\n",
              "      border-bottom-color: var(--fill-color);\n",
              "    }\n",
              "    90% {\n",
              "      border-color: transparent;\n",
              "      border-bottom-color: var(--fill-color);\n",
              "    }\n",
              "  }\n",
              "</style>\n",
              "\n",
              "  <script>\n",
              "    async function quickchart(key) {\n",
              "      const quickchartButtonEl =\n",
              "        document.querySelector('#' + key + ' button');\n",
              "      quickchartButtonEl.disabled = true;  // To prevent multiple clicks.\n",
              "      quickchartButtonEl.classList.add('colab-df-spinner');\n",
              "      try {\n",
              "        const charts = await google.colab.kernel.invokeFunction(\n",
              "            'suggestCharts', [key], {});\n",
              "      } catch (error) {\n",
              "        console.error('Error during call to suggestCharts:', error);\n",
              "      }\n",
              "      quickchartButtonEl.classList.remove('colab-df-spinner');\n",
              "      quickchartButtonEl.classList.add('colab-df-quickchart-complete');\n",
              "    }\n",
              "    (() => {\n",
              "      let quickchartButtonEl =\n",
              "        document.querySelector('#df-077e1924-7463-4b67-bb72-fb53f318f354 button');\n",
              "      quickchartButtonEl.style.display =\n",
              "        google.colab.kernel.accessAllowed ? 'block' : 'none';\n",
              "    })();\n",
              "  </script>\n",
              "</div>\n",
              "\n",
              "    </div>\n",
              "  </div>\n"
            ],
            "application/vnd.google.colaboratory.intrinsic+json": {
              "type": "dataframe",
              "variable_name": "dados_dsa_treino",
              "summary": "{\n  \"name\": \"dados_dsa_treino\",\n  \"rows\": 16000,\n  \"fields\": [\n    {\n      \"column\": \"texto\",\n      \"properties\": {\n        \"dtype\": \"string\",\n        \"samples\": [\n          \"i feel rather imbicilic or at least complacent\",\n          \"i was in the bathroom i had sat down to pee it was to make me feel submissive again per instructions\",\n          \"i am thrilled with the way my skin and hair feel if you are like me you are skeptical\"\n        ],\n        \"num_unique_values\": 15969,\n        \"semantic_type\": \"\",\n        \"description\": \"\"\n      }\n    },\n    {\n      \"column\": \"sentimento\",\n      \"properties\": {\n        \"dtype\": \"category\",\n        \"samples\": [\n          \"fear\",\n          \"joy\",\n          \"surprise\"\n        ],\n        \"num_unique_values\": 6,\n        \"semantic_type\": \"\",\n        \"description\": \"\"\n      }\n    },\n    {\n      \"column\": \"texto_processado\",\n      \"properties\": {\n        \"dtype\": \"string\",\n        \"samples\": [\n          \"realize m feel artistic extreme justice center kind lately\",\n          \"feel inside like light drain\",\n          \"feel m punish able daily\"\n        ],\n        \"num_unique_values\": 15722,\n        \"semantic_type\": \"\",\n        \"description\": \"\"\n      }\n    }\n  ]\n}"
            }
          },
          "metadata": {},
          "execution_count": 18
        }
      ]
    },
    {
      "cell_type": "code",
      "execution_count": 19,
      "metadata": {
        "id": "ofSLLm62_B83"
      },
      "outputs": [],
      "source": [
        "# Função para codificar o texto em sequência de inteiros para entrada do modelo BERT\n",
        "def dsa_encode(texts, tokenizer, chunk_size = 256, maxlen = 512):\n",
        "\n",
        "    # Ativar truncamento no tokenizador para um comprimento máximo especificado\n",
        "    tokenizer.enable_truncation(max_length = maxlen)\n",
        "\n",
        "    # Ativar padding no tokenizador para um comprimento específico\n",
        "    tokenizer.enable_padding(length = maxlen)\n",
        "\n",
        "    # Inicializar uma lista para armazenar os IDs codificados\n",
        "    all_ids = []\n",
        "\n",
        "    # Iterar sobre os textos em pedaços de tamanho 'chunk_size'\n",
        "    for i in tqdm(range(0, len(texts), chunk_size)):\n",
        "\n",
        "        # Criar um pedaço (chunk) do texto\n",
        "        text_chunk = texts[i:i+chunk_size].tolist()\n",
        "\n",
        "        # Codificar o pedaço do texto em lote\n",
        "        encs = tokenizer.encode_batch(text_chunk)\n",
        "\n",
        "        # Estender a lista 'all_ids' com os IDs codificados\n",
        "        all_ids.extend([enc.ids for enc in encs])\n",
        "\n",
        "    # Retorna a lista de IDs como um array numpy\n",
        "    return np.array(all_ids)"
      ]
    },
    {
      "cell_type": "markdown",
      "metadata": {
        "id": "b64O8OU7_B83"
      },
      "source": [
        "https://huggingface.co/distilbert-base-multilingual-cased"
      ]
    },
    {
      "cell_type": "code",
      "execution_count": 20,
      "metadata": {
        "colab": {
          "base_uri": "https://localhost:8080/",
          "height": 145,
          "referenced_widgets": [
            "03d33c109aa54c66b95475f2a1f90588",
            "869c3430fbbe44f89f7651f693f03353",
            "8efba13cd8f442968b064bac43dd2e38",
            "b9032a8f80e64daa9b58f369c96b9928",
            "d0e2ad3d39544e48bf55aa4c6a80d1fe",
            "d7880c4fa09c46ca8129c67569687e52",
            "6be471ae48dd46399a9a82429096d752",
            "1956706c079041b4815224661a1617ee",
            "ff4d891dfda240ba98480d13413f969c",
            "677a66e32c584603b98376ae68b118dc",
            "91940da19e7b425f8ffa7b2d666b7d4a",
            "3fb4f9aea23c4fc0b47a158de90df22b",
            "97105de354654e88a28f2a47750b1a61",
            "68ce493af87b4910bef386feb32854b8",
            "09b475c1ed5147f186fbc138eb022ff0",
            "0dd2ca6ed43541af95282026e2950763",
            "89bcc35d082b4eaa826146037e68268f",
            "6ee20d9c478944578fa084bc2a5f63c0",
            "9f7e71bb7e3e456f91a13d43f753ce98",
            "418fd30674dd40ca9aa54ad572ae66dd",
            "655034b6784543718a6e9e4fb17a7e42",
            "9e26ec10454b4bc8b0a09fd3484fd851",
            "821173c22e1140b19db8418b8557f7f9",
            "6b2a130217ea4df68419ec24f339e407",
            "cbd41130bebd46abb2609303e80c4083",
            "e18e07aedc874e6fa37e0f2324f3150d",
            "b59cf27b21104334a9bc379cb2cb8992",
            "45fb56853b084701bb86b172685dacc2",
            "5c8869b7cb934425993f1a437dc1f09c",
            "7493ba61d6ee4928af22305eef163681",
            "03ecf4e7c78e498a9c0cc33af12e350d",
            "7d5a02f9e3d5442abc63b4c2ed910e11",
            "bf9bf6dd93c941e7831ecd872f4c8f96",
            "3747901ae7e640e782c50664e3bc0fcc",
            "ba7211bca6b4453ea37c9aa28e979801",
            "a970d4932907426289272a5d5056ce9d",
            "6eb72e4e23e848e2bb0393958338b3f4",
            "281a2208d35b45b8887f6122daa12420",
            "f3fb203bf552472580c5d2e26427443d",
            "5eca192aca7e4191879ea0f7d8d34f5e",
            "4600a575ec71467fae2e5c0ce333ba06",
            "dfe111e0199147ac9a1db8136c64daf1",
            "6b73974a29f64842ae60deb44eb3e525",
            "fe7fcd7b496348eaa35043336fdcdd17"
          ]
        },
        "id": "16AIDXlW_B83",
        "outputId": "be9e2bfa-201a-4969-de71-4abdc6a9e49f"
      },
      "outputs": [
        {
          "output_type": "display_data",
          "data": {
            "text/plain": [
              "tokenizer_config.json:   0%|          | 0.00/29.0 [00:00<?, ?B/s]"
            ],
            "application/vnd.jupyter.widget-view+json": {
              "version_major": 2,
              "version_minor": 0,
              "model_id": "03d33c109aa54c66b95475f2a1f90588"
            }
          },
          "metadata": {}
        },
        {
          "output_type": "display_data",
          "data": {
            "text/plain": [
              "vocab.txt:   0%|          | 0.00/996k [00:00<?, ?B/s]"
            ],
            "application/vnd.jupyter.widget-view+json": {
              "version_major": 2,
              "version_minor": 0,
              "model_id": "3fb4f9aea23c4fc0b47a158de90df22b"
            }
          },
          "metadata": {}
        },
        {
          "output_type": "display_data",
          "data": {
            "text/plain": [
              "tokenizer.json:   0%|          | 0.00/1.96M [00:00<?, ?B/s]"
            ],
            "application/vnd.jupyter.widget-view+json": {
              "version_major": 2,
              "version_minor": 0,
              "model_id": "821173c22e1140b19db8418b8557f7f9"
            }
          },
          "metadata": {}
        },
        {
          "output_type": "display_data",
          "data": {
            "text/plain": [
              "config.json:   0%|          | 0.00/466 [00:00<?, ?B/s]"
            ],
            "application/vnd.jupyter.widget-view+json": {
              "version_major": 2,
              "version_minor": 0,
              "model_id": "3747901ae7e640e782c50664e3bc0fcc"
            }
          },
          "metadata": {}
        }
      ],
      "source": [
        "# Carrega o tokenizador do modelo pré-treinado\n",
        "tokenizador_bert = transformers.DistilBertTokenizer.from_pretrained('distilbert-base-multilingual-cased')"
      ]
    },
    {
      "cell_type": "code",
      "execution_count": 21,
      "metadata": {
        "colab": {
          "base_uri": "https://localhost:8080/"
        },
        "id": "i5jG9B1O_B83",
        "outputId": "0e7a56c7-9859-4182-e257-58bf85acc4a5"
      },
      "outputs": [
        {
          "output_type": "execute_result",
          "data": {
            "text/plain": [
              "('./tokenizer_config.json',\n",
              " './special_tokens_map.json',\n",
              " './vocab.txt',\n",
              " './added_tokens.json')"
            ]
          },
          "metadata": {},
          "execution_count": 21
        }
      ],
      "source": [
        "# Salva o tokenizador e o vocabulário localmente\n",
        "tokenizador_bert.save_pretrained('.')"
      ]
    },
    {
      "cell_type": "code",
      "execution_count": 22,
      "metadata": {
        "id": "jn_GDqa1_B83"
      },
      "outputs": [],
      "source": [
        "# Carrega um tokenizador mais veloz usando o vocabulário do tokenizador principal\n",
        "# from tokenizers import BertWordPieceTokenizer\n",
        "fast_tokenizer = BertWordPieceTokenizer('vocab.txt', lowercase = False)"
      ]
    },
    {
      "cell_type": "code",
      "execution_count": 23,
      "metadata": {
        "colab": {
          "base_uri": "https://localhost:8080/"
        },
        "id": "46g5Jekb_B83",
        "outputId": "3ae42b60-483b-436e-bb17-272d7efc1420"
      },
      "outputs": [
        {
          "output_type": "execute_result",
          "data": {
            "text/plain": [
              "Tokenizer(vocabulary_size=119547, model=BertWordPiece, unk_token=[UNK], sep_token=[SEP], cls_token=[CLS], pad_token=[PAD], mask_token=[MASK], clean_text=True, handle_chinese_chars=True, strip_accents=None, lowercase=False, wordpieces_prefix=##)"
            ]
          },
          "metadata": {},
          "execution_count": 23
        }
      ],
      "source": [
        "# Visualiza o tokenizador\n",
        "fast_tokenizer"
      ]
    },
    {
      "cell_type": "code",
      "execution_count": 24,
      "metadata": {
        "id": "oqN31ULB_B84"
      },
      "outputs": [],
      "source": [
        "# Divide os dados em treino e validação com amostragem estratificada\n",
        "X_treino, X_valid, Y_treino, Y_valid = train_test_split(dados_dsa_treino['texto_processado'].values,\n",
        "                                                        dados_dsa_treino['sentimento'].values,\n",
        "                                                        test_size = 0.2,\n",
        "                                                        random_state = 42,\n",
        "                                                        stratify = dados_dsa_treino['sentimento'])"
      ]
    },
    {
      "cell_type": "markdown",
      "metadata": {
        "id": "VdOCTtV4_B84"
      },
      "source": [
        "A amostragem estratificada é uma técnica usada em estatística para garantir que subgrupos (ou estratos) de uma população sejam adequadamente representados dentro de uma amostra. É particularmente útil em situações onde a população é heterogênea e os subgrupos têm características diferentes que são importantes para a pesquisa."
      ]
    },
    {
      "cell_type": "code",
      "execution_count": 25,
      "metadata": {
        "id": "Stj6fzBm_B84"
      },
      "outputs": [],
      "source": [
        "# Comprimento máximo usado no texto\n",
        "max_length = 100"
      ]
    },
    {
      "cell_type": "code",
      "execution_count": 26,
      "metadata": {
        "colab": {
          "base_uri": "https://localhost:8080/"
        },
        "id": "K_eWVyx7_B84",
        "outputId": "6393c626-8f08-494d-b57a-6d5507a3c5d2"
      },
      "outputs": [
        {
          "output_type": "stream",
          "name": "stderr",
          "text": [
            "100%|██████████| 50/50 [00:00<00:00, 81.65it/s]\n",
            "100%|██████████| 13/13 [00:00<00:00, 94.10it/s]\n",
            "100%|██████████| 8/8 [00:00<00:00, 87.67it/s]\n"
          ]
        }
      ],
      "source": [
        "# Aplica a codificação (tokenização) em nossos dados, usando o tokenizador mais veloz\n",
        "X_treino_final = dsa_encode(X_treino, fast_tokenizer, maxlen = max_length)\n",
        "X_valid_final = dsa_encode(X_valid, fast_tokenizer, maxlen = max_length)\n",
        "X_teste_final = dsa_encode(dados_dsa_teste['texto_processado'].to_numpy(), fast_tokenizer, maxlen = max_length)"
      ]
    },
    {
      "cell_type": "code",
      "execution_count": 27,
      "metadata": {
        "colab": {
          "base_uri": "https://localhost:8080/"
        },
        "id": "g4JGDvoo_B84",
        "outputId": "b8f01322-171b-45d4-db84-de998fe909a8"
      },
      "outputs": [
        {
          "output_type": "execute_result",
          "data": {
            "text/plain": [
              "(12800, 100)"
            ]
          },
          "metadata": {},
          "execution_count": 27
        }
      ],
      "source": [
        "X_treino_final.shape"
      ]
    },
    {
      "cell_type": "code",
      "execution_count": 28,
      "metadata": {
        "id": "C9Yihpb3_B84"
      },
      "outputs": [],
      "source": [
        "# Define o encoder dos dados de saída\n",
        "dsa_le_v3 = LabelEncoder()"
      ]
    },
    {
      "cell_type": "code",
      "execution_count": 29,
      "metadata": {
        "id": "K_JvTAMg_B84"
      },
      "outputs": [],
      "source": [
        "# Aplica o codificador (fit_transform somente nos dados de treino)\n",
        "y_treino_le = dsa_le_v3.fit_transform(Y_treino)\n",
        "y_valid_le = dsa_le_v3.transform(Y_valid)\n",
        "y_teste_le = dsa_le_v3.transform(dados_dsa_teste['sentimento'])"
      ]
    },
    {
      "cell_type": "code",
      "execution_count": 30,
      "metadata": {
        "id": "pvNi0II8_B84"
      },
      "outputs": [],
      "source": [
        "# Converte a variável de saída em categórica\n",
        "y_treino_encoded = to_categorical(y_treino_le)\n",
        "y_valid_encoded = to_categorical(y_valid_le)\n",
        "y_teste_encoded = to_categorical(y_teste_le)"
      ]
    },
    {
      "cell_type": "code",
      "execution_count": 31,
      "metadata": {
        "id": "Qz5KV0j-_B85"
      },
      "outputs": [],
      "source": [
        "# Tamanho do batch\n",
        "BATCH_SIZE = 16"
      ]
    },
    {
      "cell_type": "code",
      "execution_count": 32,
      "metadata": {
        "id": "Xt1iHzYq_B85"
      },
      "outputs": [],
      "source": [
        "# Prepara o dataset no formato esperado pelo TensorFlow\n",
        "dataset_treino = (tf.data.Dataset\n",
        "    .from_tensor_slices((X_treino_final, y_treino_encoded))\n",
        "    .repeat()\n",
        "    .shuffle(2048)\n",
        "    .batch(BATCH_SIZE)\n",
        ")"
      ]
    },
    {
      "cell_type": "code",
      "execution_count": 33,
      "metadata": {
        "id": "RtGIHVsE_B85"
      },
      "outputs": [],
      "source": [
        "# Prepara o dataset no formato esperado pelo TensorFlow\n",
        "dataset_valid = (tf.data.Dataset\n",
        "    .from_tensor_slices((X_valid_final, y_valid_encoded))\n",
        "    .batch(BATCH_SIZE)\n",
        "    .cache()\n",
        ")"
      ]
    },
    {
      "cell_type": "code",
      "execution_count": 34,
      "metadata": {
        "id": "3MdiPXT8_B85"
      },
      "outputs": [],
      "source": [
        "# Prepara o dataset no formato esperado pelo TensorFlow\n",
        "dataset_teste = (\n",
        "    tf.data.Dataset\n",
        "    .from_tensor_slices((X_teste_final, y_teste_encoded))\n",
        "    .batch(BATCH_SIZE)\n",
        ")"
      ]
    },
    {
      "cell_type": "code",
      "execution_count": 35,
      "metadata": {
        "id": "-XPmVgxp_B85"
      },
      "outputs": [],
      "source": [
        "# Função para o ajuste fino e treino do modelo usando um transformador (como BERT)\n",
        "def dsa_cria_modelo(transformer, max_len = 512):\n",
        "\n",
        "    # Definindo a camada de entrada com tamanho máximo de sequência\n",
        "    input_word_ids = tf.keras.layers.Input(shape = (max_len,),\n",
        "                                           dtype = tf.int32,\n",
        "                                           name = \"input_word_ids\")\n",
        "\n",
        "    # Obtendo a saída da sequência do transformador\n",
        "    sequence_output = transformer(input_word_ids)[0]\n",
        "\n",
        "    # Selecionando o primeiro token de cada sequência (token CLS no BERT) para a classificação\n",
        "    cls_token = sequence_output[:, 0, :]\n",
        "\n",
        "    # Adicionando uma camada densa para a saída com ativação softmax para classificação\n",
        "    out = Dense(6, activation = 'softmax')(cls_token)\n",
        "\n",
        "    # Construindo o modelo Keras com as entradas e saídas definidas\n",
        "    modelo = tf.keras.Model(inputs = input_word_ids, outputs = out)\n",
        "\n",
        "    # Compilando o modelo com otimizador Adam, perda de entropia cruzada categórica e métricas de avaliação\n",
        "    modelo.compile(tf.keras.optimizers.legacy.Adam(learning_rate = 1e-5),\n",
        "                   loss = 'categorical_crossentropy',\n",
        "                   metrics = ['accuracy', Precision(), Recall(), AUC()])\n",
        "\n",
        "    # Retorna o modelo compilado\n",
        "    return modelo"
      ]
    },
    {
      "cell_type": "markdown",
      "metadata": {
        "id": "jHKjc2P1_B85"
      },
      "source": [
        "> Carregando o Modelo Pré-Treinado:"
      ]
    },
    {
      "cell_type": "markdown",
      "metadata": {
        "id": "jb3vgkeTep5r"
      },
      "source": [
        "https://huggingface.co/distilbert-base-multilingual-cased"
      ]
    },
    {
      "cell_type": "code",
      "execution_count": 36,
      "metadata": {
        "colab": {
          "base_uri": "https://localhost:8080/",
          "height": 156,
          "referenced_widgets": [
            "3df7ab24eaa943b98e17f0cd8cfecdae",
            "2221f8e881d1472a84fdef3e8ceb3f0c",
            "4e86bc12e5924bfb95a621919a2e0322",
            "d5f32c74651a40f8884a68c7ab2e3cd5",
            "97bceda0dbf948249d9e1b6c8a330fc7",
            "c76c38e81c4f4be29802034685b4f4ad",
            "52939b2e238b4000b04bd2735f0a55eb",
            "32ba78c3e7e94fb187aa069288ac7e7c",
            "93e6c785dc534da780bd8d10c1041c98",
            "fc86ce4e6d054844aa5038013f6c9ba1",
            "285864bc4bee4a21bb56d4bb8fe4c66a"
          ]
        },
        "id": "4xmhiHJ3_B85",
        "outputId": "164350b5-ac59-4289-ec9d-e3cf8aec9f8e"
      },
      "outputs": [
        {
          "output_type": "display_data",
          "data": {
            "text/plain": [
              "model.safetensors:   0%|          | 0.00/542M [00:00<?, ?B/s]"
            ],
            "application/vnd.jupyter.widget-view+json": {
              "version_major": 2,
              "version_minor": 0,
              "model_id": "3df7ab24eaa943b98e17f0cd8cfecdae"
            }
          },
          "metadata": {}
        },
        {
          "output_type": "stream",
          "name": "stderr",
          "text": [
            "Some weights of the PyTorch model were not used when initializing the TF 2.0 model TFDistilBertModel: ['vocab_layer_norm.bias', 'vocab_transform.bias', 'vocab_transform.weight', 'vocab_layer_norm.weight', 'vocab_projector.bias']\n",
            "- This IS expected if you are initializing TFDistilBertModel from a PyTorch model trained on another task or with another architecture (e.g. initializing a TFBertForSequenceClassification model from a BertForPreTraining model).\n",
            "- This IS NOT expected if you are initializing TFDistilBertModel from a PyTorch model that you expect to be exactly identical (e.g. initializing a TFBertForSequenceClassification model from a BertForSequenceClassification model).\n",
            "All the weights of TFDistilBertModel were initialized from the PyTorch model.\n",
            "If your task is similar to the task the model of the checkpoint was trained on, you can already use TFDistilBertModel for predictions without further training.\n"
          ]
        }
      ],
      "source": [
        "# Cria uma instância do modelo DistilBERT multilíngue, pré-treinado, adequado para uso com TensorFlow\n",
        "transformer_layer = (transformers.TFDistilBertModel.from_pretrained('distilbert-base-multilingual-cased'))"
      ]
    },
    {
      "cell_type": "markdown",
      "metadata": {
        "id": "AfNWz9xI_B86"
      },
      "source": [
        "**TFDistilBertModel**: É uma classe dentro da biblioteca transformers. Ela representa o modelo DistilBERT adaptado para TensorFlow. O DistilBERT é uma versão simplificada do BERT que oferece um bom balanço entre desempenho e eficiência. Ele foi treinado para destilar o conhecimento do BERT mantendo a maior parte de sua eficácia, mas com uma arquitetura mais leve e mais rápida para treinamento e inferência.\n",
        "\n",
        "**from_pretrained**: Este é um método da classe TFDistilBertModel que permite carregar um modelo pré-treinado. Utilizar um modelo pré-treinado permite aproveitar um modelo que já foi treinado em um grande conjunto de dados e aprendeu um bom entendimento da linguagem. Isso é especialmente útil para tarefas de PLN, onde treinar um modelo do zero requer grandes quantidades de dados e poder computacional.\n",
        "\n",
        "**'distilbert-base-multilingual-cased'**: Este é o identificador do modelo pré-treinado específico que está sendo carregado. Neste caso, é o distilbert-base-multilingual-cased, que é uma versão do DistilBERT que suporta múltiplos idiomas (multilingual) e distingue entre letras maiúsculas e minúsculas (cased). Este modelo foi treinado com textos em vários idiomas, tornando-o útil para aplicações que precisam entender e processar texto em múltiplas línguas."
      ]
    },
    {
      "cell_type": "code",
      "execution_count": 37,
      "metadata": {
        "id": "IWYmfHO2_B86"
      },
      "outputs": [],
      "source": [
        "# Cria o modelo com as camadas do transformador pré-treinado e nossas camadas customizadas para o ajuste fino\n",
        "modelo_dsa_v3 = dsa_cria_modelo(transformer_layer, max_len = max_length)"
      ]
    },
    {
      "cell_type": "code",
      "execution_count": 38,
      "metadata": {
        "colab": {
          "base_uri": "https://localhost:8080/"
        },
        "id": "JgJ2iNaS_B86",
        "outputId": "e890a2be-e9bb-4ebd-9049-816ccbb916ba"
      },
      "outputs": [
        {
          "output_type": "stream",
          "name": "stdout",
          "text": [
            "Model: \"model\"\n",
            "_________________________________________________________________\n",
            " Layer (type)                Output Shape              Param #   \n",
            "=================================================================\n",
            " input_word_ids (InputLayer  [(None, 100)]             0         \n",
            " )                                                               \n",
            "                                                                 \n",
            " tf_distil_bert_model (TFDi  TFBaseModelOutput(last_   134734080 \n",
            " stilBertModel)              hidden_state=(None, 100             \n",
            "                             , 768),                             \n",
            "                              hidden_states=None, at             \n",
            "                             tentions=None)                      \n",
            "                                                                 \n",
            " tf.__operators__.getitem (  (None, 768)               0         \n",
            " SlicingOpLambda)                                                \n",
            "                                                                 \n",
            " dense (Dense)               (None, 6)                 4614      \n",
            "                                                                 \n",
            "=================================================================\n",
            "Total params: 134738694 (513.99 MB)\n",
            "Trainable params: 134738694 (513.99 MB)\n",
            "Non-trainable params: 0 (0.00 Byte)\n",
            "_________________________________________________________________\n"
          ]
        }
      ],
      "source": [
        "# Resumo do modelo\n",
        "modelo_dsa_v3.summary()"
      ]
    },
    {
      "cell_type": "code",
      "execution_count": 39,
      "metadata": {
        "id": "Jow5L-RQ_B86"
      },
      "outputs": [],
      "source": [
        "# Definindo as primeiras três camadas do modelo como não treináveis\n",
        "modelo_dsa_v3.layers[0].trainable = False\n",
        "modelo_dsa_v3.layers[1].trainable = False\n",
        "modelo_dsa_v3.layers[2].trainable = False"
      ]
    },
    {
      "cell_type": "markdown",
      "metadata": {
        "id": "4GNSlgl7_B86"
      },
      "source": [
        "Estes índices acima acessam especificamente a primeira, segunda e terceira camadas do modelo, respectivamente. Em Python, a indexação começa em 0, portanto, layers[0] é a primeira camada, layers[1] é a segunda e assim por diante.\n",
        "\n",
        "**trainable = False**: Esta instrução define a propriedade trainable da camada especificada para False. Quando uma camada é definida como não treinável, isso significa que seus pesos não serão atualizados durante o treinamento do modelo. Em outras palavras, o estado dessa camada permanecerá o mesmo, independente do processo de aprendizado que o resto do modelo está passando.\n",
        "\n",
        "Queremos treinar somente a parte final do modelo. Isso é o ajuste fino de modelos pré-treinados."
      ]
    },
    {
      "cell_type": "code",
      "execution_count": 40,
      "metadata": {
        "colab": {
          "base_uri": "https://localhost:8080/"
        },
        "id": "n-qNZdvp_B86",
        "outputId": "9910981c-bf5f-4165-a2dd-05ec28c64733"
      },
      "outputs": [
        {
          "output_type": "stream",
          "name": "stdout",
          "text": [
            "Model: \"model\"\n",
            "_________________________________________________________________\n",
            " Layer (type)                Output Shape              Param #   \n",
            "=================================================================\n",
            " input_word_ids (InputLayer  [(None, 100)]             0         \n",
            " )                                                               \n",
            "                                                                 \n",
            " tf_distil_bert_model (TFDi  TFBaseModelOutput(last_   134734080 \n",
            " stilBertModel)              hidden_state=(None, 100             \n",
            "                             , 768),                             \n",
            "                              hidden_states=None, at             \n",
            "                             tentions=None)                      \n",
            "                                                                 \n",
            " tf.__operators__.getitem (  (None, 768)               0         \n",
            " SlicingOpLambda)                                                \n",
            "                                                                 \n",
            " dense (Dense)               (None, 6)                 4614      \n",
            "                                                                 \n",
            "=================================================================\n",
            "Total params: 134738694 (513.99 MB)\n",
            "Trainable params: 4614 (18.02 KB)\n",
            "Non-trainable params: 134734080 (513.97 MB)\n",
            "_________________________________________________________________\n"
          ]
        }
      ],
      "source": [
        "# Resumo\n",
        "modelo_dsa_v3.summary()"
      ]
    },
    {
      "cell_type": "code",
      "execution_count": 41,
      "metadata": {
        "id": "UAtPTHoz_B86"
      },
      "outputs": [],
      "source": [
        "# Hiperparâmetros\n",
        "n_steps = X_treino_final.shape[0] // BATCH_SIZE\n",
        "num_epochs = 3"
      ]
    },
    {
      "cell_type": "markdown",
      "metadata": {
        "id": "lwQKcK7W_B86"
      },
      "source": [
        "> Treinamento do Modelo."
      ]
    },
    {
      "cell_type": "code",
      "execution_count": 42,
      "metadata": {
        "colab": {
          "base_uri": "https://localhost:8080/"
        },
        "id": "e8ZqAHgj_B87",
        "outputId": "87735d94-ba8f-49fa-9b6c-3a41a45958b3"
      },
      "outputs": [
        {
          "output_type": "stream",
          "name": "stdout",
          "text": [
            "Epoch 1/3\n",
            "800/800 [==============================] - 199s 233ms/step - loss: 1.2213 - accuracy: 0.5149 - precision: 0.7889 - recall: 0.2998 - auc: 0.8423 - val_loss: 0.4760 - val_accuracy: 0.8372 - val_precision: 0.8783 - val_recall: 0.8009 - val_auc: 0.9758\n",
            "Epoch 2/3\n",
            "800/800 [==============================] - 174s 218ms/step - loss: 0.3694 - accuracy: 0.8663 - precision: 0.8898 - recall: 0.8440 - auc: 0.9849 - val_loss: 0.3085 - val_accuracy: 0.8850 - val_precision: 0.8959 - val_recall: 0.8772 - val_auc: 0.9892\n",
            "Epoch 3/3\n",
            "800/800 [==============================] - 183s 229ms/step - loss: 0.2339 - accuracy: 0.9066 - precision: 0.9194 - recall: 0.8971 - auc: 0.9937 - val_loss: 0.2483 - val_accuracy: 0.9013 - val_precision: 0.9141 - val_recall: 0.8909 - val_auc: 0.9922\n",
            "CPU times: user 6min 43s, sys: 14.6 s, total: 6min 58s\n",
            "Wall time: 9min 16s\n"
          ]
        }
      ],
      "source": [
        "%%time\n",
        "history = modelo_dsa_v3.fit(dataset_treino,\n",
        "                            steps_per_epoch = n_steps,\n",
        "                            validation_data = dataset_valid,\n",
        "                            epochs = num_epochs)"
      ]
    },
    {
      "cell_type": "code",
      "execution_count": 43,
      "metadata": {
        "colab": {
          "base_uri": "https://localhost:8080/",
          "height": 430
        },
        "id": "1Mc2vFw4_B87",
        "outputId": "2483de7e-d8d3-421f-f095-0b5ec761623a"
      },
      "outputs": [
        {
          "output_type": "display_data",
          "data": {
            "text/plain": [
              "<Figure size 640x480 with 1 Axes>"
            ],
            "image/png": "[encoded data removed]"
          },
          "metadata": {}
        }
      ],
      "source": [
        "# Curvas de aprendizado\n",
        "loss, val_loss = history.history['loss'], history.history['val_loss']\n",
        "plt.plot(loss, label = 'Erro em Treino')\n",
        "plt.plot(val_loss, label = 'Erro em Validação')\n",
        "plt.legend()\n",
        "plt.show()"
      ]
    },
    {
      "cell_type": "code",
      "execution_count": 44,
      "metadata": {
        "colab": {
          "base_uri": "https://localhost:8080/"
        },
        "id": "pQg_EGH0_B87",
        "outputId": "9dbaae8a-613d-48ad-b389-8913d3870aff"
      },
      "outputs": [
        {
          "output_type": "stream",
          "name": "stdout",
          "text": [
            "63/63 [==============================] - 8s 104ms/step\n"
          ]
        }
      ],
      "source": [
        "# Previsões\n",
        "previsoes = modelo_dsa_v3.predict(X_teste_final)"
      ]
    },
    {
      "cell_type": "code",
      "execution_count": 45,
      "metadata": {
        "id": "esb_InV__B87"
      },
      "outputs": [],
      "source": [
        "# Labels\n",
        "labels_previstos = previsoes.argmax(axis = 1)"
      ]
    },
    {
      "cell_type": "code",
      "execution_count": 46,
      "metadata": {
        "colab": {
          "base_uri": "https://localhost:8080/"
        },
        "id": "hegE4Iix_B87",
        "outputId": "9e8ea113-0365-427a-b1d8-a565e112da4a"
      },
      "outputs": [
        {
          "output_type": "stream",
          "name": "stdout",
          "text": [
            "              precision    recall  f1-score   support\n",
            "\n",
            "           0       0.89      0.93      0.91       275\n",
            "           1       0.92      0.83      0.87       224\n",
            "           2       0.94      0.93      0.93       695\n",
            "           3       0.75      0.86      0.80       159\n",
            "           4       0.95      0.92      0.94       581\n",
            "           5       0.70      0.83      0.76        66\n",
            "\n",
            "    accuracy                           0.91      2000\n",
            "   macro avg       0.86      0.88      0.87      2000\n",
            "weighted avg       0.91      0.91      0.91      2000\n",
            "\n"
          ]
        }
      ],
      "source": [
        "print(classification_report(y_teste_le, labels_previstos))"
      ]
    },
    {
      "cell_type": "code",
      "execution_count": 47,
      "metadata": {
        "colab": {
          "base_uri": "https://localhost:8080/"
        },
        "id": "JKE_yR2o_B87",
        "outputId": "246e3147-4093-4b0c-e867-8a726036408b"
      },
      "outputs": [
        {
          "output_type": "stream",
          "name": "stdout",
          "text": [
            "[[255   2   4   2  12   0]\n",
            " [  9 185   3   0   4  23]\n",
            " [  3   1 643  41   7   0]\n",
            " [  2   1  16 136   4   0]\n",
            " [ 18  11  13   2 536   1]\n",
            " [  1   2   8   0   0  55]]\n"
          ]
        }
      ],
      "source": [
        "print(confusion_matrix(y_teste_le, labels_previstos))"
      ]
    },
    {
      "cell_type": "code",
      "execution_count": 48,
      "metadata": {
        "colab": {
          "base_uri": "https://localhost:8080/"
        },
        "id": "b6YGnMZr_B87",
        "outputId": "bba1aa22-baca-4286-9919-c7c44a6e8594"
      },
      "outputs": [
        {
          "output_type": "stream",
          "name": "stdout",
          "text": [
            "0.905\n"
          ]
        }
      ],
      "source": [
        "print(accuracy_score(y_teste_le, labels_previstos))"
      ]
    },
    {
      "cell_type": "code",
      "execution_count": 49,
      "metadata": {
        "id": "yGkLuWHe_B88"
      },
      "outputs": [],
      "source": [
        "# Salva o modelo no formato do TensorFlow\n",
        "modelo_dsa_v3.save(\"modelo_dsa_v3.keras\", save_format = 'tf')"
      ]
    },
    {
      "cell_type": "markdown",
      "metadata": {
        "id": "8Ho9mmiv_B88"
      },
      "source": [
        "> Deploy do Modelo."
      ]
    },
    {
      "cell_type": "markdown",
      "metadata": {
        "id": "X8Taem_4_B88"
      },
      "source": [
        "Nota: O TensorFlow não reconhece automaticamente camadas personalizadas ou objetos que não fazem parte do núcleo do Keras/TensorFlow, como é o caso do TFDistilBertModel do pacote transformers.\n",
        "\n",
        "Para resolver isso, você precisa registrar a camada personalizada (neste caso, TFDistilBertModel) antes de carregar o modelo, conforme abaixo:"
      ]
    },
    {
      "cell_type": "code",
      "execution_count": 50,
      "metadata": {
        "id": "4pebICRJ_B88"
      },
      "outputs": [],
      "source": [
        "# Carregando o modelo\n",
        "\n",
        "# Imports\n",
        "from transformers import TFDistilBertModel\n",
        "from tensorflow.keras.utils import custom_object_scope\n",
        "\n",
        "# Registra camada personalizada e carrega o modelo\n",
        "with custom_object_scope({'TFDistilBertModel': TFDistilBertModel}):\n",
        "    modelo_recarregado = tf.keras.models.load_model(\"modelo_dsa_v3.keras\")"
      ]
    },
    {
      "cell_type": "code",
      "execution_count": 51,
      "metadata": {
        "id": "CHoyEN7G_B88"
      },
      "outputs": [],
      "source": [
        "# Nova frase (sentimento = medo (fear))\n",
        "frase = \"i even feel a little shaky\""
      ]
    },
    {
      "cell_type": "code",
      "execution_count": 52,
      "metadata": {
        "id": "DUwK7Vuu_B88"
      },
      "outputs": [],
      "source": [
        "# Cria um dataframe com a frase\n",
        "df_novo = pd.DataFrame({'Frase': [frase]})"
      ]
    },
    {
      "cell_type": "code",
      "execution_count": 53,
      "metadata": {
        "id": "YcSYK5dG_B88"
      },
      "outputs": [],
      "source": [
        "# Aplica a função de processamento\n",
        "df_novo['Frase_Processada'] = df_novo['Frase'].apply(dsa_preprocessa_texto)"
      ]
    },
    {
      "cell_type": "code",
      "execution_count": 54,
      "metadata": {
        "colab": {
          "base_uri": "https://localhost:8080/"
        },
        "id": "f1EunuXc_B89",
        "outputId": "4a25fb68-2d03-4114-fea5-3b0d0d77d406"
      },
      "outputs": [
        {
          "output_type": "stream",
          "name": "stderr",
          "text": [
            "100%|██████████| 1/1 [00:00<00:00, 1446.31it/s]\n"
          ]
        }
      ],
      "source": [
        "novos_dados = dsa_encode(df_novo['Frase_Processada'], fast_tokenizer, maxlen = max_length)"
      ]
    },
    {
      "cell_type": "code",
      "execution_count": 55,
      "metadata": {
        "colab": {
          "base_uri": "https://localhost:8080/"
        },
        "id": "zohdc9B5_B89",
        "outputId": "22b74c2c-e8b7-47ac-c5cf-89549140dfec"
      },
      "outputs": [
        {
          "output_type": "stream",
          "name": "stdout",
          "text": [
            "1/1 [==============================] - 1s 1s/step\n"
          ]
        }
      ],
      "source": [
        "# Fazer previsões com o modelo carregado\n",
        "previsoes = modelo_recarregado.predict(novos_dados)"
      ]
    },
    {
      "cell_type": "code",
      "execution_count": 56,
      "metadata": {
        "id": "kSh0B2lP_B89"
      },
      "outputs": [],
      "source": [
        "# Seleciona a classe com maior probabilidade\n",
        "classe_maior_prob = np.argmax(previsoes, axis = 1)"
      ]
    },
    {
      "cell_type": "code",
      "execution_count": 57,
      "metadata": {
        "colab": {
          "base_uri": "https://localhost:8080/"
        },
        "id": "WmFJeEo1_B89",
        "outputId": "ffc0f8e3-b6b0-4bd0-8270-fa0d6e75b243"
      },
      "outputs": [
        {
          "output_type": "execute_result",
          "data": {
            "text/plain": [
              "array([1])"
            ]
          },
          "metadata": {},
          "execution_count": 57
        }
      ],
      "source": [
        "classe_maior_prob"
      ]
    },
    {
      "cell_type": "code",
      "execution_count": 58,
      "metadata": {
        "id": "lWS_Hd7q_B89"
      },
      "outputs": [],
      "source": [
        "# Obtém o nome da classe\n",
        "nome_classe = dsa_le_v3.inverse_transform(classe_maior_prob)"
      ]
    },
    {
      "cell_type": "code",
      "execution_count": 59,
      "metadata": {
        "colab": {
          "base_uri": "https://localhost:8080/"
        },
        "id": "MCQWwi-q_B89",
        "outputId": "de02757d-0c1b-4056-e20b-880317f8538c"
      },
      "outputs": [
        {
          "output_type": "execute_result",
          "data": {
            "text/plain": [
              "array(['fear'], dtype=object)"
            ]
          },
          "metadata": {},
          "execution_count": 59
        }
      ],
      "source": [
        "# Classe prevista\n",
        "nome_classe"
      ]
    },
    {
      "cell_type": "code",
      "execution_count": 60,
      "metadata": {
        "colab": {
          "base_uri": "https://localhost:8080/"
        },
        "id": "A0zpY690_B8-",
        "outputId": "55ddcc42-7a7e-4058-88bf-dcce7a5b095a"
      },
      "outputs": [
        {
          "output_type": "stream",
          "name": "stdout",
          "text": [
            "env: TOKENIZERS_PARALLELISM=false\n"
          ]
        }
      ],
      "source": [
        "# Desliga o paralelismo do pacote Transformer\n",
        "%env TOKENIZERS_PARALLELISM=false"
      ]
    }
  ],
  "metadata": {
    "accelerator": "GPU",
    "colab": {
      "gpuType": "T4",
      "provenance": []
    },
    "kernelspec": {
      "display_name": "Python 3",
      "name": "python3"
    },
    "language_info": {
      "codemirror_mode": {
        "name": "ipython",
        "version": 3
      },
      "file_extension": ".py",
      "mimetype": "text/x-python",
      "name": "python",
      "nbconvert_exporter": "python",
      "pygments_lexer": "ipython3",
      "version": "3.11.5"
    },
    "widgets": {
      "application/vnd.jupyter.widget-state+json": {
        "03d33c109aa54c66b95475f2a1f90588": {
          "model_module": "@jupyter-widgets/controls",
          "model_name": "HBoxModel",
          "model_module_version": "1.5.0",
          "state": {
            "_dom_classes": [],
            "_model_module": "@jupyter-widgets/controls",
            "_model_module_version": "1.5.0",
            "_model_name": "HBoxModel",
            "_view_count": null,
            "_view_module": "@jupyter-widgets/controls",
            "_view_module_version": "1.5.0",
            "_view_name": "HBoxView",
            "box_style": "",
            "children": [
              "IPY_MODEL_869c3430fbbe44f89f7651f693f03353",
              "IPY_MODEL_8efba13cd8f442968b064bac43dd2e38",
              "IPY_MODEL_b9032a8f80e64daa9b58f369c96b9928"
            ],
            "layout": "IPY_MODEL_d0e2ad3d39544e48bf55aa4c6a80d1fe"
          }
        },
        "869c3430fbbe44f89f7651f693f03353": {
          "model_module": "@jupyter-widgets/controls",
          "model_name": "HTMLModel",
          "model_module_version": "1.5.0",
          "state": {
            "_dom_classes": [],
            "_model_module": "@jupyter-widgets/controls",
            "_model_module_version": "1.5.0",
            "_model_name": "HTMLModel",
            "_view_count": null,
            "_view_module": "@jupyter-widgets/controls",
            "_view_module_version": "1.5.0",
            "_view_name": "HTMLView",
            "description": "",
            "description_tooltip": null,
            "layout": "IPY_MODEL_d7880c4fa09c46ca8129c67569687e52",
            "placeholder": "​",
            "style": "IPY_MODEL_6be471ae48dd46399a9a82429096d752",
            "value": "tokenizer_config.json: 100%"
          }
        },
        "8efba13cd8f442968b064bac43dd2e38": {
          "model_module": "@jupyter-widgets/controls",
          "model_name": "FloatProgressModel",
          "model_module_version": "1.5.0",
          "state": {
            "_dom_classes": [],
            "_model_module": "@jupyter-widgets/controls",
            "_model_module_version": "1.5.0",
            "_model_name": "FloatProgressModel",
            "_view_count": null,
            "_view_module": "@jupyter-widgets/controls",
            "_view_module_version": "1.5.0",
            "_view_name": "ProgressView",
            "bar_style": "success",
            "description": "",
            "description_tooltip": null,
            "layout": "IPY_MODEL_1956706c079041b4815224661a1617ee",
            "max": 29,
            "min": 0,
            "orientation": "horizontal",
            "style": "IPY_MODEL_ff4d891dfda240ba98480d13413f969c",
            "value": 29
          }
        },
        "b9032a8f80e64daa9b58f369c96b9928": {
          "model_module": "@jupyter-widgets/controls",
          "model_name": "HTMLModel",
          "model_module_version": "1.5.0",
          "state": {
            "_dom_classes": [],
            "_model_module": "@jupyter-widgets/controls",
            "_model_module_version": "1.5.0",
            "_model_name": "HTMLModel",
            "_view_count": null,
            "_view_module": "@jupyter-widgets/controls",
            "_view_module_version": "1.5.0",
            "_view_name": "HTMLView",
            "description": "",
            "description_tooltip": null,
            "layout": "IPY_MODEL_677a66e32c584603b98376ae68b118dc",
            "placeholder": "​",
            "style": "IPY_MODEL_91940da19e7b425f8ffa7b2d666b7d4a",
            "value": " 29.0/29.0 [00:00&lt;00:00, 1.15kB/s]"
          }
        },
        "d0e2ad3d39544e48bf55aa4c6a80d1fe": {
          "model_module": "@jupyter-widgets/base",
          "model_name": "LayoutModel",
          "model_module_version": "1.2.0",
          "state": {
            "_model_module": "@jupyter-widgets/base",
            "_model_module_version": "1.2.0",
            "_model_name": "LayoutModel",
            "_view_count": null,
            "_view_module": "@jupyter-widgets/base",
            "_view_module_version": "1.2.0",
            "_view_name": "LayoutView",
            "align_content": null,
            "align_items": null,
            "align_self": null,
            "border": null,
            "bottom": null,
            "display": null,
            "flex": null,
            "flex_flow": null,
            "grid_area": null,
            "grid_auto_columns": null,
            "grid_auto_flow": null,
            "grid_auto_rows": null,
            "grid_column": null,
            "grid_gap": null,
            "grid_row": null,
            "grid_template_areas": null,
            "grid_template_columns": null,
            "grid_template_rows": null,
            "height": null,
            "justify_content": null,
            "justify_items": null,
            "left": null,
            "margin": null,
            "max_height": null,
            "max_width": null,
            "min_height": null,
            "min_width": null,
            "object_fit": null,
            "object_position": null,
            "order": null,
            "overflow": null,
            "overflow_x": null,
            "overflow_y": null,
            "padding": null,
            "right": null,
            "top": null,
            "visibility": null,
            "width": null
          }
        },
        "d7880c4fa09c46ca8129c67569687e52": {
          "model_module": "@jupyter-widgets/base",
          "model_name": "LayoutModel",
          "model_module_version": "1.2.0",
          "state": {
            "_model_module": "@jupyter-widgets/base",
            "_model_module_version": "1.2.0",
            "_model_name": "LayoutModel",
            "_view_count": null,
            "_view_module": "@jupyter-widgets/base",
            "_view_module_version": "1.2.0",
            "_view_name": "LayoutView",
            "align_content": null,
            "align_items": null,
            "align_self": null,
            "border": null,
            "bottom": null,
            "display": null,
            "flex": null,
            "flex_flow": null,
            "grid_area": null,
            "grid_auto_columns": null,
            "grid_auto_flow": null,
            "grid_auto_rows": null,
            "grid_column": null,
            "grid_gap": null,
            "grid_row": null,
            "grid_template_areas": null,
            "grid_template_columns": null,
            "grid_template_rows": null,
            "height": null,
            "justify_content": null,
            "justify_items": null,
            "left": null,
            "margin": null,
            "max_height": null,
            "max_width": null,
            "min_height": null,
            "min_width": null,
            "object_fit": null,
            "object_position": null,
            "order": null,
            "overflow": null,
            "overflow_x": null,
            "overflow_y": null,
            "padding": null,
            "right": null,
            "top": null,
            "visibility": null,
            "width": null
          }
        },
        "6be471ae48dd46399a9a82429096d752": {
          "model_module": "@jupyter-widgets/controls",
          "model_name": "DescriptionStyleModel",
          "model_module_version": "1.5.0",
          "state": {
            "_model_module": "@jupyter-widgets/controls",
            "_model_module_version": "1.5.0",
            "_model_name": "DescriptionStyleModel",
            "_view_count": null,
            "_view_module": "@jupyter-widgets/base",
            "_view_module_version": "1.2.0",
            "_view_name": "StyleView",
            "description_width": ""
          }
        },
        "1956706c079041b4815224661a1617ee": {
          "model_module": "@jupyter-widgets/base",
          "model_name": "LayoutModel",
          "model_module_version": "1.2.0",
          "state": {
            "_model_module": "@jupyter-widgets/base",
            "_model_module_version": "1.2.0",
            "_model_name": "LayoutModel",
            "_view_count": null,
            "_view_module": "@jupyter-widgets/base",
            "_view_module_version": "1.2.0",
            "_view_name": "LayoutView",
            "align_content": null,
            "align_items": null,
            "align_self": null,
            "border": null,
            "bottom": null,
            "display": null,
            "flex": null,
            "flex_flow": null,
            "grid_area": null,
            "grid_auto_columns": null,
            "grid_auto_flow": null,
            "grid_auto_rows": null,
            "grid_column": null,
            "grid_gap": null,
            "grid_row": null,
            "grid_template_areas": null,
            "grid_template_columns": null,
            "grid_template_rows": null,
            "height": null,
            "justify_content": null,
            "justify_items": null,
            "left": null,
            "margin": null,
            "max_height": null,
            "max_width": null,
            "min_height": null,
            "min_width": null,
            "object_fit": null,
            "object_position": null,
            "order": null,
            "overflow": null,
            "overflow_x": null,
            "overflow_y": null,
            "padding": null,
            "right": null,
            "top": null,
            "visibility": null,
            "width": null
          }
        },
        "ff4d891dfda240ba98480d13413f969c": {
          "model_module": "@jupyter-widgets/controls",
          "model_name": "ProgressStyleModel",
          "model_module_version": "1.5.0",
          "state": {
            "_model_module": "@jupyter-widgets/controls",
            "_model_module_version": "1.5.0",
            "_model_name": "ProgressStyleModel",
            "_view_count": null,
            "_view_module": "@jupyter-widgets/base",
            "_view_module_version": "1.2.0",
            "_view_name": "StyleView",
            "bar_color": null,
            "description_width": ""
          }
        },
        "677a66e32c584603b98376ae68b118dc": {
          "model_module": "@jupyter-widgets/base",
          "model_name": "LayoutModel",
          "model_module_version": "1.2.0",
          "state": {
            "_model_module": "@jupyter-widgets/base",
            "_model_module_version": "1.2.0",
            "_model_name": "LayoutModel",
            "_view_count": null,
            "_view_module": "@jupyter-widgets/base",
            "_view_module_version": "1.2.0",
            "_view_name": "LayoutView",
            "align_content": null,
            "align_items": null,
            "align_self": null,
            "border": null,
            "bottom": null,
            "display": null,
            "flex": null,
            "flex_flow": null,
            "grid_area": null,
            "grid_auto_columns": null,
            "grid_auto_flow": null,
            "grid_auto_rows": null,
            "grid_column": null,
            "grid_gap": null,
            "grid_row": null,
            "grid_template_areas": null,
            "grid_template_columns": null,
            "grid_template_rows": null,
            "height": null,
            "justify_content": null,
            "justify_items": null,
            "left": null,
            "margin": null,
            "max_height": null,
            "max_width": null,
            "min_height": null,
            "min_width": null,
            "object_fit": null,
            "object_position": null,
            "order": null,
            "overflow": null,
            "overflow_x": null,
            "overflow_y": null,
            "padding": null,
            "right": null,
            "top": null,
            "visibility": null,
            "width": null
          }
        },
        "91940da19e7b425f8ffa7b2d666b7d4a": {
          "model_module": "@jupyter-widgets/controls",
          "model_name": "DescriptionStyleModel",
          "model_module_version": "1.5.0",
          "state": {
            "_model_module": "@jupyter-widgets/controls",
            "_model_module_version": "1.5.0",
            "_model_name": "DescriptionStyleModel",
            "_view_count": null,
            "_view_module": "@jupyter-widgets/base",
            "_view_module_version": "1.2.0",
            "_view_name": "StyleView",
            "description_width": ""
          }
        },
        "3fb4f9aea23c4fc0b47a158de90df22b": {
          "model_module": "@jupyter-widgets/controls",
          "model_name": "HBoxModel",
          "model_module_version": "1.5.0",
          "state": {
            "_dom_classes": [],
            "_model_module": "@jupyter-widgets/controls",
            "_model_module_version": "1.5.0",
            "_model_name": "HBoxModel",
            "_view_count": null,
            "_view_module": "@jupyter-widgets/controls",
            "_view_module_version": "1.5.0",
            "_view_name": "HBoxView",
            "box_style": "",
            "children": [
              "IPY_MODEL_97105de354654e88a28f2a47750b1a61",
              "IPY_MODEL_68ce493af87b4910bef386feb32854b8",
              "IPY_MODEL_09b475c1ed5147f186fbc138eb022ff0"
            ],
            "layout": "IPY_MODEL_0dd2ca6ed43541af95282026e2950763"
          }
        },
        "97105de354654e88a28f2a47750b1a61": {
          "model_module": "@jupyter-widgets/controls",
          "model_name": "HTMLModel",
          "model_module_version": "1.5.0",
          "state": {
            "_dom_classes": [],
            "_model_module": "@jupyter-widgets/controls",
            "_model_module_version": "1.5.0",
            "_model_name": "HTMLModel",
            "_view_count": null,
            "_view_module": "@jupyter-widgets/controls",
            "_view_module_version": "1.5.0",
            "_view_name": "HTMLView",
            "description": "",
            "description_tooltip": null,
            "layout": "IPY_MODEL_89bcc35d082b4eaa826146037e68268f",
            "placeholder": "​",
            "style": "IPY_MODEL_6ee20d9c478944578fa084bc2a5f63c0",
            "value": "vocab.txt: 100%"
          }
        },
        "68ce493af87b4910bef386feb32854b8": {
          "model_module": "@jupyter-widgets/controls",
          "model_name": "FloatProgressModel",
          "model_module_version": "1.5.0",
          "state": {
            "_dom_classes": [],
            "_model_module": "@jupyter-widgets/controls",
            "_model_module_version": "1.5.0",
            "_model_name": "FloatProgressModel",
            "_view_count": null,
            "_view_module": "@jupyter-widgets/controls",
            "_view_module_version": "1.5.0",
            "_view_name": "ProgressView",
            "bar_style": "success",
            "description": "",
            "description_tooltip": null,
            "layout": "IPY_MODEL_9f7e71bb7e3e456f91a13d43f753ce98",
            "max": 995526,
            "min": 0,
            "orientation": "horizontal",
            "style": "IPY_MODEL_418fd30674dd40ca9aa54ad572ae66dd",
            "value": 995526
          }
        },
        "09b475c1ed5147f186fbc138eb022ff0": {
          "model_module": "@jupyter-widgets/controls",
          "model_name": "HTMLModel",
          "model_module_version": "1.5.0",
          "state": {
            "_dom_classes": [],
            "_model_module": "@jupyter-widgets/controls",
            "_model_module_version": "1.5.0",
            "_model_name": "HTMLModel",
            "_view_count": null,
            "_view_module": "@jupyter-widgets/controls",
            "_view_module_version": "1.5.0",
            "_view_name": "HTMLView",
            "description": "",
            "description_tooltip": null,
            "layout": "IPY_MODEL_655034b6784543718a6e9e4fb17a7e42",
            "placeholder": "​",
            "style": "IPY_MODEL_9e26ec10454b4bc8b0a09fd3484fd851",
            "value": " 996k/996k [00:00&lt;00:00, 8.91MB/s]"
          }
        },
        "0dd2ca6ed43541af95282026e2950763": {
          "model_module": "@jupyter-widgets/base",
          "model_name": "LayoutModel",
          "model_module_version": "1.2.0",
          "state": {
            "_model_module": "@jupyter-widgets/base",
            "_model_module_version": "1.2.0",
            "_model_name": "LayoutModel",
            "_view_count": null,
            "_view_module": "@jupyter-widgets/base",
            "_view_module_version": "1.2.0",
            "_view_name": "LayoutView",
            "align_content": null,
            "align_items": null,
            "align_self": null,
            "border": null,
            "bottom": null,
            "display": null,
            "flex": null,
            "flex_flow": null,
            "grid_area": null,
            "grid_auto_columns": null,
            "grid_auto_flow": null,
            "grid_auto_rows": null,
            "grid_column": null,
            "grid_gap": null,
            "grid_row": null,
            "grid_template_areas": null,
            "grid_template_columns": null,
            "grid_template_rows": null,
            "height": null,
            "justify_content": null,
            "justify_items": null,
            "left": null,
            "margin": null,
            "max_height": null,
            "max_width": null,
            "min_height": null,
            "min_width": null,
            "object_fit": null,
            "object_position": null,
            "order": null,
            "overflow": null,
            "overflow_x": null,
            "overflow_y": null,
            "padding": null,
            "right": null,
            "top": null,
            "visibility": null,
            "width": null
          }
        },
        "89bcc35d082b4eaa826146037e68268f": {
          "model_module": "@jupyter-widgets/base",
          "model_name": "LayoutModel",
          "model_module_version": "1.2.0",
          "state": {
            "_model_module": "@jupyter-widgets/base",
            "_model_module_version": "1.2.0",
            "_model_name": "LayoutModel",
            "_view_count": null,
            "_view_module": "@jupyter-widgets/base",
            "_view_module_version": "1.2.0",
            "_view_name": "LayoutView",
            "align_content": null,
            "align_items": null,
            "align_self": null,
            "border": null,
            "bottom": null,
            "display": null,
            "flex": null,
            "flex_flow": null,
            "grid_area": null,
            "grid_auto_columns": null,
            "grid_auto_flow": null,
            "grid_auto_rows": null,
            "grid_column": null,
            "grid_gap": null,
            "grid_row": null,
            "grid_template_areas": null,
            "grid_template_columns": null,
            "grid_template_rows": null,
            "height": null,
            "justify_content": null,
            "justify_items": null,
            "left": null,
            "margin": null,
            "max_height": null,
            "max_width": null,
            "min_height": null,
            "min_width": null,
            "object_fit": null,
            "object_position": null,
            "order": null,
            "overflow": null,
            "overflow_x": null,
            "overflow_y": null,
            "padding": null,
            "right": null,
            "top": null,
            "visibility": null,
            "width": null
          }
        },
        "6ee20d9c478944578fa084bc2a5f63c0": {
          "model_module": "@jupyter-widgets/controls",
          "model_name": "DescriptionStyleModel",
          "model_module_version": "1.5.0",
          "state": {
            "_model_module": "@jupyter-widgets/controls",
            "_model_module_version": "1.5.0",
            "_model_name": "DescriptionStyleModel",
            "_view_count": null,
            "_view_module": "@jupyter-widgets/base",
            "_view_module_version": "1.2.0",
            "_view_name": "StyleView",
            "description_width": ""
          }
        },
        "9f7e71bb7e3e456f91a13d43f753ce98": {
          "model_module": "@jupyter-widgets/base",
          "model_name": "LayoutModel",
          "model_module_version": "1.2.0",
          "state": {
            "_model_module": "@jupyter-widgets/base",
            "_model_module_version": "1.2.0",
            "_model_name": "LayoutModel",
            "_view_count": null,
            "_view_module": "@jupyter-widgets/base",
            "_view_module_version": "1.2.0",
            "_view_name": "LayoutView",
            "align_content": null,
            "align_items": null,
            "align_self": null,
            "border": null,
            "bottom": null,
            "display": null,
            "flex": null,
            "flex_flow": null,
            "grid_area": null,
            "grid_auto_columns": null,
            "grid_auto_flow": null,
            "grid_auto_rows": null,
            "grid_column": null,
            "grid_gap": null,
            "grid_row": null,
            "grid_template_areas": null,
            "grid_template_columns": null,
            "grid_template_rows": null,
            "height": null,
            "justify_content": null,
            "justify_items": null,
            "left": null,
            "margin": null,
            "max_height": null,
            "max_width": null,
            "min_height": null,
            "min_width": null,
            "object_fit": null,
            "object_position": null,
            "order": null,
            "overflow": null,
            "overflow_x": null,
            "overflow_y": null,
            "padding": null,
            "right": null,
            "top": null,
            "visibility": null,
            "width": null
          }
        },
        "418fd30674dd40ca9aa54ad572ae66dd": {
          "model_module": "@jupyter-widgets/controls",
          "model_name": "ProgressStyleModel",
          "model_module_version": "1.5.0",
          "state": {
            "_model_module": "@jupyter-widgets/controls",
            "_model_module_version": "1.5.0",
            "_model_name": "ProgressStyleModel",
            "_view_count": null,
            "_view_module": "@jupyter-widgets/base",
            "_view_module_version": "1.2.0",
            "_view_name": "StyleView",
            "bar_color": null,
            "description_width": ""
          }
        },
        "655034b6784543718a6e9e4fb17a7e42": {
          "model_module": "@jupyter-widgets/base",
          "model_name": "LayoutModel",
          "model_module_version": "1.2.0",
          "state": {
            "_model_module": "@jupyter-widgets/base",
            "_model_module_version": "1.2.0",
            "_model_name": "LayoutModel",
            "_view_count": null,
            "_view_module": "@jupyter-widgets/base",
            "_view_module_version": "1.2.0",
            "_view_name": "LayoutView",
            "align_content": null,
            "align_items": null,
            "align_self": null,
            "border": null,
            "bottom": null,
            "display": null,
            "flex": null,
            "flex_flow": null,
            "grid_area": null,
            "grid_auto_columns": null,
            "grid_auto_flow": null,
            "grid_auto_rows": null,
            "grid_column": null,
            "grid_gap": null,
            "grid_row": null,
            "grid_template_areas": null,
            "grid_template_columns": null,
            "grid_template_rows": null,
            "height": null,
            "justify_content": null,
            "justify_items": null,
            "left": null,
            "margin": null,
            "max_height": null,
            "max_width": null,
            "min_height": null,
            "min_width": null,
            "object_fit": null,
            "object_position": null,
            "order": null,
            "overflow": null,
            "overflow_x": null,
            "overflow_y": null,
            "padding": null,
            "right": null,
            "top": null,
            "visibility": null,
            "width": null
          }
        },
        "9e26ec10454b4bc8b0a09fd3484fd851": {
          "model_module": "@jupyter-widgets/controls",
          "model_name": "DescriptionStyleModel",
          "model_module_version": "1.5.0",
          "state": {
            "_model_module": "@jupyter-widgets/controls",
            "_model_module_version": "1.5.0",
            "_model_name": "DescriptionStyleModel",
            "_view_count": null,
            "_view_module": "@jupyter-widgets/base",
            "_view_module_version": "1.2.0",
            "_view_name": "StyleView",
            "description_width": ""
          }
        },
        "821173c22e1140b19db8418b8557f7f9": {
          "model_module": "@jupyter-widgets/controls",
          "model_name": "HBoxModel",
          "model_module_version": "1.5.0",
          "state": {
            "_dom_classes": [],
            "_model_module": "@jupyter-widgets/controls",
            "_model_module_version": "1.5.0",
            "_model_name": "HBoxModel",
            "_view_count": null,
            "_view_module": "@jupyter-widgets/controls",
            "_view_module_version": "1.5.0",
            "_view_name": "HBoxView",
            "box_style": "",
            "children": [
              "IPY_MODEL_6b2a130217ea4df68419ec24f339e407",
              "IPY_MODEL_cbd41130bebd46abb2609303e80c4083",
              "IPY_MODEL_e18e07aedc874e6fa37e0f2324f3150d"
            ],
            "layout": "IPY_MODEL_b59cf27b21104334a9bc379cb2cb8992"
          }
        },
        "6b2a130217ea4df68419ec24f339e407": {
          "model_module": "@jupyter-widgets/controls",
          "model_name": "HTMLModel",
          "model_module_version": "1.5.0",
          "state": {
            "_dom_classes": [],
            "_model_module": "@jupyter-widgets/controls",
            "_model_module_version": "1.5.0",
            "_model_name": "HTMLModel",
            "_view_count": null,
            "_view_module": "@jupyter-widgets/controls",
            "_view_module_version": "1.5.0",
            "_view_name": "HTMLView",
            "description": "",
            "description_tooltip": null,
            "layout": "IPY_MODEL_45fb56853b084701bb86b172685dacc2",
            "placeholder": "​",
            "style": "IPY_MODEL_5c8869b7cb934425993f1a437dc1f09c",
            "value": "tokenizer.json: 100%"
          }
        },
        "cbd41130bebd46abb2609303e80c4083": {
          "model_module": "@jupyter-widgets/controls",
          "model_name": "FloatProgressModel",
          "model_module_version": "1.5.0",
          "state": {
            "_dom_classes": [],
            "_model_module": "@jupyter-widgets/controls",
            "_model_module_version": "1.5.0",
            "_model_name": "FloatProgressModel",
            "_view_count": null,
            "_view_module": "@jupyter-widgets/controls",
            "_view_module_version": "1.5.0",
            "_view_name": "ProgressView",
            "bar_style": "success",
            "description": "",
            "description_tooltip": null,
            "layout": "IPY_MODEL_7493ba61d6ee4928af22305eef163681",
            "max": 1961828,
            "min": 0,
            "orientation": "horizontal",
            "style": "IPY_MODEL_03ecf4e7c78e498a9c0cc33af12e350d",
            "value": 1961828
          }
        },
        "e18e07aedc874e6fa37e0f2324f3150d": {
          "model_module": "@jupyter-widgets/controls",
          "model_name": "HTMLModel",
          "model_module_version": "1.5.0",
          "state": {
            "_dom_classes": [],
            "_model_module": "@jupyter-widgets/controls",
            "_model_module_version": "1.5.0",
            "_model_name": "HTMLModel",
            "_view_count": null,
            "_view_module": "@jupyter-widgets/controls",
            "_view_module_version": "1.5.0",
            "_view_name": "HTMLView",
            "description": "",
            "description_tooltip": null,
            "layout": "IPY_MODEL_7d5a02f9e3d5442abc63b4c2ed910e11",
            "placeholder": "​",
            "style": "IPY_MODEL_bf9bf6dd93c941e7831ecd872f4c8f96",
            "value": " 1.96M/1.96M [00:00&lt;00:00, 17.6MB/s]"
          }
        },
        "b59cf27b21104334a9bc379cb2cb8992": {
          "model_module": "@jupyter-widgets/base",
          "model_name": "LayoutModel",
          "model_module_version": "1.2.0",
          "state": {
            "_model_module": "@jupyter-widgets/base",
            "_model_module_version": "1.2.0",
            "_model_name": "LayoutModel",
            "_view_count": null,
            "_view_module": "@jupyter-widgets/base",
            "_view_module_version": "1.2.0",
            "_view_name": "LayoutView",
            "align_content": null,
            "align_items": null,
            "align_self": null,
            "border": null,
            "bottom": null,
            "display": null,
            "flex": null,
            "flex_flow": null,
            "grid_area": null,
            "grid_auto_columns": null,
            "grid_auto_flow": null,
            "grid_auto_rows": null,
            "grid_column": null,
            "grid_gap": null,
            "grid_row": null,
            "grid_template_areas": null,
            "grid_template_columns": null,
            "grid_template_rows": null,
            "height": null,
            "justify_content": null,
            "justify_items": null,
            "left": null,
            "margin": null,
            "max_height": null,
            "max_width": null,
            "min_height": null,
            "min_width": null,
            "object_fit": null,
            "object_position": null,
            "order": null,
            "overflow": null,
            "overflow_x": null,
            "overflow_y": null,
            "padding": null,
            "right": null,
            "top": null,
            "visibility": null,
            "width": null
          }
        },
        "45fb56853b084701bb86b172685dacc2": {
          "model_module": "@jupyter-widgets/base",
          "model_name": "LayoutModel",
          "model_module_version": "1.2.0",
          "state": {
            "_model_module": "@jupyter-widgets/base",
            "_model_module_version": "1.2.0",
            "_model_name": "LayoutModel",
            "_view_count": null,
            "_view_module": "@jupyter-widgets/base",
            "_view_module_version": "1.2.0",
            "_view_name": "LayoutView",
            "align_content": null,
            "align_items": null,
            "align_self": null,
            "border": null,
            "bottom": null,
            "display": null,
            "flex": null,
            "flex_flow": null,
            "grid_area": null,
            "grid_auto_columns": null,
            "grid_auto_flow": null,
            "grid_auto_rows": null,
            "grid_column": null,
            "grid_gap": null,
            "grid_row": null,
            "grid_template_areas": null,
            "grid_template_columns": null,
            "grid_template_rows": null,
            "height": null,
            "justify_content": null,
            "justify_items": null,
            "left": null,
            "margin": null,
            "max_height": null,
            "max_width": null,
            "min_height": null,
            "min_width": null,
            "object_fit": null,
            "object_position": null,
            "order": null,
            "overflow": null,
            "overflow_x": null,
            "overflow_y": null,
            "padding": null,
            "right": null,
            "top": null,
            "visibility": null,
            "width": null
          }
        },
        "5c8869b7cb934425993f1a437dc1f09c": {
          "model_module": "@jupyter-widgets/controls",
          "model_name": "DescriptionStyleModel",
          "model_module_version": "1.5.0",
          "state": {
            "_model_module": "@jupyter-widgets/controls",
            "_model_module_version": "1.5.0",
            "_model_name": "DescriptionStyleModel",
            "_view_count": null,
            "_view_module": "@jupyter-widgets/base",
            "_view_module_version": "1.2.0",
            "_view_name": "StyleView",
            "description_width": ""
          }
        },
        "7493ba61d6ee4928af22305eef163681": {
          "model_module": "@jupyter-widgets/base",
          "model_name": "LayoutModel",
          "model_module_version": "1.2.0",
          "state": {
            "_model_module": "@jupyter-widgets/base",
            "_model_module_version": "1.2.0",
            "_model_name": "LayoutModel",
            "_view_count": null,
            "_view_module": "@jupyter-widgets/base",
            "_view_module_version": "1.2.0",
            "_view_name": "LayoutView",
            "align_content": null,
            "align_items": null,
            "align_self": null,
            "border": null,
            "bottom": null,
            "display": null,
            "flex": null,
            "flex_flow": null,
            "grid_area": null,
            "grid_auto_columns": null,
            "grid_auto_flow": null,
            "grid_auto_rows": null,
            "grid_column": null,
            "grid_gap": null,
            "grid_row": null,
            "grid_template_areas": null,
            "grid_template_columns": null,
            "grid_template_rows": null,
            "height": null,
            "justify_content": null,
            "justify_items": null,
            "left": null,
            "margin": null,
            "max_height": null,
            "max_width": null,
            "min_height": null,
            "min_width": null,
            "object_fit": null,
            "object_position": null,
            "order": null,
            "overflow": null,
            "overflow_x": null,
            "overflow_y": null,
            "padding": null,
            "right": null,
            "top": null,
            "visibility": null,
            "width": null
          }
        },
        "03ecf4e7c78e498a9c0cc33af12e350d": {
          "model_module": "@jupyter-widgets/controls",
          "model_name": "ProgressStyleModel",
          "model_module_version": "1.5.0",
          "state": {
            "_model_module": "@jupyter-widgets/controls",
            "_model_module_version": "1.5.0",
            "_model_name": "ProgressStyleModel",
            "_view_count": null,
            "_view_module": "@jupyter-widgets/base",
            "_view_module_version": "1.2.0",
            "_view_name": "StyleView",
            "bar_color": null,
            "description_width": ""
          }
        },
        "7d5a02f9e3d5442abc63b4c2ed910e11": {
          "model_module": "@jupyter-widgets/base",
          "model_name": "LayoutModel",
          "model_module_version": "1.2.0",
          "state": {
            "_model_module": "@jupyter-widgets/base",
            "_model_module_version": "1.2.0",
            "_model_name": "LayoutModel",
            "_view_count": null,
            "_view_module": "@jupyter-widgets/base",
            "_view_module_version": "1.2.0",
            "_view_name": "LayoutView",
            "align_content": null,
            "align_items": null,
            "align_self": null,
            "border": null,
            "bottom": null,
            "display": null,
            "flex": null,
            "flex_flow": null,
            "grid_area": null,
            "grid_auto_columns": null,
            "grid_auto_flow": null,
            "grid_auto_rows": null,
            "grid_column": null,
            "grid_gap": null,
            "grid_row": null,
            "grid_template_areas": null,
            "grid_template_columns": null,
            "grid_template_rows": null,
            "height": null,
            "justify_content": null,
            "justify_items": null,
            "left": null,
            "margin": null,
            "max_height": null,
            "max_width": null,
            "min_height": null,
            "min_width": null,
            "object_fit": null,
            "object_position": null,
            "order": null,
            "overflow": null,
            "overflow_x": null,
            "overflow_y": null,
            "padding": null,
            "right": null,
            "top": null,
            "visibility": null,
            "width": null
          }
        },
        "bf9bf6dd93c941e7831ecd872f4c8f96": {
          "model_module": "@jupyter-widgets/controls",
          "model_name": "DescriptionStyleModel",
          "model_module_version": "1.5.0",
          "state": {
            "_model_module": "@jupyter-widgets/controls",
            "_model_module_version": "1.5.0",
            "_model_name": "DescriptionStyleModel",
            "_view_count": null,
            "_view_module": "@jupyter-widgets/base",
            "_view_module_version": "1.2.0",
            "_view_name": "StyleView",
            "description_width": ""
          }
        },
        "3747901ae7e640e782c50664e3bc0fcc": {
          "model_module": "@jupyter-widgets/controls",
          "model_name": "HBoxModel",
          "model_module_version": "1.5.0",
          "state": {
            "_dom_classes": [],
            "_model_module": "@jupyter-widgets/controls",
            "_model_module_version": "1.5.0",
            "_model_name": "HBoxModel",
            "_view_count": null,
            "_view_module": "@jupyter-widgets/controls",
            "_view_module_version": "1.5.0",
            "_view_name": "HBoxView",
            "box_style": "",
            "children": [
              "IPY_MODEL_ba7211bca6b4453ea37c9aa28e979801",
              "IPY_MODEL_a970d4932907426289272a5d5056ce9d",
              "IPY_MODEL_6eb72e4e23e848e2bb0393958338b3f4"
            ],
            "layout": "IPY_MODEL_281a2208d35b45b8887f6122daa12420"
          }
        },
        "ba7211bca6b4453ea37c9aa28e979801": {
          "model_module": "@jupyter-widgets/controls",
          "model_name": "HTMLModel",
          "model_module_version": "1.5.0",
          "state": {
            "_dom_classes": [],
            "_model_module": "@jupyter-widgets/controls",
            "_model_module_version": "1.5.0",
            "_model_name": "HTMLModel",
            "_view_count": null,
            "_view_module": "@jupyter-widgets/controls",
            "_view_module_version": "1.5.0",
            "_view_name": "HTMLView",
            "description": "",
            "description_tooltip": null,
            "layout": "IPY_MODEL_f3fb203bf552472580c5d2e26427443d",
            "placeholder": "​",
            "style": "IPY_MODEL_5eca192aca7e4191879ea0f7d8d34f5e",
            "value": "config.json: 100%"
          }
        },
        "a970d4932907426289272a5d5056ce9d": {
          "model_module": "@jupyter-widgets/controls",
          "model_name": "FloatProgressModel",
          "model_module_version": "1.5.0",
          "state": {
            "_dom_classes": [],
            "_model_module": "@jupyter-widgets/controls",
            "_model_module_version": "1.5.0",
            "_model_name": "FloatProgressModel",
            "_view_count": null,
            "_view_module": "@jupyter-widgets/controls",
            "_view_module_version": "1.5.0",
            "_view_name": "ProgressView",
            "bar_style": "success",
            "description": "",
            "description_tooltip": null,
            "layout": "IPY_MODEL_4600a575ec71467fae2e5c0ce333ba06",
            "max": 466,
            "min": 0,
            "orientation": "horizontal",
            "style": "IPY_MODEL_dfe111e0199147ac9a1db8136c64daf1",
            "value": 466
          }
        },
        "6eb72e4e23e848e2bb0393958338b3f4": {
          "model_module": "@jupyter-widgets/controls",
          "model_name": "HTMLModel",
          "model_module_version": "1.5.0",
          "state": {
            "_dom_classes": [],
            "_model_module": "@jupyter-widgets/controls",
            "_model_module_version": "1.5.0",
            "_model_name": "HTMLModel",
            "_view_count": null,
            "_view_module": "@jupyter-widgets/controls",
            "_view_module_version": "1.5.0",
            "_view_name": "HTMLView",
            "description": "",
            "description_tooltip": null,
            "layout": "IPY_MODEL_6b73974a29f64842ae60deb44eb3e525",
            "placeholder": "​",
            "style": "IPY_MODEL_fe7fcd7b496348eaa35043336fdcdd17",
            "value": " 466/466 [00:00&lt;00:00, 23.1kB/s]"
          }
        },
        "281a2208d35b45b8887f6122daa12420": {
          "model_module": "@jupyter-widgets/base",
          "model_name": "LayoutModel",
          "model_module_version": "1.2.0",
          "state": {
            "_model_module": "@jupyter-widgets/base",
            "_model_module_version": "1.2.0",
            "_model_name": "LayoutModel",
            "_view_count": null,
            "_view_module": "@jupyter-widgets/base",
            "_view_module_version": "1.2.0",
            "_view_name": "LayoutView",
            "align_content": null,
            "align_items": null,
            "align_self": null,
            "border": null,
            "bottom": null,
            "display": null,
            "flex": null,
            "flex_flow": null,
            "grid_area": null,
            "grid_auto_columns": null,
            "grid_auto_flow": null,
            "grid_auto_rows": null,
            "grid_column": null,
            "grid_gap": null,
            "grid_row": null,
            "grid_template_areas": null,
            "grid_template_columns": null,
            "grid_template_rows": null,
            "height": null,
            "justify_content": null,
            "justify_items": null,
            "left": null,
            "margin": null,
            "max_height": null,
            "max_width": null,
            "min_height": null,
            "min_width": null,
            "object_fit": null,
            "object_position": null,
            "order": null,
            "overflow": null,
            "overflow_x": null,
            "overflow_y": null,
            "padding": null,
            "right": null,
            "top": null,
            "visibility": null,
            "width": null
          }
        },
        "f3fb203bf552472580c5d2e26427443d": {
          "model_module": "@jupyter-widgets/base",
          "model_name": "LayoutModel",
          "model_module_version": "1.2.0",
          "state": {
            "_model_module": "@jupyter-widgets/base",
            "_model_module_version": "1.2.0",
            "_model_name": "LayoutModel",
            "_view_count": null,
            "_view_module": "@jupyter-widgets/base",
            "_view_module_version": "1.2.0",
            "_view_name": "LayoutView",
            "align_content": null,
            "align_items": null,
            "align_self": null,
            "border": null,
            "bottom": null,
            "display": null,
            "flex": null,
            "flex_flow": null,
            "grid_area": null,
            "grid_auto_columns": null,
            "grid_auto_flow": null,
            "grid_auto_rows": null,
            "grid_column": null,
            "grid_gap": null,
            "grid_row": null,
            "grid_template_areas": null,
            "grid_template_columns": null,
            "grid_template_rows": null,
            "height": null,
            "justify_content": null,
            "justify_items": null,
            "left": null,
            "margin": null,
            "max_height": null,
            "max_width": null,
            "min_height": null,
            "min_width": null,
            "object_fit": null,
            "object_position": null,
            "order": null,
            "overflow": null,
            "overflow_x": null,
            "overflow_y": null,
            "padding": null,
            "right": null,
            "top": null,
            "visibility": null,
            "width": null
          }
        },
        "5eca192aca7e4191879ea0f7d8d34f5e": {
          "model_module": "@jupyter-widgets/controls",
          "model_name": "DescriptionStyleModel",
          "model_module_version": "1.5.0",
          "state": {
            "_model_module": "@jupyter-widgets/controls",
            "_model_module_version": "1.5.0",
            "_model_name": "DescriptionStyleModel",
            "_view_count": null,
            "_view_module": "@jupyter-widgets/base",
            "_view_module_version": "1.2.0",
            "_view_name": "StyleView",
            "description_width": ""
          }
        },
        "4600a575ec71467fae2e5c0ce333ba06": {
          "model_module": "@jupyter-widgets/base",
          "model_name": "LayoutModel",
          "model_module_version": "1.2.0",
          "state": {
            "_model_module": "@jupyter-widgets/base",
            "_model_module_version": "1.2.0",
            "_model_name": "LayoutModel",
            "_view_count": null,
            "_view_module": "@jupyter-widgets/base",
            "_view_module_version": "1.2.0",
            "_view_name": "LayoutView",
            "align_content": null,
            "align_items": null,
            "align_self": null,
            "border": null,
            "bottom": null,
            "display": null,
            "flex": null,
            "flex_flow": null,
            "grid_area": null,
            "grid_auto_columns": null,
            "grid_auto_flow": null,
            "grid_auto_rows": null,
            "grid_column": null,
            "grid_gap": null,
            "grid_row": null,
            "grid_template_areas": null,
            "grid_template_columns": null,
            "grid_template_rows": null,
            "height": null,
            "justify_content": null,
            "justify_items": null,
            "left": null,
            "margin": null,
            "max_height": null,
            "max_width": null,
            "min_height": null,
            "min_width": null,
            "object_fit": null,
            "object_position": null,
            "order": null,
            "overflow": null,
            "overflow_x": null,
            "overflow_y": null,
            "padding": null,
            "right": null,
            "top": null,
            "visibility": null,
            "width": null
          }
        },
        "dfe111e0199147ac9a1db8136c64daf1": {
          "model_module": "@jupyter-widgets/controls",
          "model_name": "ProgressStyleModel",
          "model_module_version": "1.5.0",
          "state": {
            "_model_module": "@jupyter-widgets/controls",
            "_model_module_version": "1.5.0",
            "_model_name": "ProgressStyleModel",
            "_view_count": null,
            "_view_module": "@jupyter-widgets/base",
            "_view_module_version": "1.2.0",
            "_view_name": "StyleView",
            "bar_color": null,
            "description_width": ""
          }
        },
        "6b73974a29f64842ae60deb44eb3e525": {
          "model_module": "@jupyter-widgets/base",
          "model_name": "LayoutModel",
          "model_module_version": "1.2.0",
          "state": {
            "_model_module": "@jupyter-widgets/base",
            "_model_module_version": "1.2.0",
            "_model_name": "LayoutModel",
            "_view_count": null,
            "_view_module": "@jupyter-widgets/base",
            "_view_module_version": "1.2.0",
            "_view_name": "LayoutView",
            "align_content": null,
            "align_items": null,
            "align_self": null,
            "border": null,
            "bottom": null,
            "display": null,
            "flex": null,
            "flex_flow": null,
            "grid_area": null,
            "grid_auto_columns": null,
            "grid_auto_flow": null,
            "grid_auto_rows": null,
            "grid_column": null,
            "grid_gap": null,
            "grid_row": null,
            "grid_template_areas": null,
            "grid_template_columns": null,
            "grid_template_rows": null,
            "height": null,
            "justify_content": null,
            "justify_items": null,
            "left": null,
            "margin": null,
            "max_height": null,
            "max_width": null,
            "min_height": null,
            "min_width": null,
            "object_fit": null,
            "object_position": null,
            "order": null,
            "overflow": null,
            "overflow_x": null,
            "overflow_y": null,
            "padding": null,
            "right": null,
            "top": null,
            "visibility": null,
            "width": null
          }
        },
        "fe7fcd7b496348eaa35043336fdcdd17": {
          "model_module": "@jupyter-widgets/controls",
          "model_name": "DescriptionStyleModel",
          "model_module_version": "1.5.0",
          "state": {
            "_model_module": "@jupyter-widgets/controls",
            "_model_module_version": "1.5.0",
            "_model_name": "DescriptionStyleModel",
            "_view_count": null,
            "_view_module": "@jupyter-widgets/base",
            "_view_module_version": "1.2.0",
            "_view_name": "StyleView",
            "description_width": ""
          }
        },
        "3df7ab24eaa943b98e17f0cd8cfecdae": {
          "model_module": "@jupyter-widgets/controls",
          "model_name": "HBoxModel",
          "model_module_version": "1.5.0",
          "state": {
            "_dom_classes": [],
            "_model_module": "@jupyter-widgets/controls",
            "_model_module_version": "1.5.0",
            "_model_name": "HBoxModel",
            "_view_count": null,
            "_view_module": "@jupyter-widgets/controls",
            "_view_module_version": "1.5.0",
            "_view_name": "HBoxView",
            "box_style": "",
            "children": [
              "IPY_MODEL_2221f8e881d1472a84fdef3e8ceb3f0c",
              "IPY_MODEL_4e86bc12e5924bfb95a621919a2e0322",
              "IPY_MODEL_d5f32c74651a40f8884a68c7ab2e3cd5"
            ],
            "layout": "IPY_MODEL_97bceda0dbf948249d9e1b6c8a330fc7"
          }
        },
        "2221f8e881d1472a84fdef3e8ceb3f0c": {
          "model_module": "@jupyter-widgets/controls",
          "model_name": "HTMLModel",
          "model_module_version": "1.5.0",
          "state": {
            "_dom_classes": [],
            "_model_module": "@jupyter-widgets/controls",
            "_model_module_version": "1.5.0",
            "_model_name": "HTMLModel",
            "_view_count": null,
            "_view_module": "@jupyter-widgets/controls",
            "_view_module_version": "1.5.0",
            "_view_name": "HTMLView",
            "description": "",
            "description_tooltip": null,
            "layout": "IPY_MODEL_c76c38e81c4f4be29802034685b4f4ad",
            "placeholder": "​",
            "style": "IPY_MODEL_52939b2e238b4000b04bd2735f0a55eb",
            "value": "model.safetensors: 100%"
          }
        },
        "4e86bc12e5924bfb95a621919a2e0322": {
          "model_module": "@jupyter-widgets/controls",
          "model_name": "FloatProgressModel",
          "model_module_version": "1.5.0",
          "state": {
            "_dom_classes": [],
            "_model_module": "@jupyter-widgets/controls",
            "_model_module_version": "1.5.0",
            "_model_name": "FloatProgressModel",
            "_view_count": null,
            "_view_module": "@jupyter-widgets/controls",
            "_view_module_version": "1.5.0",
            "_view_name": "ProgressView",
            "bar_style": "success",
            "description": "",
            "description_tooltip": null,
            "layout": "IPY_MODEL_32ba78c3e7e94fb187aa069288ac7e7c",
            "max": 541795680,
            "min": 0,
            "orientation": "horizontal",
            "style": "IPY_MODEL_93e6c785dc534da780bd8d10c1041c98",
            "value": 541795680
          }
        },
        "d5f32c74651a40f8884a68c7ab2e3cd5": {
          "model_module": "@jupyter-widgets/controls",
          "model_name": "HTMLModel",
          "model_module_version": "1.5.0",
          "state": {
            "_dom_classes": [],
            "_model_module": "@jupyter-widgets/controls",
            "_model_module_version": "1.5.0",
            "_model_name": "HTMLModel",
            "_view_count": null,
            "_view_module": "@jupyter-widgets/controls",
            "_view_module_version": "1.5.0",
            "_view_name": "HTMLView",
            "description": "",
            "description_tooltip": null,
            "layout": "IPY_MODEL_fc86ce4e6d054844aa5038013f6c9ba1",
            "placeholder": "​",
            "style": "IPY_MODEL_285864bc4bee4a21bb56d4bb8fe4c66a",
            "value": " 542M/542M [00:07&lt;00:00, 114MB/s]"
          }
        },
        "97bceda0dbf948249d9e1b6c8a330fc7": {
          "model_module": "@jupyter-widgets/base",
          "model_name": "LayoutModel",
          "model_module_version": "1.2.0",
          "state": {
            "_model_module": "@jupyter-widgets/base",
            "_model_module_version": "1.2.0",
            "_model_name": "LayoutModel",
            "_view_count": null,
            "_view_module": "@jupyter-widgets/base",
            "_view_module_version": "1.2.0",
            "_view_name": "LayoutView",
            "align_content": null,
            "align_items": null,
            "align_self": null,
            "border": null,
            "bottom": null,
            "display": null,
            "flex": null,
            "flex_flow": null,
            "grid_area": null,
            "grid_auto_columns": null,
            "grid_auto_flow": null,
            "grid_auto_rows": null,
            "grid_column": null,
            "grid_gap": null,
            "grid_row": null,
            "grid_template_areas": null,
            "grid_template_columns": null,
            "grid_template_rows": null,
            "height": null,
            "justify_content": null,
            "justify_items": null,
            "left": null,
            "margin": null,
            "max_height": null,
            "max_width": null,
            "min_height": null,
            "min_width": null,
            "object_fit": null,
            "object_position": null,
            "order": null,
            "overflow": null,
            "overflow_x": null,
            "overflow_y": null,
            "padding": null,
            "right": null,
            "top": null,
            "visibility": null,
            "width": null
          }
        },
        "c76c38e81c4f4be29802034685b4f4ad": {
          "model_module": "@jupyter-widgets/base",
          "model_name": "LayoutModel",
          "model_module_version": "1.2.0",
          "state": {
            "_model_module": "@jupyter-widgets/base",
            "_model_module_version": "1.2.0",
            "_model_name": "LayoutModel",
            "_view_count": null,
            "_view_module": "@jupyter-widgets/base",
            "_view_module_version": "1.2.0",
            "_view_name": "LayoutView",
            "align_content": null,
            "align_items": null,
            "align_self": null,
            "border": null,
            "bottom": null,
            "display": null,
            "flex": null,
            "flex_flow": null,
            "grid_area": null,
            "grid_auto_columns": null,
            "grid_auto_flow": null,
            "grid_auto_rows": null,
            "grid_column": null,
            "grid_gap": null,
            "grid_row": null,
            "grid_template_areas": null,
            "grid_template_columns": null,
            "grid_template_rows": null,
            "height": null,
            "justify_content": null,
            "justify_items": null,
            "left": null,
            "margin": null,
            "max_height": null,
            "max_width": null,
            "min_height": null,
            "min_width": null,
            "object_fit": null,
            "object_position": null,
            "order": null,
            "overflow": null,
            "overflow_x": null,
            "overflow_y": null,
            "padding": null,
            "right": null,
            "top": null,
            "visibility": null,
            "width": null
          }
        },
        "52939b2e238b4000b04bd2735f0a55eb": {
          "model_module": "@jupyter-widgets/controls",
          "model_name": "DescriptionStyleModel",
          "model_module_version": "1.5.0",
          "state": {
            "_model_module": "@jupyter-widgets/controls",
            "_model_module_version": "1.5.0",
            "_model_name": "DescriptionStyleModel",
            "_view_count": null,
            "_view_module": "@jupyter-widgets/base",
            "_view_module_version": "1.2.0",
            "_view_name": "StyleView",
            "description_width": ""
          }
        },
        "32ba78c3e7e94fb187aa069288ac7e7c": {
          "model_module": "@jupyter-widgets/base",
          "model_name": "LayoutModel",
          "model_module_version": "1.2.0",
          "state": {
            "_model_module": "@jupyter-widgets/base",
            "_model_module_version": "1.2.0",
            "_model_name": "LayoutModel",
            "_view_count": null,
            "_view_module": "@jupyter-widgets/base",
            "_view_module_version": "1.2.0",
            "_view_name": "LayoutView",
            "align_content": null,
            "align_items": null,
            "align_self": null,
            "border": null,
            "bottom": null,
            "display": null,
            "flex": null,
            "flex_flow": null,
            "grid_area": null,
            "grid_auto_columns": null,
            "grid_auto_flow": null,
            "grid_auto_rows": null,
            "grid_column": null,
            "grid_gap": null,
            "grid_row": null,
            "grid_template_areas": null,
            "grid_template_columns": null,
            "grid_template_rows": null,
            "height": null,
            "justify_content": null,
            "justify_items": null,
            "left": null,
            "margin": null,
            "max_height": null,
            "max_width": null,
            "min_height": null,
            "min_width": null,
            "object_fit": null,
            "object_position": null,
            "order": null,
            "overflow": null,
            "overflow_x": null,
            "overflow_y": null,
            "padding": null,
            "right": null,
            "top": null,
            "visibility": null,
            "width": null
          }
        },
        "93e6c785dc534da780bd8d10c1041c98": {
          "model_module": "@jupyter-widgets/controls",
          "model_name": "ProgressStyleModel",
          "model_module_version": "1.5.0",
          "state": {
            "_model_module": "@jupyter-widgets/controls",
            "_model_module_version": "1.5.0",
            "_model_name": "ProgressStyleModel",
            "_view_count": null,
            "_view_module": "@jupyter-widgets/base",
            "_view_module_version": "1.2.0",
            "_view_name": "StyleView",
            "bar_color": null,
            "description_width": ""
          }
        },
        "fc86ce4e6d054844aa5038013f6c9ba1": {
          "model_module": "@jupyter-widgets/base",
          "model_name": "LayoutModel",
          "model_module_version": "1.2.0",
          "state": {
            "_model_module": "@jupyter-widgets/base",
            "_model_module_version": "1.2.0",
            "_model_name": "LayoutModel",
            "_view_count": null,
            "_view_module": "@jupyter-widgets/base",
            "_view_module_version": "1.2.0",
            "_view_name": "LayoutView",
            "align_content": null,
            "align_items": null,
            "align_self": null,
            "border": null,
            "bottom": null,
            "display": null,
            "flex": null,
            "flex_flow": null,
            "grid_area": null,
            "grid_auto_columns": null,
            "grid_auto_flow": null,
            "grid_auto_rows": null,
            "grid_column": null,
            "grid_gap": null,
            "grid_row": null,
            "grid_template_areas": null,
            "grid_template_columns": null,
            "grid_template_rows": null,
            "height": null,
            "justify_content": null,
            "justify_items": null,
            "left": null,
            "margin": null,
            "max_height": null,
            "max_width": null,
            "min_height": null,
            "min_width": null,
            "object_fit": null,
            "object_position": null,
            "order": null,
            "overflow": null,
            "overflow_x": null,
            "overflow_y": null,
            "padding": null,
            "right": null,
            "top": null,
            "visibility": null,
            "width": null
          }
        },
        "285864bc4bee4a21bb56d4bb8fe4c66a": {
          "model_module": "@jupyter-widgets/controls",
          "model_name": "DescriptionStyleModel",
          "model_module_version": "1.5.0",
          "state": {
            "_model_module": "@jupyter-widgets/controls",
            "_model_module_version": "1.5.0",
            "_model_name": "DescriptionStyleModel",
            "_view_count": null,
            "_view_module": "@jupyter-widgets/base",
            "_view_module_version": "1.2.0",
            "_view_name": "StyleView",
            "description_width": ""
          }
        }
      }
    }
  },
  "nbformat": 4,
  "nbformat_minor": 0
}