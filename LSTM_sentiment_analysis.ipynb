{
  "cells": [
    {
      "cell_type": "code",
      "execution_count": null,
      "metadata": {
        "id": "Avr6DgH4_B8f"
      },
      "outputs": [],
      "source": [
        "!pip install -q -U watermark"
      ]
    },
    {
      "cell_type": "code",
      "execution_count": null,
      "metadata": {
        "id": "9soAjmK7_B8g"
      },
      "outputs": [],
      "source": [
        "!pip install -q spacy"
      ]
    },
    {
      "cell_type": "code",
      "execution_count": null,
      "metadata": {
        "id": "iathhTFF_B8g"
      },
      "outputs": [],
      "source": [
        "!pip install -q tensorflow"
      ]
    },
    {
      "cell_type": "code",
      "execution_count": null,
      "metadata": {
        "id": "REFEXI--_B8g"
      },
      "outputs": [],
      "source": [
        "!pip install -q transformers"
      ]
    },
    {
      "cell_type": "code",
      "execution_count": null,
      "metadata": {
        "colab": {
          "base_uri": "https://localhost:8080/"
        },
        "id": "XpP6xKN__B8g",
        "outputId": "ef27438b-5ff2-48e1-e6fb-a4d15c853344"
      },
      "outputs": [
        {
          "output_type": "stream",
          "name": "stdout",
          "text": [
            "env: TF_CPP_MIN_LOG_LEVEL=3\n"
          ]
        }
      ],
      "source": [
        "%env TF_CPP_MIN_LOG_LEVEL=3"
      ]
    },
    {
      "cell_type": "code",
      "execution_count": null,
      "metadata": {
        "id": "mrIhYRfK_B8g"
      },
      "outputs": [],
      "source": [
        "# Imports\n",
        "import math\n",
        "import nltk\n",
        "import spacy\n",
        "import numpy as np\n",
        "import pandas as pd\n",
        "import tensorflow as tf\n",
        "import matplotlib.pyplot as plt\n",
        "import transformers\n",
        "from tokenizers import BertWordPieceTokenizer\n",
        "from tqdm import tqdm\n",
        "from nltk.corpus import stopwords\n",
        "from sklearn.preprocessing import LabelEncoder\n",
        "from sklearn.feature_extraction.text import TfidfVectorizer\n",
        "from sklearn.model_selection import train_test_split\n",
        "from sklearn.utils.class_weight import compute_class_weight\n",
        "from sklearn.metrics import confusion_matrix, accuracy_score, classification_report\n",
        "from tensorflow import keras\n",
        "from keras.utils import to_categorical\n",
        "from tensorflow.keras import Sequential\n",
        "from tensorflow.keras.models import load_model\n",
        "from keras.preprocessing.text import Tokenizer\n",
        "from keras.metrics import Precision, Recall, AUC\n",
        "from tensorflow.keras.preprocessing.sequence import pad_sequences\n",
        "from keras.layers import Embedding, LSTM, Dense, Dropout, Bidirectional\n",
        "from keras.callbacks import EarlyStopping, LearningRateScheduler, CallbackList, ReduceLROnPlateau\n",
        "from tensorflow.keras.optimizers.experimental import Adam\n",
        "import warnings\n",
        "warnings.filterwarnings('ignore')"
      ]
    },
    {
      "cell_type": "code",
      "execution_count": null,
      "metadata": {
        "colab": {
          "base_uri": "https://localhost:8080/"
        },
        "id": "u9-bP3S9_B8h",
        "outputId": "eac1802b-3a03-494f-a130-c7e96a9e532c"
      },
      "outputs": [
        {
          "output_type": "stream",
          "name": "stdout",
          "text": [
            "Author: Data Science Academy\n",
            "\n"
          ]
        }
      ],
      "source": [
        "%reload_ext watermark\n",
        "%watermark -a \"Data Science Academy\""
      ]
    },
    {
      "cell_type": "markdown",
      "metadata": {
        "id": "nVMz5a3p_B8w"
      },
      "source": [
        "## LSTM (Long Short-Term Memory)\n",
        "\n",
        "Usaremos os dados processados com SpaCy e então faremos o processamento específico para o modelo LSTM, assim como fizemos com o modelo da versão 1."
      ]
    },
    {
      "cell_type": "code",
      "execution_count": null,
      "metadata": {
        "colab": {
          "base_uri": "https://localhost:8080/",
          "height": 206
        },
        "id": "-YITMldP_B8w",
        "outputId": "4d2e65fb-d407-4f7e-db27-7acd2f33a5a7"
      },
      "outputs": [
        {
          "output_type": "execute_result",
          "data": {
            "text/plain": [
              "                                               texto sentimento  \\\n",
              "0  i am feeling completely overwhelmed i have two...       fear   \n",
              "1    i have the feeling she was amused and delighted        joy   \n",
              "2  i was able to help chai lifeline with your sup...        joy   \n",
              "3  i already feel like i fucked up though because...      anger   \n",
              "4  i still love my so and wish the best for him i...    sadness   \n",
              "\n",
              "                                    texto_processado  \n",
              "0  feel completely overwhelmed strategy help feel...  \n",
              "1                              feeling amuse delight  \n",
              "2  able help chai lifeline support encouragement ...  \n",
              "3             feel like fuck not usually eat morning  \n",
              "4  love wish good long tolerate effect bm life fa...  "
            ],
            "text/html": [
              "\n",
              "  <div id=\"df-5e059f8d-4347-4b49-8cd5-b83bb99a2dbd\" class=\"colab-df-container\">\n",
              "    <div>\n",
              "<style scoped>\n",
              "    .dataframe tbody tr th:only-of-type {\n",
              "        vertical-align: middle;\n",
              "    }\n",
              "\n",
              "    .dataframe tbody tr th {\n",
              "        vertical-align: top;\n",
              "    }\n",
              "\n",
              "    .dataframe thead th {\n",
              "        text-align: right;\n",
              "    }\n",
              "</style>\n",
              "<table border=\"1\" class=\"dataframe\">\n",
              "  <thead>\n",
              "    <tr style=\"text-align: right;\">\n",
              "      <th></th>\n",
              "      <th>texto</th>\n",
              "      <th>sentimento</th>\n",
              "      <th>texto_processado</th>\n",
              "    </tr>\n",
              "  </thead>\n",
              "  <tbody>\n",
              "    <tr>\n",
              "      <th>0</th>\n",
              "      <td>i am feeling completely overwhelmed i have two...</td>\n",
              "      <td>fear</td>\n",
              "      <td>feel completely overwhelmed strategy help feel...</td>\n",
              "    </tr>\n",
              "    <tr>\n",
              "      <th>1</th>\n",
              "      <td>i have the feeling she was amused and delighted</td>\n",
              "      <td>joy</td>\n",
              "      <td>feeling amuse delight</td>\n",
              "    </tr>\n",
              "    <tr>\n",
              "      <th>2</th>\n",
              "      <td>i was able to help chai lifeline with your sup...</td>\n",
              "      <td>joy</td>\n",
              "      <td>able help chai lifeline support encouragement ...</td>\n",
              "    </tr>\n",
              "    <tr>\n",
              "      <th>3</th>\n",
              "      <td>i already feel like i fucked up though because...</td>\n",
              "      <td>anger</td>\n",
              "      <td>feel like fuck not usually eat morning</td>\n",
              "    </tr>\n",
              "    <tr>\n",
              "      <th>4</th>\n",
              "      <td>i still love my so and wish the best for him i...</td>\n",
              "      <td>sadness</td>\n",
              "      <td>love wish good long tolerate effect bm life fa...</td>\n",
              "    </tr>\n",
              "  </tbody>\n",
              "</table>\n",
              "</div>\n",
              "    <div class=\"colab-df-buttons\">\n",
              "\n",
              "  <div class=\"colab-df-container\">\n",
              "    <button class=\"colab-df-convert\" onclick=\"convertToInteractive('df-5e059f8d-4347-4b49-8cd5-b83bb99a2dbd')\"\n",
              "            title=\"Convert this dataframe to an interactive table.\"\n",
              "            style=\"display:none;\">\n",
              "\n",
              "  <svg xmlns=\"http://www.w3.org/2000/svg\" height=\"24px\" viewBox=\"0 -960 960 960\">\n",
              "    <path d=\"M120-120v-720h720v720H120Zm60-500h600v-160H180v160Zm220 220h160v-160H400v160Zm0 220h160v-160H400v160ZM180-400h160v-160H180v160Zm440 0h160v-160H620v160ZM180-180h160v-160H180v160Zm440 0h160v-160H620v160Z\"/>\n",
              "  </svg>\n",
              "    </button>\n",
              "\n",
              "  <style>\n",
              "    .colab-df-container {\n",
              "      display:flex;\n",
              "      gap: 12px;\n",
              "    }\n",
              "\n",
              "    .colab-df-convert {\n",
              "      background-color: #E8F0FE;\n",
              "      border: none;\n",
              "      border-radius: 50%;\n",
              "      cursor: pointer;\n",
              "      display: none;\n",
              "      fill: #1967D2;\n",
              "      height: 32px;\n",
              "      padding: 0 0 0 0;\n",
              "      width: 32px;\n",
              "    }\n",
              "\n",
              "    .colab-df-convert:hover {\n",
              "      background-color: #E2EBFA;\n",
              "      box-shadow: 0px 1px 2px rgba(60, 64, 67, 0.3), 0px 1px 3px 1px rgba(60, 64, 67, 0.15);\n",
              "      fill: #174EA6;\n",
              "    }\n",
              "\n",
              "    .colab-df-buttons div {\n",
              "      margin-bottom: 4px;\n",
              "    }\n",
              "\n",
              "    [theme=dark] .colab-df-convert {\n",
              "      background-color: #3B4455;\n",
              "      fill: #D2E3FC;\n",
              "    }\n",
              "\n",
              "    [theme=dark] .colab-df-convert:hover {\n",
              "      background-color: #434B5C;\n",
              "      box-shadow: 0px 1px 3px 1px rgba(0, 0, 0, 0.15);\n",
              "      filter: drop-shadow(0px 1px 2px rgba(0, 0, 0, 0.3));\n",
              "      fill: #FFFFFF;\n",
              "    }\n",
              "  </style>\n",
              "\n",
              "    <script>\n",
              "      const buttonEl =\n",
              "        document.querySelector('#df-5e059f8d-4347-4b49-8cd5-b83bb99a2dbd button.colab-df-convert');\n",
              "      buttonEl.style.display =\n",
              "        google.colab.kernel.accessAllowed ? 'block' : 'none';\n",
              "\n",
              "      async function convertToInteractive(key) {\n",
              "        const element = document.querySelector('#df-5e059f8d-4347-4b49-8cd5-b83bb99a2dbd');\n",
              "        const dataTable =\n",
              "          await google.colab.kernel.invokeFunction('convertToInteractive',\n",
              "                                                    [key], {});\n",
              "        if (!dataTable) return;\n",
              "\n",
              "        const docLinkHtml = 'Like what you see? Visit the ' +\n",
              "          '<a target=\"_blank\" href=https://colab.research.google.com/notebooks/data_table.ipynb>data table notebook</a>'\n",
              "          + ' to learn more about interactive tables.';\n",
              "        element.innerHTML = '';\n",
              "        dataTable['output_type'] = 'display_data';\n",
              "        await google.colab.output.renderOutput(dataTable, element);\n",
              "        const docLink = document.createElement('div');\n",
              "        docLink.innerHTML = docLinkHtml;\n",
              "        element.appendChild(docLink);\n",
              "      }\n",
              "    </script>\n",
              "  </div>\n",
              "\n",
              "\n",
              "<div id=\"df-d07641ad-962a-4476-b4f6-f13e69409f4b\">\n",
              "  <button class=\"colab-df-quickchart\" onclick=\"quickchart('df-d07641ad-962a-4476-b4f6-f13e69409f4b')\"\n",
              "            title=\"Suggest charts\"\n",
              "            style=\"display:none;\">\n",
              "\n",
              "<svg xmlns=\"http://www.w3.org/2000/svg\" height=\"24px\"viewBox=\"0 0 24 24\"\n",
              "     width=\"24px\">\n",
              "    <g>\n",
              "        <path d=\"M19 3H5c-1.1 0-2 .9-2 2v14c0 1.1.9 2 2 2h14c1.1 0 2-.9 2-2V5c0-1.1-.9-2-2-2zM9 17H7v-7h2v7zm4 0h-2V7h2v10zm4 0h-2v-4h2v4z\"/>\n",
              "    </g>\n",
              "</svg>\n",
              "  </button>\n",
              "\n",
              "<style>\n",
              "  .colab-df-quickchart {\n",
              "      --bg-color: #E8F0FE;\n",
              "      --fill-color: #1967D2;\n",
              "      --hover-bg-color: #E2EBFA;\n",
              "      --hover-fill-color: #174EA6;\n",
              "      --disabled-fill-color: #AAA;\n",
              "      --disabled-bg-color: #DDD;\n",
              "  }\n",
              "\n",
              "  [theme=dark] .colab-df-quickchart {\n",
              "      --bg-color: #3B4455;\n",
              "      --fill-color: #D2E3FC;\n",
              "      --hover-bg-color: #434B5C;\n",
              "      --hover-fill-color: #FFFFFF;\n",
              "      --disabled-bg-color: #3B4455;\n",
              "      --disabled-fill-color: #666;\n",
              "  }\n",
              "\n",
              "  .colab-df-quickchart {\n",
              "    background-color: var(--bg-color);\n",
              "    border: none;\n",
              "    border-radius: 50%;\n",
              "    cursor: pointer;\n",
              "    display: none;\n",
              "    fill: var(--fill-color);\n",
              "    height: 32px;\n",
              "    padding: 0;\n",
              "    width: 32px;\n",
              "  }\n",
              "\n",
              "  .colab-df-quickchart:hover {\n",
              "    background-color: var(--hover-bg-color);\n",
              "    box-shadow: 0 1px 2px rgba(60, 64, 67, 0.3), 0 1px 3px 1px rgba(60, 64, 67, 0.15);\n",
              "    fill: var(--button-hover-fill-color);\n",
              "  }\n",
              "\n",
              "  .colab-df-quickchart-complete:disabled,\n",
              "  .colab-df-quickchart-complete:disabled:hover {\n",
              "    background-color: var(--disabled-bg-color);\n",
              "    fill: var(--disabled-fill-color);\n",
              "    box-shadow: none;\n",
              "  }\n",
              "\n",
              "  .colab-df-spinner {\n",
              "    border: 2px solid var(--fill-color);\n",
              "    border-color: transparent;\n",
              "    border-bottom-color: var(--fill-color);\n",
              "    animation:\n",
              "      spin 1s steps(1) infinite;\n",
              "  }\n",
              "\n",
              "  @keyframes spin {\n",
              "    0% {\n",
              "      border-color: transparent;\n",
              "      border-bottom-color: var(--fill-color);\n",
              "      border-left-color: var(--fill-color);\n",
              "    }\n",
              "    20% {\n",
              "      border-color: transparent;\n",
              "      border-left-color: var(--fill-color);\n",
              "      border-top-color: var(--fill-color);\n",
              "    }\n",
              "    30% {\n",
              "      border-color: transparent;\n",
              "      border-left-color: var(--fill-color);\n",
              "      border-top-color: var(--fill-color);\n",
              "      border-right-color: var(--fill-color);\n",
              "    }\n",
              "    40% {\n",
              "      border-color: transparent;\n",
              "      border-right-color: var(--fill-color);\n",
              "      border-top-color: var(--fill-color);\n",
              "    }\n",
              "    60% {\n",
              "      border-color: transparent;\n",
              "      border-right-color: var(--fill-color);\n",
              "    }\n",
              "    80% {\n",
              "      border-color: transparent;\n",
              "      border-right-color: var(--fill-color);\n",
              "      border-bottom-color: var(--fill-color);\n",
              "    }\n",
              "    90% {\n",
              "      border-color: transparent;\n",
              "      border-bottom-color: var(--fill-color);\n",
              "    }\n",
              "  }\n",
              "</style>\n",
              "\n",
              "  <script>\n",
              "    async function quickchart(key) {\n",
              "      const quickchartButtonEl =\n",
              "        document.querySelector('#' + key + ' button');\n",
              "      quickchartButtonEl.disabled = true;  // To prevent multiple clicks.\n",
              "      quickchartButtonEl.classList.add('colab-df-spinner');\n",
              "      try {\n",
              "        const charts = await google.colab.kernel.invokeFunction(\n",
              "            'suggestCharts', [key], {});\n",
              "      } catch (error) {\n",
              "        console.error('Error during call to suggestCharts:', error);\n",
              "      }\n",
              "      quickchartButtonEl.classList.remove('colab-df-spinner');\n",
              "      quickchartButtonEl.classList.add('colab-df-quickchart-complete');\n",
              "    }\n",
              "    (() => {\n",
              "      let quickchartButtonEl =\n",
              "        document.querySelector('#df-d07641ad-962a-4476-b4f6-f13e69409f4b button');\n",
              "      quickchartButtonEl.style.display =\n",
              "        google.colab.kernel.accessAllowed ? 'block' : 'none';\n",
              "    })();\n",
              "  </script>\n",
              "</div>\n",
              "\n",
              "    </div>\n",
              "  </div>\n"
            ]
          },
          "metadata": {},
          "execution_count": 65
        }
      ],
      "source": [
        "# Dados processados com SpaCy\n",
        "dados_dsa_treino.head()"
      ]
    },
    {
      "cell_type": "code",
      "execution_count": null,
      "metadata": {
        "id": "w7U9_7rK_B8x"
      },
      "outputs": [],
      "source": [
        "# Criação do tokenizador\n",
        "# from keras.preprocessing.text import Tokenizer\n",
        "dsa_tokenizador = Tokenizer()"
      ]
    },
    {
      "cell_type": "code",
      "execution_count": null,
      "metadata": {
        "id": "3fNXw5yf_B8x"
      },
      "outputs": [],
      "source": [
        "# Ajuste do tokenizador com os textos processados\n",
        "dsa_tokenizador.fit_on_texts(dados_dsa_treino['texto_processado'])"
      ]
    },
    {
      "cell_type": "code",
      "execution_count": null,
      "metadata": {
        "id": "lT4V_UXV_B8x"
      },
      "outputs": [],
      "source": [
        "# Extrai o índice de palavras\n",
        "word_index = dsa_tokenizador.word_index"
      ]
    },
    {
      "cell_type": "code",
      "execution_count": null,
      "metadata": {
        "colab": {
          "base_uri": "https://localhost:8080/"
        },
        "id": "07jK0PT0_B8x",
        "outputId": "dadc297d-2975-46d3-be7b-f8ecdc404b19"
      },
      "outputs": [
        {
          "output_type": "execute_result",
          "data": {
            "text/plain": [
              "11897"
            ]
          },
          "metadata": {},
          "execution_count": 69
        }
      ],
      "source": [
        "len(word_index)"
      ]
    },
    {
      "cell_type": "code",
      "execution_count": null,
      "metadata": {
        "colab": {
          "base_uri": "https://localhost:8080/"
        },
        "id": "iegWTyBg_B8x",
        "outputId": "3469db8d-ed9c-445c-e1d2-78fbcfe4aa2d"
      },
      "outputs": [
        {
          "output_type": "stream",
          "name": "stdout",
          "text": [
            "feel 1\n",
            "like 2\n",
            "m 3\n",
            "not 4\n",
            "feeling 5\n",
            "know 6\n",
            "time 7\n",
            "t 8\n",
            "want 9\n",
            "think 10\n"
          ]
        }
      ],
      "source": [
        "# Itera sobre os pares chave-valor do dicionário\n",
        "for i, (chave, valor) in enumerate(word_index.items()):\n",
        "    print(chave, valor)\n",
        "    # Interrompe o loop após imprimir 10 itens\n",
        "    if i == 9:\n",
        "        break"
      ]
    },
    {
      "cell_type": "code",
      "execution_count": null,
      "metadata": {
        "id": "xTNz5qlX_B8x"
      },
      "outputs": [],
      "source": [
        "# Conversão dos textos de treino para sequências de tokens\n",
        "sequencias_treino = dsa_tokenizador.texts_to_sequences(dados_dsa_treino['texto_processado'])"
      ]
    },
    {
      "cell_type": "code",
      "execution_count": null,
      "metadata": {
        "id": "KK17wsLz_B8x"
      },
      "outputs": [],
      "source": [
        "# Definindo o comprimento máximo das sequências\n",
        "max_length = 100"
      ]
    },
    {
      "cell_type": "code",
      "execution_count": null,
      "metadata": {
        "id": "bV9MHm4y_B8x"
      },
      "outputs": [],
      "source": [
        "# Padding das sequências de treino\n",
        "sequencias_treino_padded = pad_sequences(sequencias_treino, maxlen = max_length, truncating = 'post')"
      ]
    },
    {
      "cell_type": "markdown",
      "metadata": {
        "id": "oGdKbXk5_B8y"
      },
      "source": [
        "O \"padding\" é uma técnica comumente usada no processamento de sequências de dados, especialmente em tarefas de processamento de linguagem natural (PLN). O padding é usado para padronizar o comprimento das sequências. Isso é feito adicionando um valor especial (geralmente 0) no início ou no final das sequências para aumentá-las até um comprimento máximo definido. Isso permite que o modelo processe lotes de sequências simultaneamente, o que é essencial para a eficiência do treinamento.\n",
        "\n",
        "Na linha acima:\n",
        "\n",
        "**maxlen = max_length**: Este argumento define o comprimento máximo das sequências após o padding. Se uma sequência for mais curta que max_length, ela será estendida com zeros até alcançar esse comprimento. Se for mais longa, será truncada.\n",
        "\n",
        "**truncating = 'post'**: Este argumento especifica como as sequências devem ser truncadas para o comprimento máximo, caso sejam mais longas que max_length. O valor 'post' indica que o truncamento deve ocorrer no final da sequência. Alternativamente, 'pre' truncaria no início.\n",
        "\n",
        "O resultado, sequencias_treino_padded, será uma matriz onde cada sequência tem exatamente max_length elementos, com padding de zeros adicionado conforme necessário. Isso torna as sequências compatíveis com muitos modelos de aprendizado de máquina, especialmente aqueles usados em PLN."
      ]
    },
    {
      "cell_type": "code",
      "execution_count": null,
      "metadata": {
        "id": "Irjyb6Ka_B8y"
      },
      "outputs": [],
      "source": [
        "# Conversão dos textos de teste para sequências de tokens\n",
        "sequencias_teste = dsa_tokenizador.texts_to_sequences(dados_dsa_teste['texto_processado'])"
      ]
    },
    {
      "cell_type": "code",
      "execution_count": null,
      "metadata": {
        "id": "Ro78x4RK_B8y"
      },
      "outputs": [],
      "source": [
        "# Padding das sequências de teste\n",
        "sequencias_teste_padded = pad_sequences(sequencias_teste, maxlen = max_length)"
      ]
    },
    {
      "cell_type": "code",
      "execution_count": null,
      "metadata": {
        "id": "5KCX4ZQX_B8y"
      },
      "outputs": [],
      "source": [
        "# Criação do codificador de rótulos\n",
        "dsa_le_v2 = LabelEncoder()"
      ]
    },
    {
      "cell_type": "code",
      "execution_count": null,
      "metadata": {
        "id": "0G84anSu_B8y"
      },
      "outputs": [],
      "source": [
        "# Fit e transform dos rótulos de sentimento para treino\n",
        "y_treino_le = dsa_le_v2.fit_transform(dados_dsa_treino['sentimento'])"
      ]
    },
    {
      "cell_type": "code",
      "execution_count": null,
      "metadata": {
        "id": "sPgRjSVD_B8y"
      },
      "outputs": [],
      "source": [
        "# Transformação dos rótulos de sentimento para teste\n",
        "y_teste_le = dsa_le_v2.transform(dados_dsa_teste['sentimento'])"
      ]
    },
    {
      "cell_type": "code",
      "execution_count": null,
      "metadata": {
        "id": "TwBxVnCz_B8y"
      },
      "outputs": [],
      "source": [
        "# Conversão dos rótulos em variáveis categóricas\n",
        "y_treino_encoded = to_categorical(y_treino_le)\n",
        "y_teste_encoded = to_categorical(y_teste_le)"
      ]
    },
    {
      "cell_type": "code",
      "execution_count": null,
      "metadata": {
        "id": "QfN72vuj_B8y"
      },
      "outputs": [],
      "source": [
        "# Definindo o tamanho do vocabulário\n",
        "vocab_size = len(dsa_tokenizador.word_index) + 1"
      ]
    },
    {
      "cell_type": "code",
      "execution_count": null,
      "metadata": {
        "colab": {
          "base_uri": "https://localhost:8080/"
        },
        "id": "qd5XGyCa_B8z",
        "outputId": "66027b32-64b2-4414-c96a-4ed77aee2608"
      },
      "outputs": [
        {
          "output_type": "stream",
          "name": "stdout",
          "text": [
            "11898\n"
          ]
        }
      ],
      "source": [
        "print(vocab_size)"
      ]
    },
    {
      "cell_type": "code",
      "execution_count": null,
      "metadata": {
        "id": "xem1LSDC_B8z"
      },
      "outputs": [],
      "source": [
        "# Definindo a dimensão do embedding\n",
        "embedding_dim = max_length"
      ]
    },
    {
      "cell_type": "code",
      "execution_count": null,
      "metadata": {
        "id": "hZgkGUjA_B8z"
      },
      "outputs": [],
      "source": [
        "# Construção do modelo LSTM\n",
        "modelo_dsa_v2 = tf.keras.Sequential([Embedding(vocab_size, embedding_dim, input_length = max_length),\n",
        "                                     Bidirectional(LSTM(64)),\n",
        "                                     Dropout(0.4),\n",
        "                                     Dense(32, activation = 'leaky_relu', kernel_regularizer = 'l1_l2'),\n",
        "                                     Dropout(0.4),\n",
        "                                     Dense(6, activation = 'softmax')])"
      ]
    },
    {
      "cell_type": "code",
      "execution_count": null,
      "metadata": {
        "id": "EB8nAXsG_B8z"
      },
      "outputs": [],
      "source": [
        "# Compilação do modelo\n",
        "modelo_dsa_v2.compile(loss = 'categorical_crossentropy',\n",
        "                      optimizer = 'adam',\n",
        "                      metrics = ['accuracy', Precision(), Recall(), AUC()])"
      ]
    },
    {
      "cell_type": "code",
      "execution_count": null,
      "metadata": {
        "colab": {
          "base_uri": "https://localhost:8080/"
        },
        "id": "dTwFmwKo_B8z",
        "outputId": "44c8ec11-6ef3-41d8-a6dc-59078e33bdd5"
      },
      "outputs": [
        {
          "output_type": "stream",
          "name": "stdout",
          "text": [
            "Model: \"sequential_1\"\n",
            "_________________________________________________________________\n",
            " Layer (type)                Output Shape              Param #   \n",
            "=================================================================\n",
            " embedding (Embedding)       (None, 100, 100)          1189800   \n",
            "                                                                 \n",
            " bidirectional (Bidirection  (None, 128)               84480     \n",
            " al)                                                             \n",
            "                                                                 \n",
            " dropout (Dropout)           (None, 128)               0         \n",
            "                                                                 \n",
            " dense_5 (Dense)             (None, 32)                4128      \n",
            "                                                                 \n",
            " dropout_1 (Dropout)         (None, 32)                0         \n",
            "                                                                 \n",
            " dense_6 (Dense)             (None, 6)                 198       \n",
            "                                                                 \n",
            "=================================================================\n",
            "Total params: 1278606 (4.88 MB)\n",
            "Trainable params: 1278606 (4.88 MB)\n",
            "Non-trainable params: 0 (0.00 Byte)\n",
            "_________________________________________________________________\n",
            "None\n"
          ]
        }
      ],
      "source": [
        "# Exibindo o resumo do modelo\n",
        "print(modelo_dsa_v2.summary())"
      ]
    },
    {
      "cell_type": "code",
      "execution_count": null,
      "metadata": {
        "id": "-UPJmX3B_B8z"
      },
      "outputs": [],
      "source": [
        "# Definindo os dados de entrada como array\n",
        "dados_entrada = np.array(sequencias_treino_padded)"
      ]
    },
    {
      "cell_type": "code",
      "execution_count": null,
      "metadata": {
        "id": "yjp2QrL0_B8z"
      },
      "outputs": [],
      "source": [
        "# Definindo os dados de saída como array\n",
        "dados_saida = np.array(y_treino_encoded)"
      ]
    },
    {
      "cell_type": "code",
      "execution_count": null,
      "metadata": {
        "id": "AGQrV8D3_B80"
      },
      "outputs": [],
      "source": [
        "# Definição de hiperparâmetros\n",
        "num_epochs = 35\n",
        "validation_split_value = 0.2\n",
        "paciencia = 5"
      ]
    },
    {
      "cell_type": "code",
      "execution_count": null,
      "metadata": {
        "id": "_ZGpDRPU_B80"
      },
      "outputs": [],
      "source": [
        "# Configuração de Early Stopping\n",
        "early_stopping = tf.keras.callbacks.EarlyStopping(patience = paciencia)"
      ]
    },
    {
      "cell_type": "markdown",
      "metadata": {
        "id": "8J2wTeKP_B80"
      },
      "source": [
        "> Treinamento do Modelo."
      ]
    },
    {
      "cell_type": "code",
      "execution_count": null,
      "metadata": {
        "colab": {
          "base_uri": "https://localhost:8080/"
        },
        "id": "OZlcPqbv_B80",
        "outputId": "dbdb89ea-6e61-4c05-8d23-87e119388270"
      },
      "outputs": [
        {
          "output_type": "stream",
          "name": "stdout",
          "text": [
            "Epoch 1/35\n",
            "400/400 [==============================] - 27s 55ms/step - loss: 2.4435 - accuracy: 0.3224 - precision_1: 0.4444 - recall_1: 6.2500e-04 - auc_1: 0.7029 - val_loss: 1.6211 - val_accuracy: 0.3262 - val_precision_1: 0.0000e+00 - val_recall_1: 0.0000e+00 - val_auc_1: 0.7234\n",
            "Epoch 2/35\n",
            "400/400 [==============================] - 8s 20ms/step - loss: 1.4613 - accuracy: 0.3617 - precision_1: 0.5007 - recall_1: 0.0845 - auc_1: 0.7969 - val_loss: 1.2953 - val_accuracy: 0.4238 - val_precision_1: 0.0000e+00 - val_recall_1: 0.0000e+00 - val_auc_1: 0.8471\n",
            "Epoch 3/35\n",
            "400/400 [==============================] - 6s 14ms/step - loss: 1.2316 - accuracy: 0.4306 - precision_1: 0.5146 - recall_1: 0.1839 - auc_1: 0.8611 - val_loss: 1.2199 - val_accuracy: 0.4247 - val_precision_1: 0.5660 - val_recall_1: 0.1541 - val_auc_1: 0.8618\n",
            "Epoch 4/35\n",
            "400/400 [==============================] - 6s 16ms/step - loss: 1.1348 - accuracy: 0.4531 - precision_1: 0.5380 - recall_1: 0.2321 - auc_1: 0.8764 - val_loss: 1.1899 - val_accuracy: 0.4328 - val_precision_1: 0.5205 - val_recall_1: 0.2778 - val_auc_1: 0.8673\n",
            "Epoch 5/35\n",
            "400/400 [==============================] - 6s 14ms/step - loss: 1.0603 - accuracy: 0.5159 - precision_1: 0.5996 - recall_1: 0.2919 - auc_1: 0.8956 - val_loss: 1.0874 - val_accuracy: 0.6525 - val_precision_1: 0.8127 - val_recall_1: 0.4609 - val_auc_1: 0.9135\n",
            "Epoch 6/35\n",
            "400/400 [==============================] - 5s 12ms/step - loss: 0.8417 - accuracy: 0.7271 - precision_1: 0.8588 - recall_1: 0.5844 - auc_1: 0.9533 - val_loss: 0.8102 - val_accuracy: 0.7434 - val_precision_1: 0.8840 - val_recall_1: 0.6144 - val_auc_1: 0.9547\n",
            "Epoch 7/35\n",
            "400/400 [==============================] - 6s 15ms/step - loss: 0.6589 - accuracy: 0.7874 - precision_1: 0.9072 - recall_1: 0.6673 - auc_1: 0.9751 - val_loss: 0.7345 - val_accuracy: 0.7609 - val_precision_1: 0.9205 - val_recall_1: 0.6222 - val_auc_1: 0.9642\n",
            "Epoch 8/35\n",
            "400/400 [==============================] - 5s 13ms/step - loss: 0.5819 - accuracy: 0.8093 - precision_1: 0.9163 - recall_1: 0.6967 - auc_1: 0.9812 - val_loss: 0.7206 - val_accuracy: 0.7709 - val_precision_1: 0.8948 - val_recall_1: 0.6353 - val_auc_1: 0.9643\n",
            "Epoch 9/35\n",
            "400/400 [==============================] - 6s 15ms/step - loss: 0.5284 - accuracy: 0.8314 - precision_1: 0.9120 - recall_1: 0.7291 - auc_1: 0.9850 - val_loss: 0.7048 - val_accuracy: 0.7875 - val_precision_1: 0.9018 - val_recall_1: 0.6484 - val_auc_1: 0.9661\n",
            "Epoch 10/35\n",
            "400/400 [==============================] - 5s 13ms/step - loss: 0.4965 - accuracy: 0.8417 - precision_1: 0.9155 - recall_1: 0.7521 - auc_1: 0.9868 - val_loss: 0.7066 - val_accuracy: 0.7850 - val_precision_1: 0.8074 - val_recall_1: 0.7572 - val_auc_1: 0.9671\n",
            "Epoch 11/35\n",
            "400/400 [==============================] - 5s 14ms/step - loss: 0.4679 - accuracy: 0.8814 - precision_1: 0.9236 - recall_1: 0.8165 - auc_1: 0.9898 - val_loss: 0.6942 - val_accuracy: 0.8566 - val_precision_1: 0.8755 - val_recall_1: 0.8441 - val_auc_1: 0.9690\n",
            "Epoch 12/35\n",
            "400/400 [==============================] - 5s 14ms/step - loss: 0.3781 - accuracy: 0.9392 - precision_1: 0.9563 - recall_1: 0.9122 - auc_1: 0.9949 - val_loss: 0.6296 - val_accuracy: 0.8791 - val_precision_1: 0.8888 - val_recall_1: 0.8719 - val_auc_1: 0.9729\n",
            "Epoch 13/35\n",
            "400/400 [==============================] - 5s 12ms/step - loss: 0.3376 - accuracy: 0.9507 - precision_1: 0.9622 - recall_1: 0.9337 - auc_1: 0.9962 - val_loss: 0.6253 - val_accuracy: 0.8813 - val_precision_1: 0.8894 - val_recall_1: 0.8772 - val_auc_1: 0.9717\n",
            "Epoch 14/35\n",
            "400/400 [==============================] - 6s 15ms/step - loss: 0.3065 - accuracy: 0.9591 - precision_1: 0.9693 - recall_1: 0.9457 - auc_1: 0.9969 - val_loss: 0.6210 - val_accuracy: 0.8781 - val_precision_1: 0.8869 - val_recall_1: 0.8728 - val_auc_1: 0.9732\n",
            "Epoch 15/35\n",
            "400/400 [==============================] - 5s 13ms/step - loss: 0.2770 - accuracy: 0.9630 - precision_1: 0.9712 - recall_1: 0.9523 - auc_1: 0.9974 - val_loss: 0.6230 - val_accuracy: 0.8781 - val_precision_1: 0.8857 - val_recall_1: 0.8744 - val_auc_1: 0.9739\n",
            "Epoch 16/35\n",
            "400/400 [==============================] - 6s 16ms/step - loss: 0.2683 - accuracy: 0.9659 - precision_1: 0.9746 - recall_1: 0.9564 - auc_1: 0.9978 - val_loss: 0.6150 - val_accuracy: 0.8825 - val_precision_1: 0.8909 - val_recall_1: 0.8775 - val_auc_1: 0.9732\n",
            "Epoch 17/35\n",
            "400/400 [==============================] - 5s 13ms/step - loss: 0.2574 - accuracy: 0.9698 - precision_1: 0.9762 - recall_1: 0.9623 - auc_1: 0.9978 - val_loss: 0.6680 - val_accuracy: 0.8687 - val_precision_1: 0.8759 - val_recall_1: 0.8650 - val_auc_1: 0.9692\n",
            "Epoch 18/35\n",
            "400/400 [==============================] - 6s 14ms/step - loss: 0.2387 - accuracy: 0.9732 - precision_1: 0.9783 - recall_1: 0.9665 - auc_1: 0.9980 - val_loss: 0.6070 - val_accuracy: 0.8750 - val_precision_1: 0.8848 - val_recall_1: 0.8716 - val_auc_1: 0.9733\n",
            "Epoch 19/35\n",
            "400/400 [==============================] - 6s 15ms/step - loss: 0.2330 - accuracy: 0.9723 - precision_1: 0.9784 - recall_1: 0.9663 - auc_1: 0.9984 - val_loss: 0.6602 - val_accuracy: 0.8766 - val_precision_1: 0.8823 - val_recall_1: 0.8734 - val_auc_1: 0.9694\n",
            "Epoch 20/35\n",
            "400/400 [==============================] - 5s 13ms/step - loss: 0.2154 - accuracy: 0.9757 - precision_1: 0.9804 - recall_1: 0.9703 - auc_1: 0.9988 - val_loss: 0.6628 - val_accuracy: 0.8863 - val_precision_1: 0.8896 - val_recall_1: 0.8816 - val_auc_1: 0.9674\n",
            "Epoch 21/35\n",
            "400/400 [==============================] - 6s 14ms/step - loss: 0.2179 - accuracy: 0.9766 - precision_1: 0.9803 - recall_1: 0.9716 - auc_1: 0.9986 - val_loss: 0.6334 - val_accuracy: 0.8794 - val_precision_1: 0.8865 - val_recall_1: 0.8741 - val_auc_1: 0.9707\n",
            "Epoch 22/35\n",
            "400/400 [==============================] - 5s 13ms/step - loss: 0.2106 - accuracy: 0.9755 - precision_1: 0.9801 - recall_1: 0.9707 - auc_1: 0.9988 - val_loss: 0.6479 - val_accuracy: 0.8822 - val_precision_1: 0.8862 - val_recall_1: 0.8788 - val_auc_1: 0.9711\n",
            "Epoch 23/35\n",
            "400/400 [==============================] - 6s 14ms/step - loss: 0.1998 - accuracy: 0.9787 - precision_1: 0.9820 - recall_1: 0.9736 - auc_1: 0.9991 - val_loss: 0.6408 - val_accuracy: 0.8859 - val_precision_1: 0.8881 - val_recall_1: 0.8831 - val_auc_1: 0.9710\n",
            "CPU times: user 2min 30s, sys: 8.07 s, total: 2min 38s\n",
            "Wall time: 2min 31s\n"
          ]
        }
      ],
      "source": [
        "%%time\n",
        "history = modelo_dsa_v2.fit(dados_entrada,\n",
        "                            dados_saida,\n",
        "                            epochs = num_epochs,\n",
        "                            verbose = 1,\n",
        "                            validation_split = validation_split_value,\n",
        "                            callbacks = [early_stopping])"
      ]
    },
    {
      "cell_type": "code",
      "execution_count": null,
      "metadata": {
        "colab": {
          "base_uri": "https://localhost:8080/",
          "height": 430
        },
        "id": "SUgzAiFc_B80",
        "outputId": "d125ab11-95b3-4f1e-bafe-00e0be802ddd"
      },
      "outputs": [
        {
          "output_type": "display_data",
          "data": {
            "text/plain": [
              "<Figure size 640x480 with 1 Axes>"
            ],
            "image/png": "[encoded data removed]"
          },
          "metadata": {}
        }
      ],
      "source": [
        "# Plot das curvas de erro\n",
        "loss, val_loss = history.history['loss'], history.history['val_loss']\n",
        "plt.plot(loss, label = 'Erro em Treino')\n",
        "plt.plot(val_loss, label = 'Erro em Validação')\n",
        "plt.legend()\n",
        "plt.show()"
      ]
    },
    {
      "cell_type": "code",
      "execution_count": null,
      "metadata": {
        "colab": {
          "base_uri": "https://localhost:8080/"
        },
        "id": "1dok3ENI_B80",
        "outputId": "e6eca40d-1f22-4eb9-8eba-5488cc6e8c88"
      },
      "outputs": [
        {
          "output_type": "stream",
          "name": "stdout",
          "text": [
            "63/63 [==============================] - 1s 6ms/step\n"
          ]
        }
      ],
      "source": [
        "# Previsões com dados de teste\n",
        "previsoes = modelo_dsa_v2.predict(sequencias_teste_padded)"
      ]
    },
    {
      "cell_type": "code",
      "execution_count": null,
      "metadata": {
        "id": "Hhp7Xb7v_B80"
      },
      "outputs": [],
      "source": [
        "# Determinação dos rótulos previstos\n",
        "labels_previstos = previsoes.argmax(axis = 1)"
      ]
    },
    {
      "cell_type": "code",
      "execution_count": null,
      "metadata": {
        "colab": {
          "base_uri": "https://localhost:8080/"
        },
        "id": "8jjyZ8ir_B81",
        "outputId": "d9e4472c-3894-4585-9b63-15af63425c87"
      },
      "outputs": [
        {
          "output_type": "stream",
          "name": "stdout",
          "text": [
            "              precision    recall  f1-score   support\n",
            "\n",
            "           0       0.90      0.86      0.88       275\n",
            "           1       0.87      0.86      0.86       224\n",
            "           2       0.91      0.92      0.91       695\n",
            "           3       0.73      0.73      0.73       159\n",
            "           4       0.92      0.94      0.93       581\n",
            "           5       0.74      0.70      0.72        66\n",
            "\n",
            "    accuracy                           0.89      2000\n",
            "   macro avg       0.85      0.83      0.84      2000\n",
            "weighted avg       0.89      0.89      0.89      2000\n",
            "\n"
          ]
        }
      ],
      "source": [
        "# Exibição do relatório de classificação\n",
        "print(classification_report(y_teste_le, labels_previstos))"
      ]
    },
    {
      "cell_type": "code",
      "execution_count": null,
      "metadata": {
        "colab": {
          "base_uri": "https://localhost:8080/"
        },
        "id": "s4TLf_Qx_B81",
        "outputId": "daea5c34-848d-45fe-8273-650d8d0727d1"
      },
      "outputs": [
        {
          "output_type": "stream",
          "name": "stdout",
          "text": [
            "[[237   8   9   3  18   0]\n",
            " [ 12 193   3   1   6   9]\n",
            " [  1   2 637  34  15   6]\n",
            " [  1   3  31 116   7   1]\n",
            " [ 10   7  14   4 546   0]\n",
            " [  1  10   7   1   1  46]]\n"
          ]
        }
      ],
      "source": [
        "# Exibição da matriz de confusão\n",
        "print(confusion_matrix(y_teste_le, labels_previstos))"
      ]
    },
    {
      "cell_type": "code",
      "execution_count": null,
      "metadata": {
        "colab": {
          "base_uri": "https://localhost:8080/"
        },
        "id": "2ZWpuQV6_B81",
        "outputId": "702a30db-c2ec-452e-f0b2-d66995374869"
      },
      "outputs": [
        {
          "output_type": "stream",
          "name": "stdout",
          "text": [
            "0.8875\n"
          ]
        }
      ],
      "source": [
        "# Exibição da precisão do modelo\n",
        "print(accuracy_score(y_teste_le, labels_previstos))"
      ]
    },
    {
      "cell_type": "code",
      "execution_count": null,
      "metadata": {
        "id": "Zpo0Ffb-_B81"
      },
      "outputs": [],
      "source": [
        "# Salva o modelo\n",
        "modelo_dsa_v2.save('modelo_dsa_v2.keras')"
      ]
    },
    {
      "cell_type": "markdown",
      "metadata": {
        "id": "GF_GUbiM_B81"
      },
      "source": [
        "> Deploy do Modelo."
      ]
    },
    {
      "cell_type": "code",
      "execution_count": null,
      "metadata": {
        "id": "SG0xH0ot_B81"
      },
      "outputs": [],
      "source": [
        "# Carrega o modelo salvo\n",
        "modelo_carregado = load_model('modelo_dsa_v2.keras')"
      ]
    },
    {
      "cell_type": "code",
      "execution_count": null,
      "metadata": {
        "id": "23mKQV1D_B81"
      },
      "outputs": [],
      "source": [
        "# Nova frase (sentimento = medo (fear))\n",
        "frase = \"i even feel a little shaky\""
      ]
    },
    {
      "cell_type": "code",
      "execution_count": null,
      "metadata": {
        "id": "K-ldWym3_B81"
      },
      "outputs": [],
      "source": [
        "# Cria um dataframe com a frase\n",
        "df_novo = pd.DataFrame({'Frase': [frase]})"
      ]
    },
    {
      "cell_type": "code",
      "execution_count": null,
      "metadata": {
        "id": "eTT2tG8f_B81"
      },
      "outputs": [],
      "source": [
        "# Aplica a função de processamento\n",
        "df_novo['Frase_Processada'] = df_novo['Frase'].apply(dsa_preprocessa_texto)"
      ]
    },
    {
      "cell_type": "code",
      "execution_count": null,
      "metadata": {
        "id": "EHy_FYa2_B82"
      },
      "outputs": [],
      "source": [
        "# Processar os novos dados\n",
        "sequencias_novos = dsa_tokenizador.texts_to_sequences(df_novo['Frase_Processada'])\n",
        "sequencias_novos_padded = pad_sequences(sequencias_novos, maxlen = max_length)"
      ]
    },
    {
      "cell_type": "code",
      "execution_count": null,
      "metadata": {
        "colab": {
          "base_uri": "https://localhost:8080/"
        },
        "id": "ooazTxHt_B82",
        "outputId": "f160f87b-6856-45b2-ec13-7486d6396a70"
      },
      "outputs": [
        {
          "output_type": "stream",
          "name": "stdout",
          "text": [
            "1/1 [==============================] - 1s 901ms/step\n"
          ]
        }
      ],
      "source": [
        "# Fazer previsões com o modelo carregado\n",
        "previsoes = modelo_carregado.predict(sequencias_novos_padded)"
      ]
    },
    {
      "cell_type": "code",
      "execution_count": null,
      "metadata": {
        "id": "5sSMIETH_B82"
      },
      "outputs": [],
      "source": [
        "# Seleciona a classe com maior probabilidade\n",
        "classe_maior_prob = np.argmax(previsoes, axis = 1)"
      ]
    },
    {
      "cell_type": "code",
      "execution_count": null,
      "metadata": {
        "colab": {
          "base_uri": "https://localhost:8080/"
        },
        "id": "mPJupd_h_B82",
        "outputId": "058b0f4b-df34-41b1-e5d3-7b06b03417a9"
      },
      "outputs": [
        {
          "output_type": "execute_result",
          "data": {
            "text/plain": [
              "array([1])"
            ]
          },
          "metadata": {},
          "execution_count": 105
        }
      ],
      "source": [
        "classe_maior_prob"
      ]
    },
    {
      "cell_type": "code",
      "execution_count": null,
      "metadata": {
        "id": "dl8uZVUP_B82"
      },
      "outputs": [],
      "source": [
        "# Obtém o nome da classe\n",
        "nome_classe = dsa_le_v2.inverse_transform(classe_maior_prob)"
      ]
    },
    {
      "cell_type": "code",
      "execution_count": null,
      "metadata": {
        "colab": {
          "base_uri": "https://localhost:8080/"
        },
        "id": "ILYIwS7m_B82",
        "outputId": "92fbb626-9091-421f-cdc1-ece88a86d18a"
      },
      "outputs": [
        {
          "output_type": "execute_result",
          "data": {
            "text/plain": [
              "array(['fear'], dtype=object)"
            ]
          },
          "metadata": {},
          "execution_count": 107
        }
      ],
      "source": [
        "# Classe prevista\n",
        "nome_classe"
      ]
    }
  ],
  "metadata": {
    "accelerator": "GPU",
    "colab": {
      "provenance": [],
      "gpuType": "T4"
    },
    "kernelspec": {
      "display_name": "Python 3",
      "name": "python3"
    },
    "language_info": {
      "codemirror_mode": {
        "name": "ipython",
        "version": 3
      },
      "file_extension": ".py",
      "mimetype": "text/x-python",
      "name": "python",
      "nbconvert_exporter": "python",
      "pygments_lexer": "ipython3",
      "version": "3.11.5"
    }
  },
  "nbformat": 4,
  "nbformat_minor": 0
}