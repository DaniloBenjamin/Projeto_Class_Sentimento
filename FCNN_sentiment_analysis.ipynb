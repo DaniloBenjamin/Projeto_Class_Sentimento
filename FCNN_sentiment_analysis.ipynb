{
 "cells": [
  {
   "cell_type": "markdown",
   "id": "89af914e",
   "metadata": {},
   "source": [
    "\n",
    "# <font color='white'>Projeto Análise de Sentimento</font>\n"
   ]
  },
  {
   "cell_type": "markdown",
   "id": "027a2c1e",
   "metadata": {},
   "source": [
    "\n",
    "## <font color='white'>Instalação dos pacotes</font>\n"
   ]
  },
  {
   "cell_type": "code",
   "execution_count": 143,
   "id": "398dce2c",
   "metadata": {},
   "outputs": [],
   "source": [
    "!pip install -q -U watermark"
   ]
  },
  {
   "cell_type": "code",
   "execution_count": 144,
   "id": "3014c0ce",
   "metadata": {},
   "outputs": [
    {
     "name": "stdout",
     "output_type": "stream",
     "text": [
      "Requirement already satisfied: tensorflow in c:\\users\\danilo\\anaconda3\\lib\\site-packages (2.15.0)\n",
      "Requirement already satisfied: tensorflow-intel==2.15.0 in c:\\users\\danilo\\anaconda3\\lib\\site-packages (from tensorflow) (2.15.0)\n",
      "Requirement already satisfied: absl-py>=1.0.0 in c:\\users\\danilo\\anaconda3\\lib\\site-packages (from tensorflow-intel==2.15.0->tensorflow) (2.1.0)\n",
      "Requirement already satisfied: astunparse>=1.6.0 in c:\\users\\danilo\\anaconda3\\lib\\site-packages (from tensorflow-intel==2.15.0->tensorflow) (1.6.3)\n",
      "Requirement already satisfied: flatbuffers>=23.5.26 in c:\\users\\danilo\\anaconda3\\lib\\site-packages (from tensorflow-intel==2.15.0->tensorflow) (23.5.26)\n",
      "Requirement already satisfied: gast!=0.5.0,!=0.5.1,!=0.5.2,>=0.2.1 in c:\\users\\danilo\\anaconda3\\lib\\site-packages (from tensorflow-intel==2.15.0->tensorflow) (0.5.4)\n",
      "Requirement already satisfied: google-pasta>=0.1.1 in c:\\users\\danilo\\anaconda3\\lib\\site-packages (from tensorflow-intel==2.15.0->tensorflow) (0.2.0)\n",
      "Requirement already satisfied: h5py>=2.9.0 in c:\\users\\danilo\\anaconda3\\lib\\site-packages (from tensorflow-intel==2.15.0->tensorflow) (3.9.0)\n",
      "Requirement already satisfied: libclang>=13.0.0 in c:\\users\\danilo\\anaconda3\\lib\\site-packages (from tensorflow-intel==2.15.0->tensorflow) (16.0.6)\n",
      "Requirement already satisfied: ml-dtypes~=0.2.0 in c:\\users\\danilo\\anaconda3\\lib\\site-packages (from tensorflow-intel==2.15.0->tensorflow) (0.2.0)\n",
      "Requirement already satisfied: numpy<2.0.0,>=1.23.5 in c:\\users\\danilo\\anaconda3\\lib\\site-packages (from tensorflow-intel==2.15.0->tensorflow) (1.24.3)\n",
      "Requirement already satisfied: opt-einsum>=2.3.2 in c:\\users\\danilo\\anaconda3\\lib\\site-packages (from tensorflow-intel==2.15.0->tensorflow) (3.3.0)\n",
      "Requirement already satisfied: packaging in c:\\users\\danilo\\anaconda3\\lib\\site-packages (from tensorflow-intel==2.15.0->tensorflow) (23.1)\n",
      "Requirement already satisfied: protobuf!=4.21.0,!=4.21.1,!=4.21.2,!=4.21.3,!=4.21.4,!=4.21.5,<5.0.0dev,>=3.20.3 in c:\\users\\danilo\\anaconda3\\lib\\site-packages (from tensorflow-intel==2.15.0->tensorflow) (4.23.4)\n",
      "Requirement already satisfied: setuptools in c:\\users\\danilo\\anaconda3\\lib\\site-packages (from tensorflow-intel==2.15.0->tensorflow) (68.0.0)\n",
      "Requirement already satisfied: six>=1.12.0 in c:\\users\\danilo\\anaconda3\\lib\\site-packages (from tensorflow-intel==2.15.0->tensorflow) (1.16.0)\n",
      "Requirement already satisfied: termcolor>=1.1.0 in c:\\users\\danilo\\anaconda3\\lib\\site-packages (from tensorflow-intel==2.15.0->tensorflow) (2.4.0)\n",
      "Requirement already satisfied: typing-extensions>=3.6.6 in c:\\users\\danilo\\anaconda3\\lib\\site-packages (from tensorflow-intel==2.15.0->tensorflow) (4.7.1)\n",
      "Requirement already satisfied: wrapt<1.15,>=1.11.0 in c:\\users\\danilo\\anaconda3\\lib\\site-packages (from tensorflow-intel==2.15.0->tensorflow) (1.14.1)\n",
      "Requirement already satisfied: tensorflow-io-gcs-filesystem>=0.23.1 in c:\\users\\danilo\\anaconda3\\lib\\site-packages (from tensorflow-intel==2.15.0->tensorflow) (0.31.0)\n",
      "Requirement already satisfied: grpcio<2.0,>=1.24.3 in c:\\users\\danilo\\anaconda3\\lib\\site-packages (from tensorflow-intel==2.15.0->tensorflow) (1.60.1)\n",
      "Requirement already satisfied: tensorboard<2.16,>=2.15 in c:\\users\\danilo\\anaconda3\\lib\\site-packages (from tensorflow-intel==2.15.0->tensorflow) (2.15.1)\n",
      "Requirement already satisfied: tensorflow-estimator<2.16,>=2.15.0 in c:\\users\\danilo\\anaconda3\\lib\\site-packages (from tensorflow-intel==2.15.0->tensorflow) (2.15.0)\n",
      "Requirement already satisfied: keras<2.16,>=2.15.0 in c:\\users\\danilo\\anaconda3\\lib\\site-packages (from tensorflow-intel==2.15.0->tensorflow) (2.15.0)\n",
      "Requirement already satisfied: wheel<1.0,>=0.23.0 in c:\\users\\danilo\\anaconda3\\lib\\site-packages (from astunparse>=1.6.0->tensorflow-intel==2.15.0->tensorflow) (0.38.4)\n",
      "Requirement already satisfied: google-auth<3,>=1.6.3 in c:\\users\\danilo\\anaconda3\\lib\\site-packages (from tensorboard<2.16,>=2.15->tensorflow-intel==2.15.0->tensorflow) (2.27.0)\n",
      "Requirement already satisfied: google-auth-oauthlib<2,>=0.5 in c:\\users\\danilo\\anaconda3\\lib\\site-packages (from tensorboard<2.16,>=2.15->tensorflow-intel==2.15.0->tensorflow) (1.2.0)\n",
      "Requirement already satisfied: markdown>=2.6.8 in c:\\users\\danilo\\anaconda3\\lib\\site-packages (from tensorboard<2.16,>=2.15->tensorflow-intel==2.15.0->tensorflow) (3.4.1)\n",
      "Requirement already satisfied: requests<3,>=2.21.0 in c:\\users\\danilo\\anaconda3\\lib\\site-packages (from tensorboard<2.16,>=2.15->tensorflow-intel==2.15.0->tensorflow) (2.31.0)\n",
      "Requirement already satisfied: tensorboard-data-server<0.8.0,>=0.7.0 in c:\\users\\danilo\\anaconda3\\lib\\site-packages (from tensorboard<2.16,>=2.15->tensorflow-intel==2.15.0->tensorflow) (0.7.2)\n",
      "Requirement already satisfied: werkzeug>=1.0.1 in c:\\users\\danilo\\anaconda3\\lib\\site-packages (from tensorboard<2.16,>=2.15->tensorflow-intel==2.15.0->tensorflow) (2.2.3)\n",
      "Requirement already satisfied: cachetools<6.0,>=2.0.0 in c:\\users\\danilo\\anaconda3\\lib\\site-packages (from google-auth<3,>=1.6.3->tensorboard<2.16,>=2.15->tensorflow-intel==2.15.0->tensorflow) (5.3.2)\n",
      "Requirement already satisfied: pyasn1-modules>=0.2.1 in c:\\users\\danilo\\anaconda3\\lib\\site-packages (from google-auth<3,>=1.6.3->tensorboard<2.16,>=2.15->tensorflow-intel==2.15.0->tensorflow) (0.2.8)\n",
      "Requirement already satisfied: rsa<5,>=3.1.4 in c:\\users\\danilo\\anaconda3\\lib\\site-packages (from google-auth<3,>=1.6.3->tensorboard<2.16,>=2.15->tensorflow-intel==2.15.0->tensorflow) (4.9)\n",
      "Requirement already satisfied: requests-oauthlib>=0.7.0 in c:\\users\\danilo\\anaconda3\\lib\\site-packages (from google-auth-oauthlib<2,>=0.5->tensorboard<2.16,>=2.15->tensorflow-intel==2.15.0->tensorflow) (1.3.1)\n",
      "Requirement already satisfied: charset-normalizer<4,>=2 in c:\\users\\danilo\\anaconda3\\lib\\site-packages (from requests<3,>=2.21.0->tensorboard<2.16,>=2.15->tensorflow-intel==2.15.0->tensorflow) (2.0.4)\n",
      "Requirement already satisfied: idna<4,>=2.5 in c:\\users\\danilo\\anaconda3\\lib\\site-packages (from requests<3,>=2.21.0->tensorboard<2.16,>=2.15->tensorflow-intel==2.15.0->tensorflow) (3.4)\n",
      "Requirement already satisfied: urllib3<3,>=1.21.1 in c:\\users\\danilo\\anaconda3\\lib\\site-packages (from requests<3,>=2.21.0->tensorboard<2.16,>=2.15->tensorflow-intel==2.15.0->tensorflow) (1.26.16)\n",
      "Requirement already satisfied: certifi>=2017.4.17 in c:\\users\\danilo\\anaconda3\\lib\\site-packages (from requests<3,>=2.21.0->tensorboard<2.16,>=2.15->tensorflow-intel==2.15.0->tensorflow) (2023.7.22)\n",
      "Requirement already satisfied: MarkupSafe>=2.1.1 in c:\\users\\danilo\\anaconda3\\lib\\site-packages (from werkzeug>=1.0.1->tensorboard<2.16,>=2.15->tensorflow-intel==2.15.0->tensorflow) (2.1.1)\n",
      "Requirement already satisfied: pyasn1<0.5.0,>=0.4.6 in c:\\users\\danilo\\anaconda3\\lib\\site-packages (from pyasn1-modules>=0.2.1->google-auth<3,>=1.6.3->tensorboard<2.16,>=2.15->tensorflow-intel==2.15.0->tensorflow) (0.4.8)\n",
      "Requirement already satisfied: oauthlib>=3.0.0 in c:\\users\\danilo\\anaconda3\\lib\\site-packages (from requests-oauthlib>=0.7.0->google-auth-oauthlib<2,>=0.5->tensorboard<2.16,>=2.15->tensorflow-intel==2.15.0->tensorflow) (3.2.2)\n"
     ]
    }
   ],
   "source": [
    "!pip install tensorflow"
   ]
  },
  {
   "cell_type": "code",
   "execution_count": 145,
   "id": "4497acf3",
   "metadata": {},
   "outputs": [],
   "source": [
    "!pip install -q spacy"
   ]
  },
  {
   "cell_type": "code",
   "execution_count": 146,
   "id": "65be7967",
   "metadata": {},
   "outputs": [],
   "source": [
    "!pip install -q transformers"
   ]
  },
  {
   "cell_type": "markdown",
   "id": "04410367",
   "metadata": {},
   "source": [
    "\n",
    "## <font color='white'>Imports</font>\n"
   ]
  },
  {
   "cell_type": "code",
   "execution_count": 198,
   "id": "113c913d",
   "metadata": {},
   "outputs": [],
   "source": [
    "import math\n",
    "import nltk\n",
    "import spacy\n",
    "import numpy as np\n",
    "import pandas as pd\n",
    "import tensorflow as tf\n",
    "import matplotlib.pyplot as plt\n",
    "import transformers\n",
    "from tokenizers import BertWordPieceTokenizer\n",
    "from tqdm import tqdm\n",
    "from nltk.corpus import stopwords\n",
    "from sklearn.preprocessing import LabelEncoder\n",
    "from sklearn.feature_extraction.text import TfidfVectorizer\n",
    "from sklearn.model_selection import train_test_split\n",
    "from sklearn.utils.class_weight import compute_class_weight\n",
    "from sklearn.metrics import confusion_matrix, accuracy_score, classification_report\n",
    "from tensorflow import keras\n",
    "from keras.utils import to_categorical\n",
    "from tensorflow.keras import Sequential\n",
    "from keras.preprocessing.text import Tokenizer\n",
    "from tensorflow.keras.models import load_model\n",
    "from keras.metrics import Precision, Recall, AUC\n",
    "from tensorflow.keras.preprocessing.sequence import pad_sequences\n",
    "from keras.layers import Embedding, LSTM, Dense, Dropout, Bidirectional\n",
    "from keras.callbacks import EarlyStopping, LearningRateScheduler,CallbackList, ReduceLROnPlateau\n",
    "from tensorflow.keras.optimizers.experimental import Adam\n"
   ]
  },
  {
   "cell_type": "markdown",
   "id": "fe2738f2",
   "metadata": {},
   "source": [
    "\n",
    "## <font color='white'>Carregando dados</font>\n"
   ]
  },
  {
   "cell_type": "code",
   "execution_count": 148,
   "id": "aa8458f6",
   "metadata": {},
   "outputs": [],
   "source": [
    "#Dados Treino\n",
    "dados_dsa_treino = pd.read_csv('C:\\\\Users\\\\Danilo\\\\OneDrive\\\\Documentos\\\\Engenheiro_IA\\\\Projeto_Class_Sentimento\\\\dados_treino.txt', header = None,delimiter = ';')"
   ]
  },
  {
   "cell_type": "code",
   "execution_count": 149,
   "id": "938dc031",
   "metadata": {},
   "outputs": [],
   "source": [
    "#Dados Teste\n",
    "dados_dsa_teste = pd.read_csv('C:\\\\Users\\\\Danilo\\\\OneDrive\\\\Documentos\\\\Engenheiro_IA\\\\Projeto_Class_Sentimento\\\\dados_teste.txt', header = None,delimiter = ';')"
   ]
  },
  {
   "cell_type": "code",
   "execution_count": 150,
   "id": "83c9126d",
   "metadata": {},
   "outputs": [],
   "source": [
    "#Ajusta nomes colunas\n",
    "dados_dsa_treino = dados_dsa_treino.rename(columns = {0: 'texto', 1:'sentimento'})\n",
    "dados_dsa_teste = dados_dsa_teste.rename(columns = {0: 'texto', 1:'sentimento'})"
   ]
  },
  {
   "cell_type": "code",
   "execution_count": 151,
   "id": "d569e1a1",
   "metadata": {},
   "outputs": [
    {
     "data": {
      "text/plain": [
       "(16000, 2)"
      ]
     },
     "execution_count": 151,
     "metadata": {},
     "output_type": "execute_result"
    }
   ],
   "source": [
    "dados_dsa_treino.shape"
   ]
  },
  {
   "cell_type": "code",
   "execution_count": 152,
   "id": "0ae81c36",
   "metadata": {},
   "outputs": [
    {
     "data": {
      "text/plain": [
       "(2000, 2)"
      ]
     },
     "execution_count": 152,
     "metadata": {},
     "output_type": "execute_result"
    }
   ],
   "source": [
    "dados_dsa_teste.shape"
   ]
  },
  {
   "cell_type": "code",
   "execution_count": 153,
   "id": "d11c1e24",
   "metadata": {},
   "outputs": [
    {
     "data": {
      "text/html": [
       "<div>\n",
       "<style scoped>\n",
       "    .dataframe tbody tr th:only-of-type {\n",
       "        vertical-align: middle;\n",
       "    }\n",
       "\n",
       "    .dataframe tbody tr th {\n",
       "        vertical-align: top;\n",
       "    }\n",
       "\n",
       "    .dataframe thead th {\n",
       "        text-align: right;\n",
       "    }\n",
       "</style>\n",
       "<table border=\"1\" class=\"dataframe\">\n",
       "  <thead>\n",
       "    <tr style=\"text-align: right;\">\n",
       "      <th></th>\n",
       "      <th>texto</th>\n",
       "      <th>sentimento</th>\n",
       "    </tr>\n",
       "  </thead>\n",
       "  <tbody>\n",
       "    <tr>\n",
       "      <th>0</th>\n",
       "      <td>i am feeling completely overwhelmed i have two...</td>\n",
       "      <td>fear</td>\n",
       "    </tr>\n",
       "    <tr>\n",
       "      <th>1</th>\n",
       "      <td>i have the feeling she was amused and delighted</td>\n",
       "      <td>joy</td>\n",
       "    </tr>\n",
       "    <tr>\n",
       "      <th>2</th>\n",
       "      <td>i was able to help chai lifeline with your sup...</td>\n",
       "      <td>joy</td>\n",
       "    </tr>\n",
       "    <tr>\n",
       "      <th>3</th>\n",
       "      <td>i already feel like i fucked up though because...</td>\n",
       "      <td>anger</td>\n",
       "    </tr>\n",
       "    <tr>\n",
       "      <th>4</th>\n",
       "      <td>i still love my so and wish the best for him i...</td>\n",
       "      <td>sadness</td>\n",
       "    </tr>\n",
       "  </tbody>\n",
       "</table>\n",
       "</div>"
      ],
      "text/plain": [
       "                                               texto sentimento\n",
       "0  i am feeling completely overwhelmed i have two...       fear\n",
       "1    i have the feeling she was amused and delighted        joy\n",
       "2  i was able to help chai lifeline with your sup...        joy\n",
       "3  i already feel like i fucked up though because...      anger\n",
       "4  i still love my so and wish the best for him i...    sadness"
      ]
     },
     "execution_count": 153,
     "metadata": {},
     "output_type": "execute_result"
    }
   ],
   "source": [
    "dados_dsa_treino.head()"
   ]
  },
  {
   "cell_type": "code",
   "execution_count": 154,
   "id": "0a41b64c",
   "metadata": {},
   "outputs": [
    {
     "data": {
      "text/html": [
       "<div>\n",
       "<style scoped>\n",
       "    .dataframe tbody tr th:only-of-type {\n",
       "        vertical-align: middle;\n",
       "    }\n",
       "\n",
       "    .dataframe tbody tr th {\n",
       "        vertical-align: top;\n",
       "    }\n",
       "\n",
       "    .dataframe thead th {\n",
       "        text-align: right;\n",
       "    }\n",
       "</style>\n",
       "<table border=\"1\" class=\"dataframe\">\n",
       "  <thead>\n",
       "    <tr style=\"text-align: right;\">\n",
       "      <th></th>\n",
       "      <th>texto</th>\n",
       "      <th>sentimento</th>\n",
       "    </tr>\n",
       "  </thead>\n",
       "  <tbody>\n",
       "    <tr>\n",
       "      <th>0</th>\n",
       "      <td>i feel like my only role now would be to tear ...</td>\n",
       "      <td>sadness</td>\n",
       "    </tr>\n",
       "    <tr>\n",
       "      <th>1</th>\n",
       "      <td>i feel just bcoz a fight we get mad to each ot...</td>\n",
       "      <td>anger</td>\n",
       "    </tr>\n",
       "    <tr>\n",
       "      <th>2</th>\n",
       "      <td>i feel like reds and purples are just so rich ...</td>\n",
       "      <td>joy</td>\n",
       "    </tr>\n",
       "    <tr>\n",
       "      <th>3</th>\n",
       "      <td>im not sure the feeling of loss will ever go a...</td>\n",
       "      <td>sadness</td>\n",
       "    </tr>\n",
       "    <tr>\n",
       "      <th>4</th>\n",
       "      <td>i feel like ive gotten to know many of you thr...</td>\n",
       "      <td>joy</td>\n",
       "    </tr>\n",
       "  </tbody>\n",
       "</table>\n",
       "</div>"
      ],
      "text/plain": [
       "                                               texto sentimento\n",
       "0  i feel like my only role now would be to tear ...    sadness\n",
       "1  i feel just bcoz a fight we get mad to each ot...      anger\n",
       "2  i feel like reds and purples are just so rich ...        joy\n",
       "3  im not sure the feeling of loss will ever go a...    sadness\n",
       "4  i feel like ive gotten to know many of you thr...        joy"
      ]
     },
     "execution_count": 154,
     "metadata": {},
     "output_type": "execute_result"
    }
   ],
   "source": [
    "dados_dsa_teste.head()"
   ]
  },
  {
   "cell_type": "code",
   "execution_count": 155,
   "id": "f6ab3753",
   "metadata": {},
   "outputs": [
    {
     "data": {
      "text/plain": [
       "sentimento\n",
       "joy         5362\n",
       "sadness     4666\n",
       "anger       2159\n",
       "fear        1937\n",
       "love        1304\n",
       "surprise     572\n",
       "Name: count, dtype: int64"
      ]
     },
     "execution_count": 155,
     "metadata": {},
     "output_type": "execute_result"
    }
   ],
   "source": [
    "dados_dsa_treino['sentimento'].value_counts()"
   ]
  },
  {
   "cell_type": "code",
   "execution_count": 156,
   "id": "206d7c96",
   "metadata": {},
   "outputs": [
    {
     "data": {
      "text/plain": [
       "sentimento\n",
       "joy         695\n",
       "sadness     581\n",
       "anger       275\n",
       "fear        224\n",
       "love        159\n",
       "surprise     66\n",
       "Name: count, dtype: int64"
      ]
     },
     "execution_count": 156,
     "metadata": {},
     "output_type": "execute_result"
    }
   ],
   "source": [
    "dados_dsa_teste['sentimento'].value_counts()"
   ]
  },
  {
   "cell_type": "markdown",
   "id": "9b10774a",
   "metadata": {},
   "source": [
    "\n",
    "### <font color='white'>Pré Processamento</font>\n"
   ]
  },
  {
   "cell_type": "code",
   "execution_count": 157,
   "id": "df181f47",
   "metadata": {},
   "outputs": [
    {
     "name": "stdout",
     "output_type": "stream",
     "text": [
      "\u001b[38;5;2m[+] Download and installation successful\u001b[0m\n",
      "You can now load the package via spacy.load('en_core_web_md')\n"
     ]
    }
   ],
   "source": [
    "!python -m spacy download en_core_web_md -q"
   ]
  },
  {
   "cell_type": "code",
   "execution_count": 158,
   "id": "59caaecb",
   "metadata": {},
   "outputs": [],
   "source": [
    "dsa_nlp = spacy.load('en_core_web_md')"
   ]
  },
  {
   "cell_type": "code",
   "execution_count": 159,
   "id": "e93f072e",
   "metadata": {},
   "outputs": [],
   "source": [
    "# Definição da função 'dsa_preprocessa_texto' que recebe um texto como parâmetro\n",
    "def dsa_preprocessa_texto(text):\n",
    "    doc = dsa_nlp(text)\n",
    "    tokens = [token.lemma_.lower().strip() for token in doc if not token.is_stop]\n",
    "    return ' '.join(tokens)"
   ]
  },
  {
   "cell_type": "code",
   "execution_count": 160,
   "id": "3b10b1ec",
   "metadata": {},
   "outputs": [],
   "source": [
    "dados_dsa_treino['texto_processado'] = dados_dsa_treino['texto'].apply(dsa_preprocessa_texto)"
   ]
  },
  {
   "cell_type": "code",
   "execution_count": 161,
   "id": "39a45215",
   "metadata": {},
   "outputs": [],
   "source": [
    "dados_dsa_teste['texto_processado'] = dados_dsa_teste['texto'].apply(dsa_preprocessa_texto)"
   ]
  },
  {
   "cell_type": "code",
   "execution_count": 162,
   "id": "78537235",
   "metadata": {},
   "outputs": [
    {
     "data": {
      "text/html": [
       "<div>\n",
       "<style scoped>\n",
       "    .dataframe tbody tr th:only-of-type {\n",
       "        vertical-align: middle;\n",
       "    }\n",
       "\n",
       "    .dataframe tbody tr th {\n",
       "        vertical-align: top;\n",
       "    }\n",
       "\n",
       "    .dataframe thead th {\n",
       "        text-align: right;\n",
       "    }\n",
       "</style>\n",
       "<table border=\"1\" class=\"dataframe\">\n",
       "  <thead>\n",
       "    <tr style=\"text-align: right;\">\n",
       "      <th></th>\n",
       "      <th>texto</th>\n",
       "      <th>sentimento</th>\n",
       "      <th>texto_processado</th>\n",
       "    </tr>\n",
       "  </thead>\n",
       "  <tbody>\n",
       "    <tr>\n",
       "      <th>0</th>\n",
       "      <td>i am feeling completely overwhelmed i have two...</td>\n",
       "      <td>fear</td>\n",
       "      <td>feel completely overwhelmed strategy help feel...</td>\n",
       "    </tr>\n",
       "    <tr>\n",
       "      <th>1</th>\n",
       "      <td>i have the feeling she was amused and delighted</td>\n",
       "      <td>joy</td>\n",
       "      <td>feeling amuse delight</td>\n",
       "    </tr>\n",
       "    <tr>\n",
       "      <th>2</th>\n",
       "      <td>i was able to help chai lifeline with your sup...</td>\n",
       "      <td>joy</td>\n",
       "      <td>able help chai lifeline support encouragement ...</td>\n",
       "    </tr>\n",
       "    <tr>\n",
       "      <th>3</th>\n",
       "      <td>i already feel like i fucked up though because...</td>\n",
       "      <td>anger</td>\n",
       "      <td>feel like fuck not usually eat morning</td>\n",
       "    </tr>\n",
       "    <tr>\n",
       "      <th>4</th>\n",
       "      <td>i still love my so and wish the best for him i...</td>\n",
       "      <td>sadness</td>\n",
       "      <td>love wish good long tolerate effect bm life fa...</td>\n",
       "    </tr>\n",
       "  </tbody>\n",
       "</table>\n",
       "</div>"
      ],
      "text/plain": [
       "                                               texto sentimento  \\\n",
       "0  i am feeling completely overwhelmed i have two...       fear   \n",
       "1    i have the feeling she was amused and delighted        joy   \n",
       "2  i was able to help chai lifeline with your sup...        joy   \n",
       "3  i already feel like i fucked up though because...      anger   \n",
       "4  i still love my so and wish the best for him i...    sadness   \n",
       "\n",
       "                                    texto_processado  \n",
       "0  feel completely overwhelmed strategy help feel...  \n",
       "1                              feeling amuse delight  \n",
       "2  able help chai lifeline support encouragement ...  \n",
       "3             feel like fuck not usually eat morning  \n",
       "4  love wish good long tolerate effect bm life fa...  "
      ]
     },
     "execution_count": 162,
     "metadata": {},
     "output_type": "execute_result"
    }
   ],
   "source": [
    "dados_dsa_treino.head()"
   ]
  },
  {
   "cell_type": "markdown",
   "id": "d3ed79d9",
   "metadata": {},
   "source": [
    "\n",
    "### <font color='white'>Vetorização com TF-IDF</font>\n"
   ]
  },
  {
   "cell_type": "code",
   "execution_count": 163,
   "id": "191e6f1d",
   "metadata": {},
   "outputs": [],
   "source": [
    "dsa_tfidf = TfidfVectorizer(max_df = 0.95, min_df = 2, stop_words = 'english')"
   ]
  },
  {
   "cell_type": "markdown",
   "id": "cc54d277",
   "metadata": {},
   "source": [
    "Esta linha acima cria uma instância TfidVectorizer da biblioteca scikit-learn, que é uma ferramenta utilizada para converter uma coleção de documentos brutos em uma matriz de recursos TF-IDF (Term Frequency-Inverse Document Frequency). O TF-IDF é uma técnica estatística usada para quantificar a importância de uma palavra em um conjunto de documentos, comumente utilizada em tarefas de PLN e recuperação de informações.\n",
    "\n",
    "Parâmetro max_df = 0.95: Este parâmetro define o limite máximo de frequência do documento para os termos que serão considerados. Aqui, está definido como 0.95, o que significa que palavras que aparecem em mais de 95% dos documentos serão ignoradas. Isso ajuda a eliminar palavras comuns que não contribuem muito para o significado do texto.\n",
    "\n",
    "Parâmetro min_df = 2: Este parâmetro estabelece a frequência mínima de documento para os termos. Neste caso, termos que aparecem em menos de 2 documentos serão ignorados. Isso ajuda a filtrar termos raros que podem ocorrer apenas em poucas amostras e, portanto, são menos relevantes para a análise geral.\n",
    "\n",
    "Parâmetro stop_words = 'english'. Este parâmetro instrui o vetorizador a remover todas as palavras de parada em inglês da análise. Palavras de parada são palavras comuns (como \"e\", \"o\", \"em\") que geralmente são filtradas em processamento de linguagem natural porque são muito frequentes e não carregam informações significativas para análise do texto."
   ]
  },
  {
   "cell_type": "code",
   "execution_count": 188,
   "id": "13cac50b",
   "metadata": {},
   "outputs": [],
   "source": [
    "# Aplica o vetorizador\n",
    "dados_treino_tfidf = dsa_tfidf.fit_transform(dados_dsa_treino['texto_processado'])\n",
    "dados_teste_tfidf = dsa_tfidf.transform(dados_dsa_teste['texto_processado'])"
   ]
  },
  {
   "cell_type": "code",
   "execution_count": 165,
   "id": "7f3275a9",
   "metadata": {},
   "outputs": [
    {
     "data": {
      "text/plain": [
       "(16000, 5586)"
      ]
     },
     "execution_count": 165,
     "metadata": {},
     "output_type": "execute_result"
    }
   ],
   "source": [
    "dados_treino_tfidf.shape"
   ]
  },
  {
   "cell_type": "code",
   "execution_count": 166,
   "id": "322a2541",
   "metadata": {},
   "outputs": [
    {
     "data": {
      "text/plain": [
       "scipy.sparse._csr.csr_matrix"
      ]
     },
     "execution_count": 166,
     "metadata": {},
     "output_type": "execute_result"
    }
   ],
   "source": [
    "type(dados_treino_tfidf)"
   ]
  },
  {
   "cell_type": "code",
   "execution_count": 189,
   "id": "0c59a6de",
   "metadata": {},
   "outputs": [],
   "source": [
    "# Converte os dados de entrada (texto) para array\n",
    "X_treino_array = dados_treino_tfidf.toarray()\n",
    "X_teste_array = dados_teste_tfidf.toarray()"
   ]
  },
  {
   "cell_type": "markdown",
   "id": "5d26c3aa",
   "metadata": {},
   "source": [
    "\n",
    "### <font color='white'>Preparação dos Dados</font>\n"
   ]
  },
  {
   "cell_type": "code",
   "execution_count": 168,
   "id": "4d05cebd",
   "metadata": {},
   "outputs": [],
   "source": [
    "dsa_le = LabelEncoder()"
   ]
  },
  {
   "cell_type": "code",
   "execution_count": 169,
   "id": "213408c2",
   "metadata": {},
   "outputs": [],
   "source": [
    "y_treino_le = dsa_le.fit_transform(dados_dsa_treino['sentimento'])"
   ]
  },
  {
   "cell_type": "code",
   "execution_count": 170,
   "id": "75a6b0e8",
   "metadata": {},
   "outputs": [],
   "source": [
    "y_teste_le = dsa_le.fit_transform(dados_dsa_teste['sentimento'])"
   ]
  },
  {
   "cell_type": "markdown",
   "id": "e2a1dde8",
   "metadata": {},
   "source": [
    "Vamos tratar de forma automática o desbalanceamento da base"
   ]
  },
  {
   "cell_type": "code",
   "execution_count": 171,
   "id": "dc117ca2",
   "metadata": {},
   "outputs": [],
   "source": [
    "#Peso das classes \n",
    "pesos_classes = compute_class_weight('balanced', classes = np.unique(y_treino_le), y = y_treino_le)"
   ]
  },
  {
   "cell_type": "code",
   "execution_count": 172,
   "id": "d3b61ffe",
   "metadata": {},
   "outputs": [
    {
     "data": {
      "text/plain": [
       "numpy.ndarray"
      ]
     },
     "execution_count": 172,
     "metadata": {},
     "output_type": "execute_result"
    }
   ],
   "source": [
    "type(pesos_classes)"
   ]
  },
  {
   "cell_type": "markdown",
   "id": "12f91dd7",
   "metadata": {},
   "source": [
    "compute_class_weight: Esta é uma função do sikit-learn que calcula os pesos para as classes. Esses pesos podem ser usados em modelos de classificação para dar maior importância a classes que são sub-representadas no conjunto de dados.\n",
    "\n",
    "'balanced': Este parâmetro indica que os pesos das classes devem ser calculados de forma que equilibrem o conjunto de dados. Isso é feito inversamente proporcional à frequência das classes no conjunto de dados. Classes mais frequentes recebem um peso menor, enquanto classes menos frequentes recebem um peso maior.\n",
    "\n",
    "classes = np.unique(y_treino_le): Aqui , np.unique(y_treino_le) encontra todas as classes únicas no conjunto de dados de treinamento. O parâmetro classe informa á função compute_class_weight quais são essas classes únicas.\n",
    "\n",
    "y = y_treino_le: Este é o vetor de rótulos do conjunto de treinamento. A função usará esses rótulos para calcular a frequência de cada classe. O resultado, armazenado em pesos_classes, é um array onde cada classe tem um peso associado. Esses pesos podem ser usados em modelos de classificação (como uma árvore de decisão, um modelo de regressão logística, SVM, etc.) para compensar o desequilíbrio entre as classes."
   ]
  },
  {
   "cell_type": "code",
   "execution_count": 173,
   "id": "ea6d99ba",
   "metadata": {},
   "outputs": [],
   "source": [
    "# Divisão em Dados de Treino e Validação\n",
    "X_treino, X_val, y_treino, y_val = train_test_split(X_treino_array,\n",
    "                                                    y_treino_le,\n",
    "                                                    test_size = 0.2,\n",
    "                                                    random_state = 42,\n",
    "                                                    stratify = y_treino_le)"
   ]
  },
  {
   "cell_type": "code",
   "execution_count": 174,
   "id": "c3d609c3",
   "metadata": {},
   "outputs": [],
   "source": [
    "# Ajusta a target como tipo categorical\n",
    "y_treino_encoded = to_categorical(y_treino)\n",
    "y_teste_encoded = to_categorical(y_teste_le)\n",
    "y_val_encoded = to_categorical(y_val)"
   ]
  },
  {
   "cell_type": "code",
   "execution_count": 175,
   "id": "1e94d93b",
   "metadata": {},
   "outputs": [
    {
     "data": {
      "text/plain": [
       "((12800, 6), (2000, 6), (3200, 6))"
      ]
     },
     "execution_count": 175,
     "metadata": {},
     "output_type": "execute_result"
    }
   ],
   "source": [
    "# Shape\n",
    "y_treino_encoded.shape, y_teste_encoded.shape, y_val_encoded.shape"
   ]
  },
  {
   "cell_type": "markdown",
   "id": "387f6a40",
   "metadata": {},
   "source": [
    "\n",
    "### <font color='white'>Construção do Modelo</font>\n"
   ]
  },
  {
   "cell_type": "code",
   "execution_count": 176,
   "id": "e6a8de9a",
   "metadata": {},
   "outputs": [],
   "source": [
    "modelo_dsa_v1 = Sequential()\n",
    "\n",
    "modelo_dsa_v1.add(Dense(4096,\n",
    "                       activation = 'selu',\n",
    "                       kernel_initializer = 'lecun_normal',\n",
    "                       input_shape = (X_treino.shape[1],),\n",
    "                       kernel_regularizer = tf.keras.regularizers.l2(0.01)))\n",
    "\n",
    "modelo_dsa_v1.add(Dense(2048,\n",
    "                       activation = 'selu',\n",
    "                       kernel_initializer = 'lecun_normal',\n",
    "                       kernel_regularizer = tf.keras.regularizers.l2(0.01)))\n",
    "\n",
    "modelo_dsa_v1.add(Dense(1024,\n",
    "                       activation = 'selu',\n",
    "                       kernel_initializer = 'lecun_normal',\n",
    "                       kernel_regularizer = tf.keras.regularizers.l2(0.1)))\n",
    "\n",
    "\n",
    "modelo_dsa_v1.add(Dense(64, activation = 'selu',))\n",
    "\n",
    "modelo_dsa_v1.add(Dense(6, activation = 'softmax',))"
   ]
  },
  {
   "cell_type": "markdown",
   "id": "5f3a7eca",
   "metadata": {},
   "source": [
    "\n",
    "### <font color='white'>Compilação e Sumário</font>\n"
   ]
  },
  {
   "cell_type": "code",
   "execution_count": 177,
   "id": "9c85d818",
   "metadata": {},
   "outputs": [
    {
     "data": {
      "text/plain": [
       "<tf.Variable 'UnreadVariable' shape=(6,) dtype=float32, numpy=\n",
       "array([1.2351397 , 1.3766993 , 0.49732688, 2.0449898 , 0.5715102 ,\n",
       "       4.6620045 ], dtype=float32)>"
      ]
     },
     "execution_count": 177,
     "metadata": {},
     "output_type": "execute_result"
    }
   ],
   "source": [
    "#Esta parte diz ao modelo para utilizar um peso um pouco maior as classes minoritárias\n",
    "modelo_dsa_v1.layers[-1].bias.assign(pesos_classes)"
   ]
  },
  {
   "cell_type": "code",
   "execution_count": 178,
   "id": "3a6413cc",
   "metadata": {},
   "outputs": [],
   "source": [
    "modelo_dsa_v1.compile(optimizer = 'Adam',\n",
    "                     loss = tf.losses.categorical_crossentropy,\n",
    "                     metrics = ['accuracy'])"
   ]
  },
  {
   "cell_type": "code",
   "execution_count": 179,
   "id": "1413de72",
   "metadata": {},
   "outputs": [
    {
     "name": "stdout",
     "output_type": "stream",
     "text": [
      "Model: \"sequential_4\"\n",
      "_________________________________________________________________\n",
      " Layer (type)                Output Shape              Param #   \n",
      "=================================================================\n",
      " dense_15 (Dense)            (None, 4096)              22884352  \n",
      "                                                                 \n",
      " dense_16 (Dense)            (None, 2048)              8390656   \n",
      "                                                                 \n",
      " dense_17 (Dense)            (None, 1024)              2098176   \n",
      "                                                                 \n",
      " dense_18 (Dense)            (None, 64)                65600     \n",
      "                                                                 \n",
      " dense_19 (Dense)            (None, 6)                 390       \n",
      "                                                                 \n",
      "=================================================================\n",
      "Total params: 33439174 (127.56 MB)\n",
      "Trainable params: 33439174 (127.56 MB)\n",
      "Non-trainable params: 0 (0.00 Byte)\n",
      "_________________________________________________________________\n"
     ]
    }
   ],
   "source": [
    "modelo_dsa_v1.summary()"
   ]
  },
  {
   "cell_type": "markdown",
   "id": "ece61b32",
   "metadata": {},
   "source": [
    "\n",
    "### <font color='white'>Callbacks e Early Stopping</font>\n"
   ]
  },
  {
   "cell_type": "code",
   "execution_count": 180,
   "id": "b6dad01d",
   "metadata": {},
   "outputs": [],
   "source": [
    "def step_decay(epoch):\n",
    "    initial_lrate = 0.001\n",
    "    drop = 0.5\n",
    "    epochs_drop = 10.0\n",
    "    lrate = initial_lrate * math.pow(drop, math.floor((1+ epoch)/epochs_drop))\n",
    "    return lrate"
   ]
  },
  {
   "cell_type": "code",
   "execution_count": 181,
   "id": "ce55360e",
   "metadata": {},
   "outputs": [],
   "source": [
    "lr_scheduler = LearningRateScheduler(step_decay)"
   ]
  },
  {
   "cell_type": "code",
   "execution_count": 182,
   "id": "f2ef018b",
   "metadata": {},
   "outputs": [],
   "source": [
    "early_stopping = EarlyStopping(monitor = 'val_loss', restore_best_weights = True, patience = 3)"
   ]
  },
  {
   "cell_type": "markdown",
   "id": "1ecc2048",
   "metadata": {},
   "source": [
    "\n",
    "### <font color='white'>Treinamento</font>\n"
   ]
  },
  {
   "cell_type": "code",
   "execution_count": 183,
   "id": "4c11b2fa",
   "metadata": {},
   "outputs": [],
   "source": [
    "num_epochs = 20\n",
    "tamanho_batch = 256"
   ]
  },
  {
   "cell_type": "code",
   "execution_count": 184,
   "id": "b87efdc4",
   "metadata": {},
   "outputs": [
    {
     "name": "stdout",
     "output_type": "stream",
     "text": [
      "Epoch 1/20\n",
      "50/50 [==============================] - 37s 725ms/step - loss: 36.9259 - accuracy: 0.6749 - val_loss: 2.2872 - val_accuracy: 0.8016 - lr: 0.0010\n",
      "Epoch 2/20\n",
      "50/50 [==============================] - 39s 772ms/step - loss: 1.4881 - accuracy: 0.8040 - val_loss: 1.2814 - val_accuracy: 0.8072 - lr: 0.0010\n",
      "Epoch 3/20\n",
      "50/50 [==============================] - 38s 754ms/step - loss: 1.2125 - accuracy: 0.8235 - val_loss: 1.2637 - val_accuracy: 0.7919 - lr: 0.0010\n",
      "Epoch 4/20\n",
      "50/50 [==============================] - 39s 772ms/step - loss: 1.0610 - accuracy: 0.8548 - val_loss: 1.0853 - val_accuracy: 0.8356 - lr: 0.0010\n",
      "Epoch 5/20\n",
      "50/50 [==============================] - 39s 771ms/step - loss: 0.9585 - accuracy: 0.8784 - val_loss: 1.1265 - val_accuracy: 0.8203 - lr: 0.0010\n",
      "Epoch 6/20\n",
      "50/50 [==============================] - 38s 769ms/step - loss: 0.9363 - accuracy: 0.8932 - val_loss: 1.1068 - val_accuracy: 0.8353 - lr: 0.0010\n",
      "Epoch 7/20\n",
      "50/50 [==============================] - 38s 753ms/step - loss: 0.8796 - accuracy: 0.9056 - val_loss: 1.1294 - val_accuracy: 0.8316 - lr: 0.0010\n",
      "CPU times: total: 24min 48s\n",
      "Wall time: 4min 27s\n"
     ]
    }
   ],
   "source": [
    "%%time\n",
    "history = modelo_dsa_v1.fit(X_treino,\n",
    "                           y_treino_encoded,\n",
    "                           validation_data = (X_val, y_val_encoded),\n",
    "                           epochs = num_epochs,\n",
    "                           batch_size = tamanho_batch,\n",
    "                           callbacks = [early_stopping, lr_scheduler])"
   ]
  },
  {
   "cell_type": "markdown",
   "id": "80b73848",
   "metadata": {},
   "source": [
    "### <font color='white'>Avaliação do Modelo</font>"
   ]
  },
  {
   "cell_type": "code",
   "execution_count": 185,
   "id": "2099d320",
   "metadata": {},
   "outputs": [],
   "source": [
    "loss, val_loss = history.history['loss'], history.history['val_loss']"
   ]
  },
  {
   "cell_type": "code",
   "execution_count": 186,
   "id": "46bb9c7d",
   "metadata": {},
   "outputs": [
    {
     "data": {
      "image/png": "[encoded data removed]",
      "text/plain": [
       "<Figure size 640x480 with 1 Axes>"
      ]
     },
     "metadata": {},
     "output_type": "display_data"
    }
   ],
   "source": [
    "plt.plot(loss, label = 'loss')\n",
    "plt.plot(val_loss, label = 'val_loss')\n",
    "plt.legend()\n",
    "plt.show()"
   ]
  },
  {
   "cell_type": "markdown",
   "id": "fd991e55",
   "metadata": {},
   "source": [
    "### <font color='white'>Previsões com dados de teste</font>"
   ]
  },
  {
   "cell_type": "code",
   "execution_count": 190,
   "id": "f94170b3",
   "metadata": {},
   "outputs": [
    {
     "name": "stdout",
     "output_type": "stream",
     "text": [
      "63/63 [==============================] - 3s 45ms/step\n"
     ]
    }
   ],
   "source": [
    "previsoes_v1 = modelo_dsa_v1.predict(X_teste_array)"
   ]
  },
  {
   "cell_type": "code",
   "execution_count": 191,
   "id": "808fee92",
   "metadata": {},
   "outputs": [],
   "source": [
    "previsoes_v1_labels = previsoes_v1.argmax(axis = 1)"
   ]
  },
  {
   "cell_type": "code",
   "execution_count": 192,
   "id": "ae508d5c",
   "metadata": {},
   "outputs": [
    {
     "name": "stdout",
     "output_type": "stream",
     "text": [
      "              precision    recall  f1-score   support\n",
      "\n",
      "           0       0.84      0.77      0.80       275\n",
      "           1       0.77      0.85      0.81       224\n",
      "           2       0.89      0.88      0.88       695\n",
      "           3       0.69      0.70      0.70       159\n",
      "           4       0.85      0.90      0.87       581\n",
      "           5       0.90      0.41      0.56        66\n",
      "\n",
      "    accuracy                           0.84      2000\n",
      "   macro avg       0.82      0.75      0.77      2000\n",
      "weighted avg       0.84      0.84      0.84      2000\n",
      "\n"
     ]
    }
   ],
   "source": [
    "print(classification_report(y_teste_le, previsoes_v1_labels))"
   ]
  },
  {
   "cell_type": "code",
   "execution_count": 193,
   "id": "8ec37e7e",
   "metadata": {},
   "outputs": [
    {
     "name": "stdout",
     "output_type": "stream",
     "text": [
      "[[213  12  18   0  32   0]\n",
      " [  9 190   5   0  19   1]\n",
      " [  9   7 610  39  30   0]\n",
      " [  3   1  30 112  12   1]\n",
      " [ 20  13  16   7 524   1]\n",
      " [  1  25   7   4   2  27]]\n"
     ]
    }
   ],
   "source": [
    "print(confusion_matrix(y_teste_le, previsoes_v1_labels))"
   ]
  },
  {
   "cell_type": "code",
   "execution_count": 195,
   "id": "53c471a0",
   "metadata": {},
   "outputs": [
    {
     "name": "stdout",
     "output_type": "stream",
     "text": [
      "0.838\n"
     ]
    }
   ],
   "source": [
    "print(accuracy_score(y_teste_le, previsoes_v1_labels))"
   ]
  },
  {
   "cell_type": "code",
   "execution_count": 196,
   "id": "0ad9eab0",
   "metadata": {},
   "outputs": [],
   "source": [
    "modelo_dsa_v1.save('modelo_dsa_v1.keras')"
   ]
  },
  {
   "cell_type": "markdown",
   "id": "3640d3a2",
   "metadata": {},
   "source": [
    "### <font color='white'>Deploy da Versão 1 do Modelo</font>"
   ]
  },
  {
   "cell_type": "code",
   "execution_count": 199,
   "id": "b7b819c8",
   "metadata": {},
   "outputs": [],
   "source": [
    "modelo = load_model('modelo_dsa_v1.keras')"
   ]
  },
  {
   "cell_type": "code",
   "execution_count": 200,
   "id": "9ccf4a97",
   "metadata": {},
   "outputs": [],
   "source": [
    "#Nova frase (sentimento = fear)\n",
    "frase = \"i even fell a little shaky\""
   ]
  },
  {
   "cell_type": "code",
   "execution_count": 201,
   "id": "a178b976",
   "metadata": {},
   "outputs": [],
   "source": [
    "#cria um df com a frase\n",
    "df_novo = pd.DataFrame({'Frase': [frase]})"
   ]
  },
  {
   "cell_type": "code",
   "execution_count": 204,
   "id": "f48ac8b5",
   "metadata": {},
   "outputs": [],
   "source": [
    "#Aplica a função de processamento\n",
    "df_novo['Frase_Processada'] = df_novo['Frase'].apply(dsa_preprocessa_texto) "
   ]
  },
  {
   "cell_type": "code",
   "execution_count": 205,
   "id": "c2e973d3",
   "metadata": {},
   "outputs": [
    {
     "data": {
      "text/html": [
       "<div>\n",
       "<style scoped>\n",
       "    .dataframe tbody tr th:only-of-type {\n",
       "        vertical-align: middle;\n",
       "    }\n",
       "\n",
       "    .dataframe tbody tr th {\n",
       "        vertical-align: top;\n",
       "    }\n",
       "\n",
       "    .dataframe thead th {\n",
       "        text-align: right;\n",
       "    }\n",
       "</style>\n",
       "<table border=\"1\" class=\"dataframe\">\n",
       "  <thead>\n",
       "    <tr style=\"text-align: right;\">\n",
       "      <th></th>\n",
       "      <th>Frase</th>\n",
       "      <th>Frase_Processada</th>\n",
       "    </tr>\n",
       "  </thead>\n",
       "  <tbody>\n",
       "    <tr>\n",
       "      <th>0</th>\n",
       "      <td>i even fell a little shaky</td>\n",
       "      <td>fall little shaky</td>\n",
       "    </tr>\n",
       "  </tbody>\n",
       "</table>\n",
       "</div>"
      ],
      "text/plain": [
       "                        Frase   Frase_Processada\n",
       "0  i even fell a little shaky  fall little shaky"
      ]
     },
     "execution_count": 205,
     "metadata": {},
     "output_type": "execute_result"
    }
   ],
   "source": [
    "df_novo"
   ]
  },
  {
   "cell_type": "code",
   "execution_count": 207,
   "id": "0d25768b",
   "metadata": {},
   "outputs": [],
   "source": [
    "#Aplica a vetorização\n",
    "df_novo_tfidf = dsa_tfidf.transform(df_novo['Frase_Processada'])"
   ]
  },
  {
   "cell_type": "code",
   "execution_count": 208,
   "id": "467fd841",
   "metadata": {},
   "outputs": [],
   "source": [
    "#Transforma em array\n",
    "df_novo_array = df_novo_tfidf.toarray()"
   ]
  },
  {
   "cell_type": "code",
   "execution_count": 209,
   "id": "14be52c3",
   "metadata": {},
   "outputs": [
    {
     "name": "stdout",
     "output_type": "stream",
     "text": [
      "1/1 [==============================] - 0s 104ms/step\n"
     ]
    }
   ],
   "source": [
    "previsoes = modelo.predict(df_novo_array)"
   ]
  },
  {
   "cell_type": "code",
   "execution_count": 210,
   "id": "c0bae69e",
   "metadata": {},
   "outputs": [
    {
     "data": {
      "text/plain": [
       "array([[8.9615444e-03, 9.4486076e-01, 6.5378030e-03, 2.8900744e-04,\n",
       "        8.7002814e-03, 3.0650536e-02]], dtype=float32)"
      ]
     },
     "execution_count": 210,
     "metadata": {},
     "output_type": "execute_result"
    }
   ],
   "source": [
    "previsoes"
   ]
  },
  {
   "cell_type": "code",
   "execution_count": 211,
   "id": "30969f3d",
   "metadata": {},
   "outputs": [],
   "source": [
    "# Seleciona a classe com maior probabilidade\n",
    "classe_maior_prob = np.argmax(previsoes, axis = 1)"
   ]
  },
  {
   "cell_type": "code",
   "execution_count": 212,
   "id": "f4947cd3",
   "metadata": {},
   "outputs": [
    {
     "data": {
      "text/plain": [
       "array([1], dtype=int64)"
      ]
     },
     "execution_count": 212,
     "metadata": {},
     "output_type": "execute_result"
    }
   ],
   "source": [
    "classe_maior_prob"
   ]
  },
  {
   "cell_type": "code",
   "execution_count": 213,
   "id": "10830c8e",
   "metadata": {},
   "outputs": [],
   "source": [
    "# Obtém o nome da classe\n",
    "nome_classe = dsa_le.inverse_transform(classe_maior_prob)"
   ]
  },
  {
   "cell_type": "code",
   "execution_count": 214,
   "id": "884627fc",
   "metadata": {},
   "outputs": [
    {
     "data": {
      "text/plain": [
       "array(['fear'], dtype=object)"
      ]
     },
     "execution_count": 214,
     "metadata": {},
     "output_type": "execute_result"
    }
   ],
   "source": [
    "# Classe prevista\n",
    "nome_classe"
   ]
  },
  {
   "cell_type": "code",
   "execution_count": null,
   "id": "c318466b",
   "metadata": {},
   "outputs": [],
   "source": []
  },
  {
   "cell_type": "code",
   "execution_count": null,
   "id": "161eb5ce",
   "metadata": {},
   "outputs": [],
   "source": []
  },
  {
   "cell_type": "code",
   "execution_count": null,
   "id": "51dff20f",
   "metadata": {},
   "outputs": [],
   "source": []
  }
 ],
 "metadata": {
  "kernelspec": {
   "display_name": "Python 3 (ipykernel)",
   "language": "python",
   "name": "python3"
  },
  "language_info": {
   "codemirror_mode": {
    "name": "ipython",
    "version": 3
   },
   "file_extension": ".py",
   "mimetype": "text/x-python",
   "name": "python",
   "nbconvert_exporter": "python",
   "pygments_lexer": "ipython3",
   "version": "3.11.5"
  }
 },
 "nbformat": 4,
 "nbformat_minor": 5
}
